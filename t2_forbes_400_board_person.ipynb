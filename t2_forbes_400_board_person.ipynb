{
 "cells": [
  {
   "cell_type": "markdown",
   "metadata": {},
   "source": [
    "## Table 2: Marginal effects for university board membership among Forbes 400\n",
    "\n",
    "### From Elite Embeddedness\n",
    "\n",
    "By Charlie Eaton and Albina Gibadullina"
   ]
  },
  {
   "cell_type": "code",
   "execution_count": 1,
   "metadata": {},
   "outputs": [],
   "source": [
    "set more off\n",
    "use id name boardunitid1 boardunitid2 mbaunitid college collegeunitid jdunitid firstname lastname boardtop30private boardtop30public pehedge ///\n",
    "otherfin technology worth inherited collegeschooltype mbaschooltype year using ///\n",
    "data/d_forbes400_alum_board_1989_2003_2017, clear"
   ]
  },
  {
   "cell_type": "code",
   "execution_count": 2,
   "metadata": {},
   "outputs": [
    {
     "name": "stdout",
     "output_type": "stream",
     "text": [
      "\n",
      "\n",
      "(1,015 real changes made)\n"
     ]
    }
   ],
   "source": [
    "gen alumboard=boardunitid1==collegeunitid | boardunitid1==mbaunitid | boardunitid1==jdunitid ///\n",
    "    | boardunitid2==collegeunitid | boardunitid2==mbaunitid | boardunitid2==jdunitid\n",
    "replace alumboard=0 if boardunitid1==."
   ]
  },
  {
   "cell_type": "code",
   "execution_count": 3,
   "metadata": {},
   "outputs": [
    {
     "name": "stdout",
     "output_type": "stream",
     "text": [
      "\n",
      "\n",
      "(422 real changes made)\n"
     ]
    }
   ],
   "source": [
    "gen ba_alumboard=boardunitid1==collegeunitid | boardunitid2==collegeunitid\n",
    "replace ba_alumboard=0 if boardunitid1==."
   ]
  },
  {
   "cell_type": "code",
   "execution_count": 4,
   "metadata": {},
   "outputs": [
    {
     "name": "stdout",
     "output_type": "stream",
     "text": [
      "\n",
      "\n",
      "(400 observations deleted)\n"
     ]
    }
   ],
   "source": [
    "set line 255\n",
    "drop if year==1989"
   ]
  },
  {
   "cell_type": "code",
   "execution_count": 5,
   "metadata": {},
   "outputs": [],
   "source": [
    "qui label var boardtop30private \"held seat on top 30 private university board\"\n",
    "qui label var pehedge \"private equity or hedge fund partner\"\n",
    "qui label var otherfin \"partner or owner of other financial enterprise\"\n",
    "qui label var technology \"partner or owner in technology firm, but not financial enterprises\"\n",
    "qui label var worth \"net worth\"\n",
    "qui label var inherited \"in Forbes inherited wealth category\"\n",
    "qui label var year \"year of observation\"\n",
    "qui label var id \"person-level unique ID\"\n",
    "qui label var collegeschooltype \"BA school status\"\n",
    "qui replace boardtop30public=. if year==1989\n",
    "\n",
    "qui  gen toppublicmba=0\n",
    "qui  replace toppublicmba=1 if mbaschooltype==2\n",
    "qui gen topprivatemba=0\n",
    "qui replace topprivatemba=1 if mbaschooltype==3\n",
    "qui gen toppublicba=0\n",
    "qui replace toppublicba=1 if collegeschooltype==2\n",
    "qui gen topprivateba=0\n",
    "qui replace topprivateba=1 if collegeschooltype==3"
   ]
  },
  {
   "cell_type": "code",
   "execution_count": 6,
   "metadata": {},
   "outputs": [],
   "source": [
    "est clear\n",
    "\n",
    "quietly logit boardtop30private i.pehedge i.otherfin i.technology worth i.inherited ///\n",
    "if year>2000, ro cluster(id) \n",
    "\n",
    "qui eststo: margins, dydx(*) post\n",
    "\n",
    "qui logit boardtop30private i.pehedge i.otherfin i.technology worth i.inherited ///\n",
    "i.toppublicba i.topprivateba i.toppublicmba i.topprivatemba if year>2000, ro cluster(id)\n",
    "\n",
    "qui eststo: margins, dydx(*) post\n",
    "\n",
    "qui logit boardtop30public worth i.inherited ///\n",
    "i.toppublicba i.topprivateba if year>2000, ro cluster(id) \n",
    "\n",
    "qui eststo: margins, dydx(*) post"
   ]
  },
  {
   "cell_type": "code",
   "execution_count": 7,
   "metadata": {},
   "outputs": [
    {
     "data": {
      "text/html": [
       "\n",
       "Table 2: Marginal effects for university board membership among Forbes 400\n",
       "\n",
       "\n",
       "<table border=\"0\" width=\"*\">\n",
       "<tr><td colspan=7><hr></td></tr>\n",
       "<tr><td>            </td><td>         (1)</td><td>   </td><td>         (2)</td><td>   </td><td>         (3)</td><td>   </td></tr>\n",
       "<tr><td>            </td><td>Top 30 Private</td><td>   </td><td>Top 30 Private</td><td>   </td><td>Top 30 Public</td><td>   </td></tr>\n",
       "<tr><td colspan=7><hr></td></tr>\n",
       "<tr><td>private equity / hedge fund</td><td>        0.17</td><td>** </td><td>        0.06</td><td>   </td><td>            </td><td>   </td></tr>\n",
       "<tr><td>            </td><td>      (0.06)</td><td>   </td><td>      (0.04)</td><td>   </td><td>            </td><td>   </td></tr>\n",
       "<tr><td>other finance</td><td>        0.07</td><td>   </td><td>        0.04</td><td>   </td><td>            </td><td>   </td></tr>\n",
       "<tr><td>            </td><td>      (0.06)</td><td>   </td><td>      (0.05)</td><td>   </td><td>            </td><td>   </td></tr>\n",
       "<tr><td>technology  </td><td>        0.03</td><td>   </td><td>        0.01</td><td>   </td><td>            </td><td>   </td></tr>\n",
       "<tr><td>            </td><td>      (0.06)</td><td>   </td><td>      (0.05)</td><td>   </td><td>            </td><td>   </td></tr>\n",
       "<tr><td>inherited wealth</td><td>       -0.04</td><td>*  </td><td>       -0.03</td><td>   </td><td>        0.00</td><td>   </td></tr>\n",
       "<tr><td>            </td><td>      (0.02)</td><td>   </td><td>      (0.02)</td><td>   </td><td>      (0.01)</td><td>   </td></tr>\n",
       "<tr><td>worth in billions (2017 $)</td><td>       -0.00</td><td>   </td><td>       -0.00</td><td>   </td><td>       -0.00</td><td>   </td></tr>\n",
       "<tr><td>            </td><td>      (0.00)</td><td>   </td><td>      (0.00)</td><td>   </td><td>      (0.00)</td><td>   </td></tr>\n",
       "<tr><td>Top 30 public BA</td><td>            </td><td>   </td><td>        0.06</td><td>   </td><td>        0.01</td><td>   </td></tr>\n",
       "<tr><td>            </td><td>            </td><td>   </td><td>      (0.06)</td><td>   </td><td>      (0.01)</td><td>   </td></tr>\n",
       "<tr><td>Top 30 private BA</td><td>            </td><td>   </td><td>        0.14</td><td>***</td><td>       -0.01</td><td>   </td></tr>\n",
       "<tr><td>            </td><td>            </td><td>   </td><td>      (0.04)</td><td>   </td><td>      (0.01)</td><td>   </td></tr>\n",
       "<tr><td>Top 30 public MBA</td><td>            </td><td>   </td><td>        0.07</td><td>   </td><td>            </td><td>   </td></tr>\n",
       "<tr><td>            </td><td>            </td><td>   </td><td>      (0.15)</td><td>   </td><td>            </td><td>   </td></tr>\n",
       "<tr><td>Top 30 private MBA</td><td>            </td><td>   </td><td>        0.15</td><td>** </td><td>            </td><td>   </td></tr>\n",
       "<tr><td>            </td><td>            </td><td>   </td><td>      (0.05)</td><td>   </td><td>            </td><td>   </td></tr>\n",
       "<tr><td colspan=7><hr></td></tr>\n",
       "<tr><td><i>N</i>    </td><td>         800</td><td>   </td><td>         800</td><td>   </td><td>         800</td><td>   </td></tr>\n",
       "<tr><td colspan=7><hr></td></tr>\n",
       "<tr><td colspan=7>\n",
       "^ p<.1, * p<.05, ** p<.01, *** p<.001\n",
       "</td></tr>\n",
       "</table>\n",
       "\n"
      ],
      "text/plain": [
       "This front-end or document format cannot display HTML"
      ]
     },
     "metadata": {},
     "output_type": "display_data"
    }
   ],
   "source": [
    "%html\n",
    "\n",
    "display \"Table 2: Marginal effects for university board membership among Forbes 400\"\n",
    "esttab ///\n",
    ", cells(b(star fmt(2)) se(fmt(2) par)) stardetach  ///\n",
    "\tlegend starlevels(^ .1 * .05 ** .01 *** .001) ///\n",
    "    keep ( worth 1.inherited 1.technology 1.pehedge 1.otherfin ///\n",
    "1.toppublicba 1.topprivateba 1.toppublicmba 1.topprivatemba) ///\n",
    "\torder ( 1.pehedge 1.otherfin 1.technology 1.inherited worth  ///\n",
    "1.toppublicba 1.topprivateba 1.toppublicmba 1.topprivatemba acceptrate) ///\n",
    "coeflabels(1.pehedge \"private equity / hedge fund\" 1.otherfin \"other finance\" ///\n",
    "1.technology \"technology\" worth \"worth in billions (2017 $)\" 1.inherited \"inherited wealth\" ///\n",
    "1.toppublicba \"Top 30 public BA\" 1.topprivateba \"Top 30 private BA\" ///\n",
    "1.toppublicmba \"Top 30 public MBA\" 1.topprivatemba \"Top 30 private MBA\") ///\n",
    "replace br  html collabels(none) ///\n",
    "mlabels(\"Top 30 Private\" \"Top 30 Private\" \"Top 30 Public\") ///\n",
    "eqlabels(none)"
   ]
  },
  {
   "cell_type": "code",
   "execution_count": 113,
   "metadata": {},
   "outputs": [
    {
     "data": {
      "text/html": [
       "\n",
       "<table border=\"0\" width=\"*\">\n",
       "<caption>Table 2: Marginal effects for university board membership among Forbes 400</caption>\n",
       "<tr><td colspan=7><hr></td></tr>\n",
       "<tr><td>            </td><td>         (1)</td><td>   </td><td>         (2)</td><td>   </td><td>         (3)</td><td>   </td></tr>\n",
       "<tr><td>            </td><td>Top 30 Private</td><td>   </td><td>Top 30 Private</td><td>   </td><td>Top 30 Public</td><td>   </td></tr>\n",
       "<tr><td colspan=7><hr></td></tr>\n",
       "<tr><td>private equity / hedge fund</td><td>        0.18</td><td>** </td><td>        0.06</td><td>   </td><td>            </td><td>   </td></tr>\n",
       "<tr><td>            </td><td>      (0.06)</td><td>   </td><td>      (0.04)</td><td>   </td><td>            </td><td>   </td></tr>\n",
       "<tr><td>other finance</td><td>        0.07</td><td>   </td><td>        0.04</td><td>   </td><td>            </td><td>   </td></tr>\n",
       "<tr><td>            </td><td>      (0.06)</td><td>   </td><td>      (0.05)</td><td>   </td><td>            </td><td>   </td></tr>\n",
       "<tr><td>technology  </td><td>        0.03</td><td>   </td><td>        0.01</td><td>   </td><td>            </td><td>   </td></tr>\n",
       "<tr><td>            </td><td>      (0.06)</td><td>   </td><td>      (0.05)</td><td>   </td><td>            </td><td>   </td></tr>\n",
       "<tr><td>inherited wealth</td><td>       -0.05</td><td>*  </td><td>       -0.04</td><td>^  </td><td>        0.00</td><td>   </td></tr>\n",
       "<tr><td>            </td><td>      (0.02)</td><td>   </td><td>      (0.02)</td><td>   </td><td>      (0.01)</td><td>   </td></tr>\n",
       "<tr><td>worth in billions (2017 $)</td><td>       -0.00</td><td>   </td><td>       -0.00</td><td>   </td><td>       -0.00</td><td>   </td></tr>\n",
       "<tr><td>            </td><td>      (0.00)</td><td>   </td><td>      (0.00)</td><td>   </td><td>      (0.00)</td><td>   </td></tr>\n",
       "<tr><td>Top 30 public BA</td><td>            </td><td>   </td><td>        0.06</td><td>   </td><td>        0.01</td><td>   </td></tr>\n",
       "<tr><td>            </td><td>            </td><td>   </td><td>      (0.06)</td><td>   </td><td>      (0.01)</td><td>   </td></tr>\n",
       "<tr><td>Top 30 private BA</td><td>            </td><td>   </td><td>        0.15</td><td>***</td><td>       -0.01</td><td>   </td></tr>\n",
       "<tr><td>            </td><td>            </td><td>   </td><td>      (0.04)</td><td>   </td><td>      (0.01)</td><td>   </td></tr>\n",
       "<tr><td>Top 30 public MBA</td><td>            </td><td>   </td><td>        0.06</td><td>   </td><td>            </td><td>   </td></tr>\n",
       "<tr><td>            </td><td>            </td><td>   </td><td>      (0.15)</td><td>   </td><td>            </td><td>   </td></tr>\n",
       "<tr><td>Top 30 private MBA</td><td>            </td><td>   </td><td>        0.14</td><td>** </td><td>            </td><td>   </td></tr>\n",
       "<tr><td>            </td><td>            </td><td>   </td><td>      (0.05)</td><td>   </td><td>            </td><td>   </td></tr>\n",
       "<tr><td colspan=7><hr></td></tr>\n",
       "<tr><td><i>N</i>    </td><td>         800</td><td>   </td><td>         800</td><td>   </td><td>         800</td><td>   </td></tr>\n",
       "<tr><td colspan=7><hr></td></tr>\n",
       "<tr><td colspan=7>\n",
       "^ p<.1, * p<.05, ** p<.01, *** p<.001\n",
       "</td></tr>\n",
       "</table>\n",
       "\n"
      ],
      "text/plain": [
       "This front-end or document format cannot display HTML"
      ]
     },
     "metadata": {},
     "output_type": "display_data"
    }
   ],
   "source": [
    "%html\n",
    "\n",
    "esttab ///\n",
    ", cells(b(star fmt(2)) se(fmt(2) par)) stardetach  ///\n",
    "\tlegend starlevels(^ .1 * .05 ** .01 *** .001) ///\n",
    "    keep ( worth 1.inherited 1.technology 1.pehedge 1.otherfin ///\n",
    "1.toppublicba 1.topprivateba 1.toppublicmba 1.topprivatemba) ///\n",
    "\torder ( 1.pehedge 1.otherfin 1.technology 1.inherited worth  ///\n",
    "1.toppublicba 1.topprivateba 1.toppublicmba 1.topprivatemba acceptrate) ///\n",
    "coeflabels(1.pehedge \"private equity / hedge fund\" 1.otherfin \"other finance\" ///\n",
    "1.technology \"technology\" worth \"worth in billions (2017 $)\" 1.inherited \"inherited wealth\" ///\n",
    "1.toppublicba \"Top 30 public BA\" 1.topprivateba \"Top 30 private BA\" ///\n",
    "1.toppublicmba \"Top 30 public MBA\" 1.topprivatemba \"Top 30 private MBA\") ///\n",
    "replace br  html collabels(none) ///\n",
    "mlabels(\"Top 30 Private\" \"Top 30 Private\" \"Top 30 Public\") ///\n",
    "title(Table 2: Marginal effects for university board membership among Forbes 400) eqlabels(none)"
   ]
  },
  {
   "cell_type": "code",
   "execution_count": 112,
   "metadata": {},
   "outputs": [
    {
     "name": "stdout",
     "output_type": "stream",
     "text": [
      "(file t2_forbes_400_board.rtf not found)\n",
      "(output written to t2_forbes_400_board.rtf)\n"
     ]
    }
   ],
   "source": [
    "esttab using t2_forbes_400_board.rtf  ///\n",
    ", cells(b(star fmt(2)) se(fmt(2) par)) stardetach  ///\n",
    "\tlegend starlevels(^ .1 * .05 ** .01 *** .001) ///\n",
    "    keep ( worth 1.inherited 1.technology 1.pehedge 1.otherfin ///\n",
    "1.toppublicba 1.topprivateba 1.toppublicmba 1.topprivatemba) ///\n",
    "\torder ( 1.pehedge 1.otherfin 1.technology 1.inherited worth  ///\n",
    "1.toppublicba 1.topprivateba 1.toppublicmba 1.topprivatemba acceptrate) ///\n",
    "coeflabels(1.pehedge \"private equity / hedge fund\" 1.otherfin \"other finance\" ///\n",
    "1.tech \"technology\" worth \"worth in billions (2017 $)\" 1.inherited \"inherited wealth\" ///\n",
    "1.toppublicba \"Top 30 public BA\" 1.topprivateba \"Top 30 private BA\" ///\n",
    "1.toppublicmba \"Top 30 public MBA\" 1.topprivatemba \"Top 30 private MBA\") ///\n",
    "replace br collabels(none) ///\n",
    "mlabels(\"Top 30 Private\" \"Top 30 Private\" \"Top 30 Public\") ///\n",
    "title(Table 2: Marginal effects for university board membership among Forbes 400) eqlabels(none)"
   ]
  },
  {
   "cell_type": "code",
   "execution_count": null,
   "metadata": {},
   "outputs": [],
   "source": [
    "sum boardtop30private if pehedge!=1 & otherfin!=1 & technology!=1 & year==2017\n",
    "sum boardtop30private if pehedge==1 & year==2017\n",
    "sum boardtop30private if otherfin==1 & year==2017\n",
    "sum boardtop30private if technology==1 & year==2017\n",
    "\n",
    "tab ba_alumboard alumboard \n",
    "tab boardtop30private\n",
    "tab boardtop30public\n",
    "list name boardunitid1 college collegeunitid year if alumboard==1 & boardtop30private!=1 & boardtop30private!=1"
   ]
  }
 ],
 "metadata": {
  "kernelspec": {
   "display_name": "Stata",
   "language": "stata",
   "name": "stata"
  },
  "language_info": {
   "codemirror_mode": "stata",
   "file_extension": ".do",
   "mimetype": "text/x-stata",
   "name": "stata",
   "version": "15.1"
  }
 },
 "nbformat": 4,
 "nbformat_minor": 4
}
