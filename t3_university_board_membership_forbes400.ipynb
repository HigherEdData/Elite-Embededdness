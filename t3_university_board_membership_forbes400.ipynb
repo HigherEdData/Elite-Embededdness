{
 "cells": [
  {
   "cell_type": "markdown",
   "metadata": {},
   "source": [
    "## Table 3: Marginal effects for university board membership among Forbes 400\n",
    "\n",
    "### From Elite Embeddedness\n",
    "\n",
    "By Charlie Eaton and Albina Gibadullina"
   ]
  },
  {
   "cell_type": "code",
   "execution_count": 1,
   "metadata": {},
   "outputs": [
    {
     "data": {
      "text/html": [
       "<style>div.jp-Notebook .datagrid-container {min-height: 448px; }</style>"
      ],
      "text/plain": [
       "<IPython.core.display.HTML object>"
      ]
     },
     "metadata": {},
     "output_type": "display_data"
    }
   ],
   "source": [
    "use id name boardunitid1 boardunitid2 mbaunitid college collegeunitid jdunitid boardtop30private boardtop30public pehedge ///\n",
    "otherfin technology worth inherited collegeschooltype mbaschooltype year using ///\n",
    "data/d_forbes400_alum_board_1989_2003_2017, clear"
   ]
  },
  {
   "cell_type": "code",
   "execution_count": 2,
   "metadata": {},
   "outputs": [
    {
     "name": "stdout",
     "output_type": "stream",
     "text": [
      "(1,015 real changes made)\n"
     ]
    }
   ],
   "source": [
    "gen alumboard=boardunitid1==collegeunitid | boardunitid1==mbaunitid | boardunitid1==jdunitid ///\n",
    "    | boardunitid2==collegeunitid | boardunitid2==mbaunitid | boardunitid2==jdunitid\n",
    "replace alumboard=0 if boardunitid1==."
   ]
  },
  {
   "cell_type": "code",
   "execution_count": 3,
   "metadata": {},
   "outputs": [
    {
     "name": "stdout",
     "output_type": "stream",
     "text": [
      "(422 real changes made)\n"
     ]
    }
   ],
   "source": [
    "gen ba_alumboard=boardunitid1==collegeunitid | boardunitid2==collegeunitid\n",
    "replace ba_alumboard=0 if boardunitid1==."
   ]
  },
  {
   "cell_type": "code",
   "execution_count": 4,
   "metadata": {},
   "outputs": [
    {
     "name": "stdout",
     "output_type": "stream",
     "text": [
      "(400 observations deleted)\n"
     ]
    }
   ],
   "source": [
    "set line 255\n",
    "drop if year==1989"
   ]
  },
  {
   "cell_type": "code",
   "execution_count": 5,
   "metadata": {},
   "outputs": [],
   "source": [
    "qui label var boardtop30private \"held seat on top 30 private university board\"\n",
    "qui label var pehedge \"private equity or hedge fund partner\"\n",
    "qui label var otherfin \"partner or owner of other financial enterprise\"\n",
    "qui label var technology \"partner or owner in technology firm, but not financial enterprises\"\n",
    "qui label var worth \"net worth\"\n",
    "qui label var inherited \"in Forbes inherited wealth category\"\n",
    "qui label var year \"year of observation\"\n",
    "qui label var id \"person-level unique ID\"\n",
    "qui label var collegeschooltype \"BA school status\"\n",
    "qui replace boardtop30public=. if year==1989\n",
    "\n",
    "qui  gen toppublicmba=0\n",
    "qui  replace toppublicmba=1 if mbaschooltype==2\n",
    "qui gen topprivatemba=0\n",
    "qui replace topprivatemba=1 if mbaschooltype==3\n",
    "qui gen toppublicba=0\n",
    "qui replace toppublicba=1 if collegeschooltype==2\n",
    "qui gen topprivateba=0\n",
    "qui replace topprivateba=1 if collegeschooltype==3"
   ]
  },
  {
   "cell_type": "code",
   "execution_count": 6,
   "metadata": {},
   "outputs": [],
   "source": [
    "est clear\n",
    "\n",
    "quietly logit boardtop30private i.pehedge i.otherfin i.technology ///\n",
    "if year>2000, ro cluster(id) \n",
    "\n",
    "qui eststo: margins, dydx(*) post atmeans\n",
    "\n",
    "quietly logit boardtop30private i.pehedge i.otherfin i.technology worth i.inherited ///\n",
    "if year>2000, ro cluster(id) \n",
    "\n",
    "qui eststo: margins, dydx(*) post atmeans\n",
    "\n",
    "qui logit boardtop30private i.pehedge i.otherfin i.technology worth i.inherited ///\n",
    "i.toppublicba i.topprivateba i.toppublicmba i.topprivatemba if year>2000, ro cluster(id)\n",
    "\n",
    "qui eststo: margins, dydx(*) post atmeans\n",
    "\n",
    "qui logit boardtop30public i.technology worth i.inherited ///\n",
    "i.toppublicba i.topprivateba if year>2000, ro cluster(id) \n",
    "\n",
    "qui eststo: margins, dydx(*) post atmeans"
   ]
  },
  {
   "cell_type": "code",
   "execution_count": 7,
   "metadata": {},
   "outputs": [
    {
     "name": "stdout",
     "output_type": "stream",
     "text": [
      "Table 3: Marginal effects for university board membership among Forbes 400\n",
      "\n",
      "--------------------------------------------------------------------------------\n",
      "                      (1)              (2)              (3)              (4)    \n",
      "             Top 30 Pri~e     Top 30 Pri~e     Top 30 Pri~e     Top 30 Pub~c    \n",
      "--------------------------------------------------------------------------------\n",
      "private eq~d        0.162 **         0.177 **         0.060                     \n",
      "                  (0.057)          (0.060)          (0.044)                     \n",
      "other fina~e        0.071            0.068            0.034                     \n",
      "                  (0.065)          (0.064)          (0.053)                     \n",
      "technology          0.013            0.027            0.010            0.002    \n",
      "                  (0.052)          (0.055)          (0.047)          (0.008)    \n",
      "inherited ~h                        -0.045 *         -0.033 ^          0.001    \n",
      "                                   (0.022)          (0.020)          (0.004)    \n",
      "worth in b~)                        -0.001           -0.001           -0.001 ^  \n",
      "                                   (0.002)          (0.001)          (0.001)    \n",
      "Top 30 pub~A                                          0.054            0.004    \n",
      "                                                    (0.058)          (0.008)    \n",
      "Top 30 pri~A                                          0.149 ***       -0.004    \n",
      "                                                    (0.040)          (0.006)    \n",
      "Top 30 pub~A                                          0.062                     \n",
      "                                                    (0.150)                     \n",
      "Top 30 pri~A                                          0.140 **                  \n",
      "                                                    (0.053)                     \n",
      "--------------------------------------------------------------------------------\n",
      "N                     800              800              800              800    \n",
      "--------------------------------------------------------------------------------\n",
      "^ p<.1, * p<.05, ** p<.01, *** p<.001\n"
     ]
    }
   ],
   "source": [
    "display \"Table 3: Marginal effects for university board membership among Forbes 400\"\n",
    "esttab ///\n",
    ", cells(b(star fmt(3)) se(fmt(3) par)) stardetach  ///\n",
    "\tlegend starlevels(^ .1 * .05 ** .01 *** .001) ///\n",
    "    keep ( worth 1.inherited 1.technology 1.pehedge 1.otherfin ///\n",
    "1.toppublicba 1.topprivateba 1.toppublicmba 1.topprivatemba) ///\n",
    "\torder ( 1.pehedge 1.otherfin 1.technology 1.inherited worth  ///\n",
    "1.toppublicba 1.topprivateba 1.toppublicmba 1.topprivatemba)  ///\n",
    "coeflabels(1.pehedge \"private equity / hedge fund\" 1.otherfin \"other finance\" ///\n",
    "1.technology \"technology\" worth \"worth in billions (2017 $)\" 1.inherited \"inherited wealth\" ///\n",
    "1.toppublicba \"Top 30 public BA\" 1.topprivateba \"Top 30 private BA\" ///\n",
    "1.toppublicmba \"Top 30 public MBA\" 1.topprivatemba \"Top 30 private MBA\") ///\n",
    "replace br collabels(none) ///\n",
    "mlabels(\"Top 30 Private\" \"Top 30 Private\" \"Top 30 Private\" \"Top 30 Public\") ///\n",
    "eqlabels(none)"
   ]
  },
  {
   "cell_type": "code",
   "execution_count": 8,
   "metadata": {},
   "outputs": [],
   "source": [
    "qui esttab using tables/t3_forbes_400_board.rtf  ///\n",
    ", cells(b(star fmt(3)) se(fmt(3) par))  ///\n",
    "\tlegend starlevels(^ .1 * .05 ** .01 *** .001) ///\n",
    "    keep ( worth 1.inherited 1.technology 1.pehedge 1.otherfin ///\n",
    "1.toppublicba 1.topprivateba 1.toppublicmba 1.topprivatemba) ///\n",
    "\torder ( 1.pehedge 1.otherfin 1.technology 1.inherited worth  ///\n",
    "1.toppublicba 1.topprivateba 1.toppublicmba 1.topprivatemba) ///\n",
    "coeflabels(1.pehedge \"private equity / hedge fund\" 1.otherfin \"other finance\" ///\n",
    "1.technology \"technology\" worth \"worth in billions (2017 $)\" 1.inherited \"inherited wealth\" ///\n",
    "1.toppublicba \"Top 30 public BA\" 1.topprivateba \"Top 30 private BA\" ///\n",
    "1.toppublicmba \"Top 30 public MBA\" 1.topprivatemba \"Top 30 private MBA\") ///\n",
    "replace br collabels(none) ///\n",
    "mlabels(\"Top 30 Private\" \"Top 30 Private\" \"Top 30 Private\" \"Top 30 Public\") ///\n",
    "eqlabels(none)"
   ]
  },
  {
   "cell_type": "markdown",
   "metadata": {},
   "source": [
    "### The following shows that OLS yields equivalent results"
   ]
  },
  {
   "cell_type": "code",
   "execution_count": 9,
   "metadata": {},
   "outputs": [
    {
     "name": "stdout",
     "output_type": "stream",
     "text": [
      "\n",
      "Linear regression                               Number of obs     =        800\n",
      "                                                F(3, 656)         =       2.98\n",
      "                                                Prob > F          =     0.0308\n",
      "                                                R-squared         =     0.0232\n",
      "                                                Root MSE          =     .34762\n",
      "\n",
      "                                   (Std. err. adjusted for 657 clusters in id)\n",
      "------------------------------------------------------------------------------\n",
      "             |               Robust\n",
      "boardtop30~e | Coefficient  std. err.      t    P>|t|     [95% conf. interval]\n",
      "-------------+----------------------------------------------------------------\n",
      "   1.pehedge |   .1556434   .0543951     2.86   0.004     .0488339     .262453\n",
      "  1.otherfin |   .0641026   .0582044     1.10   0.271    -.0501868    .1783919\n",
      "1.technology |   .0109312   .0449422     0.24   0.808    -.0773168    .0991791\n",
      "       _cons |   .1153846   .0170891     6.75   0.000     .0818288    .1489405\n",
      "------------------------------------------------------------------------------\n"
     ]
    }
   ],
   "source": [
    "reg boardtop30private i.pehedge i.otherfin i.technology ///\n",
    "if year>2000, ro cluster(id) "
   ]
  },
  {
   "cell_type": "code",
   "execution_count": null,
   "metadata": {},
   "outputs": [],
   "source": []
  }
 ],
 "metadata": {
  "kernelspec": {
   "display_name": "Stata (nbstata)",
   "language": "stata",
   "name": "nbstata"
  },
  "language_info": {
   "file_extension": ".do",
   "mimetype": "text/x-stata",
   "name": "stata",
   "version": "17"
  }
 },
 "nbformat": 4,
 "nbformat_minor": 4
}
