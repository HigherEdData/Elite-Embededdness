{
 "cells": [
  {
   "cell_type": "markdown",
   "metadata": {},
   "source": [
    "### Table 4: Alumni, Admissions, and Percent Board Members From Private Equity and Hedge Funds"
   ]
  },
  {
   "cell_type": "code",
   "execution_count": 1,
   "metadata": {},
   "outputs": [],
   "source": [
    "use data/d_school_level_elite_embed.dta, clear"
   ]
  },
  {
   "cell_type": "code",
   "execution_count": 2,
   "metadata": {},
   "outputs": [],
   "source": [
    "qui keep if year==2003 | year==2017\n",
    "\n",
    "qui egen repfirst=rowtotal(ftfirstefwhitt ptfirstefwhitt ftfirstefasiat ptfirstefasiat)\n",
    "qui egen allfirst=rowtotal(ftfirsteftotlt  ptfirsteftotlt)\n",
    "qui gen pctunderfirst= (allfirst-allfirst) / allfirst\n",
    "\n",
    "qui gen endow_assets_c_log=log(endowment_assets / cpi_scalar_2017)\n",
    "qui gen logtotal03_revenue=log(total03_revenue / cpi_scalar_2017)\n",
    "qui gen logfte_count=log(fte_count)\n",
    "\n",
    "qui egen pehedge=rowtotal(pe hedge)\n",
    "qui egen boardcount=rowtotal(pe hedge otherfinance nonfinance)\n",
    "qui gen pctalt= pehedge/boardcount\n",
    "\n",
    "label var alumnipehedge \"# financier alumni in Forbes 400\"\n",
    "label var logfte_count \"log FTE enrollment\"\n",
    "label var pctunderfirst \"% underrepresented students of color\"\n",
    "label var logtotal03_revenue \"log total revenue\"\n",
    "label var endow_assets_c_log \"log endowment value\"\n",
    "label var fgrnt_p \"% Pell recipients\"\n",
    "label var acceptrate \"Admissions rate\""
   ]
  },
  {
   "cell_type": "code",
   "execution_count": 3,
   "metadata": {},
   "outputs": [
    {
     "name": "stdout",
     "output_type": "stream",
     "text": [
      "\n",
      "\n",
      "\n",
      "\n",
      "\n",
      "\n",
      "\n",
      "\n",
      "\n",
      "Table 4: Alumni, Admissions, and Percent Board Members From Private Equity and Hedge Funds\n",
      "\n",
      "\n",
      "--------------------------------------------------------------------------------------------------------------------------\n",
      "                              (1)              (2)              (3)              (4)              (5)              (6)    \n",
      "--------------------------------------------------------------------------------------------------------------------------\n",
      "Admissions rate            -0.113 ***                        -0.071 *                          -0.084 **        -0.059 *  \n",
      "                          (0.026)                           (0.028)                           (0.027)          (0.029)    \n",
      "private                     0.039 **                          0.041 ***                         0.062 ***        0.055 ***\n",
      "                          (0.012)                           (0.011)                           (0.017)          (0.014)    \n",
      "# financier alum~400                         0.015 *          0.009                                              0.009    \n",
      "                                           (0.006)          (0.007)                                            (0.007)    \n",
      "log FTE enrollment                                                            -0.030 **         0.016 ^          0.010    \n",
      "                                                                             (0.010)          (0.009)          (0.008)    \n",
      "% underrepresented~c                                                           0.000            0.000            0.000    \n",
      "                                                                                 (.)              (.)              (.)    \n",
      "% Pell recipients                                                             -0.000            0.000           -0.000    \n",
      "                                                                             (0.001)          (0.001)          (0.001)    \n",
      "log total revenue                                                              0.010            0.000           -0.006    \n",
      "                                                                             (0.015)          (0.012)          (0.010)    \n",
      "log endowment value                                                            0.018 *          0.004           -0.001    \n",
      "                                                                             (0.007)          (0.007)          (0.008)    \n",
      "Constant                    0.082 ***        0.039 ***        0.055 **        -0.259           -0.199            0.091    \n",
      "                          (0.018)          (0.007)          (0.019)          (0.259)          (0.244)          (0.147)    \n",
      "--------------------------------------------------------------------------------------------------------------------------\n",
      "R-square                     0.42             0.27             0.49             0.31             0.46             0.52    \n",
      "Schools                        60               60               60               60               60               60    \n",
      "N                             115              115              115              115              115              115    \n",
      "--------------------------------------------------------------------------------------------------------------------------\n"
     ]
    }
   ],
   "source": [
    "qui set line 255\n",
    "qui est clear\n",
    "\n",
    "  qui eststo: reg pctalt 3.schooltypenum acceptrate  ///\n",
    "     , cluster(unitid)\n",
    "    \n",
    "  qui eststo: reg pctalt alumnipehedge  ///\n",
    "     , cluster(unitid)\n",
    "    \n",
    "   qui  eststo: reg pctalt 3.schooltypenum acceptrate alumnipehedge ///\n",
    "     , cluster(unitid)\n",
    "    \n",
    "     qui  eststo: reg pctalt  ///\n",
    "      logfte_count endow_assets_c_log logtotal03_revenue pctunderfirst fgrnt_p i.year , cluster(unitid)\n",
    "\n",
    "qui  eststo: reg pctalt 3.schooltypenum ///\n",
    "     acceptrate logfte_count endow_assets_c_log logtotal03_revenue pctunderfirst fgrnt_p i.year , cluster(unitid)\n",
    "\n",
    "qui  eststo: reg pctalt 3.schooltypenum alumnipehedge ///\n",
    "     acceptrate logfte_count endow_assets_c_log logtotal03_revenue pctunderfirst fgrnt_p i.year , cluster(unitid)\n",
    "\n",
    "display \"Table 4: Alumni, Admissions, and Percent Board Members From Private Equity and Hedge Funds\"\n",
    "esttab, type cells(b(star fmt(3)) se(par fmt(3))) stardetach ///\n",
    "label collabels(none) ///\n",
    "order(acceptrate 3.schooltypenum alumnipehedge logfte_count pctunderfirst fgrnt_p logtotal03_revenue endow_assets_c_log) ///\n",
    "drop(*year) starlevels(^ .1 * .05 ** .01 *** .001) eqlabels(none) mlabel(none) ///\n",
    "stats(r2 N_clust N, fmt(2 0 0) label(R-square Schools N)) "
   ]
  },
  {
   "cell_type": "code",
   "execution_count": 4,
   "metadata": {},
   "outputs": [
    {
     "data": {
      "text/html": [
       "\n",
       "Table 4: Alumni, Admissions, and Percent Board Members From Private Equity and Hedge Funds\n",
       "\n",
       "\n",
       "<table border=\"0\" width=\"*\">\n",
       "<tr><td colspan=13><hr></td></tr>\n",
       "<tr><td>                    </td><td>         (1)</td><td>   </td><td>         (2)</td><td>   </td><td>         (3)</td><td>   </td><td>         (4)</td><td>   </td><td>         (5)</td><td>   </td><td>         (6)</td><td>   </td></tr>\n",
       "<tr><td colspan=13><hr></td></tr>\n",
       "<tr><td>Admissions rate     </td><td>      -0.113</td><td>***</td><td>            </td><td>   </td><td>      -0.071</td><td>*  </td><td>            </td><td>   </td><td>      -0.084</td><td>** </td><td>      -0.059</td><td>*  </td></tr>\n",
       "<tr><td>                    </td><td>     (0.026)</td><td>   </td><td>            </td><td>   </td><td>     (0.028)</td><td>   </td><td>            </td><td>   </td><td>     (0.027)</td><td>   </td><td>     (0.029)</td><td>   </td></tr>\n",
       "<tr><td>private             </td><td>       0.039</td><td>** </td><td>            </td><td>   </td><td>       0.041</td><td>***</td><td>            </td><td>   </td><td>       0.062</td><td>***</td><td>       0.055</td><td>***</td></tr>\n",
       "<tr><td>                    </td><td>     (0.012)</td><td>   </td><td>            </td><td>   </td><td>     (0.011)</td><td>   </td><td>            </td><td>   </td><td>     (0.017)</td><td>   </td><td>     (0.014)</td><td>   </td></tr>\n",
       "<tr><td># financier alumni in Forbes 400</td><td>            </td><td>   </td><td>       0.015</td><td>*  </td><td>       0.009</td><td>   </td><td>            </td><td>   </td><td>            </td><td>   </td><td>       0.009</td><td>   </td></tr>\n",
       "<tr><td>                    </td><td>            </td><td>   </td><td>     (0.006)</td><td>   </td><td>     (0.007)</td><td>   </td><td>            </td><td>   </td><td>            </td><td>   </td><td>     (0.007)</td><td>   </td></tr>\n",
       "<tr><td>log FTE enrollment  </td><td>            </td><td>   </td><td>            </td><td>   </td><td>            </td><td>   </td><td>      -0.030</td><td>** </td><td>       0.016</td><td>^  </td><td>       0.010</td><td>   </td></tr>\n",
       "<tr><td>                    </td><td>            </td><td>   </td><td>            </td><td>   </td><td>            </td><td>   </td><td>     (0.010)</td><td>   </td><td>     (0.009)</td><td>   </td><td>     (0.008)</td><td>   </td></tr>\n",
       "<tr><td>% underrepresented students of color</td><td>            </td><td>   </td><td>            </td><td>   </td><td>            </td><td>   </td><td>       0.000</td><td>   </td><td>       0.000</td><td>   </td><td>       0.000</td><td>   </td></tr>\n",
       "<tr><td>                    </td><td>            </td><td>   </td><td>            </td><td>   </td><td>            </td><td>   </td><td>         (.)</td><td>   </td><td>         (.)</td><td>   </td><td>         (.)</td><td>   </td></tr>\n",
       "<tr><td>% Pell recipients   </td><td>            </td><td>   </td><td>            </td><td>   </td><td>            </td><td>   </td><td>      -0.000</td><td>   </td><td>       0.000</td><td>   </td><td>      -0.000</td><td>   </td></tr>\n",
       "<tr><td>                    </td><td>            </td><td>   </td><td>            </td><td>   </td><td>            </td><td>   </td><td>     (0.001)</td><td>   </td><td>     (0.001)</td><td>   </td><td>     (0.001)</td><td>   </td></tr>\n",
       "<tr><td>log total revenue   </td><td>            </td><td>   </td><td>            </td><td>   </td><td>            </td><td>   </td><td>       0.010</td><td>   </td><td>       0.000</td><td>   </td><td>      -0.006</td><td>   </td></tr>\n",
       "<tr><td>                    </td><td>            </td><td>   </td><td>            </td><td>   </td><td>            </td><td>   </td><td>     (0.015)</td><td>   </td><td>     (0.012)</td><td>   </td><td>     (0.010)</td><td>   </td></tr>\n",
       "<tr><td>log endowment value </td><td>            </td><td>   </td><td>            </td><td>   </td><td>            </td><td>   </td><td>       0.018</td><td>*  </td><td>       0.004</td><td>   </td><td>      -0.001</td><td>   </td></tr>\n",
       "<tr><td>                    </td><td>            </td><td>   </td><td>            </td><td>   </td><td>            </td><td>   </td><td>     (0.007)</td><td>   </td><td>     (0.007)</td><td>   </td><td>     (0.008)</td><td>   </td></tr>\n",
       "<tr><td>Constant            </td><td>       0.082</td><td>***</td><td>       0.039</td><td>***</td><td>       0.055</td><td>** </td><td>      -0.259</td><td>   </td><td>      -0.199</td><td>   </td><td>       0.091</td><td>   </td></tr>\n",
       "<tr><td>                    </td><td>     (0.018)</td><td>   </td><td>     (0.007)</td><td>   </td><td>     (0.019)</td><td>   </td><td>     (0.259)</td><td>   </td><td>     (0.244)</td><td>   </td><td>     (0.147)</td><td>   </td></tr>\n",
       "<tr><td colspan=13><hr></td></tr>\n",
       "<tr><td>R-square            </td><td>        0.42</td><td>   </td><td>        0.27</td><td>   </td><td>        0.49</td><td>   </td><td>        0.31</td><td>   </td><td>        0.46</td><td>   </td><td>        0.52</td><td>   </td></tr>\n",
       "<tr><td>Schools             </td><td>       60.00</td><td>   </td><td>       60.00</td><td>   </td><td>       60.00</td><td>   </td><td>       60.00</td><td>   </td><td>       60.00</td><td>   </td><td>       60.00</td><td>   </td></tr>\n",
       "<tr><td>N                   </td><td>         115</td><td>   </td><td>         115</td><td>   </td><td>         115</td><td>   </td><td>         115</td><td>   </td><td>         115</td><td>   </td><td>         115</td><td>   </td></tr>\n",
       "<tr><td colspan=13><hr></td></tr>\n",
       "</table>\n",
       "\n"
      ],
      "text/plain": [
       "This front-end or document format cannot display HTML"
      ]
     },
     "metadata": {},
     "output_type": "display_data"
    }
   ],
   "source": [
    "%html\n",
    "\n",
    "display \"Table 4: Alumni, Admissions, and Percent Board Members From Private Equity and Hedge Funds\"\n",
    "esttab, type cells(b(star fmt(3)) se(par fmt(3))) stardetach ///\n",
    "label collabels(none) ///\n",
    "order(acceptrate 3.schooltypenum alumnipehedge logfte_count pctunderfirst fgrnt_p logtotal03_revenue endow_assets_c_log) ///\n",
    "drop(*year) starlevels(^ .1 * .05 ** .01 *** .001) eqlabels(none) ///\n",
    "stats(r2 N_clust N, fmt(2 2 0 0) label(R-square Schools N)) mlabel(none) html"
   ]
  },
  {
   "cell_type": "code",
   "execution_count": 14,
   "metadata": {},
   "outputs": [
    {
     "name": "stdout",
     "output_type": "stream",
     "text": [
      "\n",
      "\n",
      "\n",
      "\n",
      "\n",
      "\n",
      "\n",
      "\n",
      "\n",
      "Table 4: Alumni, Admissions, and Percent Board Members From Private Equity and Hedge Funds\n",
      "\n",
      "\n",
      "--------------------------------------------------------------------------------------------------------------------------\n",
      "                              (1)              (2)              (3)              (4)              (5)              (6)    \n",
      "--------------------------------------------------------------------------------------------------------------------------\n",
      "Admissions rate            -0.136 ***                        -0.099 **                         -0.100 **        -0.076 *  \n",
      "                          (0.029)                           (0.030)                           (0.037)          (0.037)    \n",
      "private                     5.878 ***                         6.037 ***                         6.925 **         6.237 ** \n",
      "                          (1.493)                           (1.429)                           (2.017)          (1.852)    \n",
      "# financier alum~400                         1.660 **         0.780                                              0.820    \n",
      "                                           (0.589)          (0.579)                                            (0.623)    \n",
      "total enrollment (~)                                                          -3.788 **         0.622            0.013    \n",
      "                                                                             (1.235)          (1.225)          (1.214)    \n",
      "% underrepresented~c                                                          39.368 ***       10.225            6.961    \n",
      "                                                                             (7.139)          (7.014)          (7.653)    \n",
      "% Pell recipients                                                             -0.231 ^          0.003           -0.014    \n",
      "                                                                             (0.132)          (0.097)          (0.094)    \n",
      "log total revenue                                                              1.847            0.159           -0.790    \n",
      "                                                                             (1.280)          (1.257)          (0.946)    \n",
      "log endowment value                                                            0.132            0.035            0.044    \n",
      "                                                                             (0.160)          (0.105)          (0.110)    \n",
      "Constant                   10.034 ***        5.615 ***        7.636 ***       -3.773           -5.929           19.449    \n",
      "                          (2.037)          (0.859)          (2.160)         (24.771)         (25.744)         (18.111)    \n",
      "--------------------------------------------------------------------------------------------------------------------------\n",
      "R-square                     0.55             0.25             0.59             0.44             0.55             0.59    \n",
      "Schools                        60               60               60               60               60               60    \n",
      "N                             115              115              115              108              108              108    \n",
      "--------------------------------------------------------------------------------------------------------------------------\n"
     ]
    }
   ],
   "source": [
    "qui set line 255\n",
    "qui est clear\n",
    "\n",
    "  qui eststo: reg pctalt 3.schooltypenum acceptrate  ///\n",
    "     , cluster(unitid)\n",
    "    \n",
    "  qui eststo: reg pctalt alumnipehedge  ///\n",
    "     , cluster(unitid)\n",
    "    \n",
    "   qui  eststo: reg pctalt 3.schooltypenum acceptrate alumnipehedge ///\n",
    "     , cluster(unitid)\n",
    "    \n",
    "     qui  eststo: reg pctalt  ///\n",
    "      logfte_count endow_assets_c_log logtotal03_revenue pctunderfirst fgrnt_p i.year , cluster(unitid)\n",
    "\n",
    "qui  eststo: reg pctalt 3.schooltypenum ///\n",
    "     acceptrate logfte_count endow_assets_c_log logtotal03_revenue pctunderfirst fgrnt_p i.year , cluster(unitid)\n",
    "\n",
    "qui  eststo: reg pctalt 3.schooltypenum alumnipehedge ///\n",
    "     acceptrate logfte_count endow_assets_c_log logtotal03_revenue pctunderfirst fgrnt_p i.year , cluster(unitid)\n",
    "\n",
    "display \"Table 4: Alumni, Admissions, and Percent Board Members From Private Equity and Hedge Funds\"\n",
    "esttab, type cells(b(star fmt(3)) se(par fmt(3))) stardetach ///\n",
    "label collabels(none) ///\n",
    "order(acceptrate 3.schooltypenum alumnipehedge logfte_count pctunderfirst fgrnt_p logtotal03_revenue endow_assets_c_log) ///\n",
    "drop(*year) starlevels(^ .1 * .05 ** .01 *** .001) eqlabels(none) mlabel(none) ///\n",
    "stats(r2 N_clust N, fmt(2 0 0) label(R-square Schools N)) "
   ]
  },
  {
   "cell_type": "code",
   "execution_count": null,
   "metadata": {},
   "outputs": [],
   "source": []
  }
 ],
 "metadata": {
  "kernelspec": {
   "display_name": "Stata",
   "language": "stata",
   "name": "stata"
  },
  "language_info": {
   "codemirror_mode": "stata",
   "file_extension": ".do",
   "mimetype": "text/x-stata",
   "name": "stata",
   "version": "15.1"
  }
 },
 "nbformat": 4,
 "nbformat_minor": 4
}
