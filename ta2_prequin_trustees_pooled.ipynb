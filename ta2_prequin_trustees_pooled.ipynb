{
 "cells": [
  {
   "cell_type": "markdown",
   "metadata": {},
   "source": [
    "### Table 4: Alumni, Admissions, and Percent Board Members From Private Equity and Hedge Funds"
   ]
  },
  {
   "cell_type": "code",
   "execution_count": 57,
   "metadata": {},
   "outputs": [],
   "source": [
    "use data/d_prequin_trustee_ties, clear\n",
    "*describe"
   ]
  },
  {
   "cell_type": "code",
   "execution_count": 58,
   "metadata": {},
   "outputs": [
    {
     "name": "stdout",
     "output_type": "stream",
     "text": [
      "\n",
      "\n",
      "\n",
      "\n",
      "\n",
      "\n",
      "\n",
      "\n",
      "\n",
      "\n",
      "--------------------------------------------------------------------------------------------------------------------------\n",
      "                              (1)              (2)              (3)              (4)              (5)              (6)    \n",
      "                     Bench Net ~)     Bench Net ~)     Bench Net ~)     Bench Net ~)     Bench Net ~)     Bench Net ~)    \n",
      "                         b/se/par         b/se/par         b/se/par         b/se/par         b/se/par         b/se/par    \n",
      "--------------------------------------------------------------------------------------------------------------------------\n",
      "(first) eigenvector         4.061 ***                         2.382            6.658 ***                         4.352 *  \n",
      "                            1.014                             1.815            1.747                             2.012    \n",
      "                                                                                                                          \n",
      "private                                      0.721 *          0.412                             0.920 *          0.474    \n",
      "                                             0.286            0.431                             0.409            0.542    \n",
      "                                                                                                                          \n",
      "public                                       2.096            2.158 ^                           0.399            0.473    \n",
      "                                             1.332            1.311                             0.940            0.908    \n",
      "                                                                                                                          \n",
      "--------------------------------------------------------------------------------------------------------------------------\n",
      "R-square                    0.259            0.259            0.259            0.041            0.041            0.042    \n",
      "N                            6706             6706             6706             4089             4089             4089    \n",
      "Firms                        2257             2257             2257             1755             1755             1755    \n",
      "--------------------------------------------------------------------------------------------------------------------------\n",
      "^ p<.1, * p<.05, ** p<.01, *** p<.001\n"
     ]
    }
   ],
   "source": [
    "set line 255\n",
    "est clear\n",
    "\n",
    "qui eststo: reg benchnetirr eigenvector   ///\n",
    "    i.year , cluster(firmid)\n",
    "\n",
    "qui eststo: reg benchnetirr  private public  ///\n",
    "    i.year, cluster(firmid)\n",
    "\n",
    "qui eststo: reg benchnetirr eigenvector private public  ///\n",
    "    i.year, cluster(firmid)\n",
    "\n",
    "qui eststo: reg benchnetirr eigenvector  ///\n",
    "    i.year if year>2009 & year<2018, cluster(firmid)\n",
    "\n",
    "qui eststo: reg benchnetirr private public  ///\n",
    "    i.year if year>2009 & year<2018, cluster(firmid)\n",
    "\n",
    "qui eststo: reg benchnetirr eigenvector private public  ///\n",
    "    i.year if year>2009 & year<2018, cluster(firmid)\n",
    "\n",
    "esttab, type cells(b(star fmt(3)) se(fmt(3)) par) stardetach  ///\n",
    "\t legend label varlabels(_cons Constant)  stats(r2 N N_clust, fmt(3 0 0) ///\n",
    "\tlabel(R-square N Firms)) keep(eigenvector private public ) starlevels(^ .1 * .05 ** .01 *** .001)"
   ]
  },
  {
   "cell_type": "code",
   "execution_count": 59,
   "metadata": {},
   "outputs": [
    {
     "name": "stdout",
     "output_type": "stream",
     "text": [
      ". collapse (first) schoolname private public firmname_new eigenvector betweenne\n",
      "> ss strength cpi_scalar_2017 privatetop30 publictop30 logfte_count endow_asset\n",
      "> s_c_log logtotal03_revenue     acceptrate pe hedge otherfinance nonfinance al\n",
      "> umnipehedge (mean) benchnetirr [aweight=fundvaluemnusd], by(firmid year)\n"
     ]
    }
   ],
   "source": [
    "collapse (first) schoolname private public firmname_new eigenvector betweenness strength cpi_scalar_2017 privatetop30 publictop30 logfte_count endow_assets_c_log logtotal03_revenue ///\n",
    "    acceptrate pe hedge otherfinance nonfinance alumnipehedge (mean) benchnetirr [aweight=fundvaluemnusd], by(firmid year)\n",
    "*describe"
   ]
  },
  {
   "cell_type": "code",
   "execution_count": 52,
   "metadata": {},
   "outputs": [],
   "source": [
    "gen pctfundtarget= fundvaluemnusd / fundtargetvaluemnusd \n",
    "gen lnfundvalue=ln(fundvaluemnusd)"
   ]
  },
  {
   "cell_type": "code",
   "execution_count": 60,
   "metadata": {},
   "outputs": [
    {
     "name": "stdout",
     "output_type": "stream",
     "text": [
      "\n",
      "\n",
      "\n",
      "\n",
      "\n",
      "\n",
      "\n",
      "\n",
      "\n",
      "\n",
      "--------------------------------------------------------------------------------------------------------------------------\n",
      "                              (1)              (2)              (3)              (4)              (5)              (6)    \n",
      "                     (mean) ben~r     (mean) ben~r     (mean) ben~r     (mean) ben~r     (mean) ben~r     (mean) ben~r    \n",
      "                         b/se/par         b/se/par         b/se/par         b/se/par         b/se/par         b/se/par    \n",
      "--------------------------------------------------------------------------------------------------------------------------\n",
      "(first) eigenvector         4.364 ***                         2.387            6.715 **                          3.547    \n",
      "                            1.316                             1.866            2.258                             2.498    \n",
      "                                                                                                                          \n",
      "(first) private                              0.735 *          0.454                             0.996 *          0.636    \n",
      "                                             0.330            0.453                             0.441            0.586    \n",
      "                                                                                                                          \n",
      "(first) public                               2.921 *          2.954 *                           1.502            1.530    \n",
      "                                             1.187            1.184                             0.970            0.972    \n",
      "                                                                                                                          \n",
      "--------------------------------------------------------------------------------------------------------------------------\n",
      "R-square                    0.254            0.255            0.255            0.042            0.043            0.043    \n",
      "N                            5596             5596             5596             3377             3377             3377    \n",
      "Firms                        2213             2213             2213             1709             1709             1709    \n",
      "--------------------------------------------------------------------------------------------------------------------------\n",
      "^ p<.1, * p<.05, ** p<.01, *** p<.001\n"
     ]
    }
   ],
   "source": [
    "set line 255\n",
    "est clear\n",
    "\n",
    "qui eststo: reg benchnetirr eigenvector   ///\n",
    "    i.year , cluster(firmid)\n",
    "\n",
    "qui eststo: reg benchnetirr  private public  ///\n",
    "    i.year, cluster(firmid)\n",
    "\n",
    "qui eststo: reg benchnetirr eigenvector private public  ///\n",
    "    i.year, cluster(firmid)\n",
    "\n",
    "qui eststo: reg benchnetirr eigenvector  ///\n",
    "    i.year if year>2009 & year<2018, cluster(firmid)\n",
    "\n",
    "qui eststo: reg benchnetirr private public  ///\n",
    "    i.year if year>2009 & year<2018, cluster(firmid)\n",
    "\n",
    "qui eststo: reg benchnetirr eigenvector private public  ///\n",
    "    i.year if year>2009 & year<2018, cluster(firmid)\n",
    "\n",
    "esttab, type cells(b(star fmt(3)) se(fmt(3)) par) stardetach  ///\n",
    "\t legend label varlabels(_cons Constant)  stats(r2 N N_clust, fmt(3 0 0) ///\n",
    "\tlabel(R-square N Firms)) keep(eigenvector private public ) starlevels(^ .1 * .05 ** .01 *** .001)"
   ]
  },
  {
   "cell_type": "code",
   "execution_count": 53,
   "metadata": {},
   "outputs": [
    {
     "name": "stdout",
     "output_type": "stream",
     "text": [
      "\n",
      "                   (first) firmname_new |      Freq.     Percent        Cum.\n",
      "----------------------------------------+-----------------------------------\n",
      "               apollo global management |          1        6.67        6.67\n",
      "                      arlington capital |          2       13.33       20.00\n",
      "                   aurora capital group |          1        6.67       26.67\n",
      "                             blackstone |          3       20.00       46.67\n",
      "                  blum capital partners |          1        6.67       53.33\n",
      "                           ccmp capital |          1        6.67       60.00\n",
      "                             jmi equity |          2       13.33       73.33\n",
      "                       oak hill capital |          1        6.67       80.00\n",
      "               union square investments |          3       20.00      100.00\n",
      "----------------------------------------+-----------------------------------\n",
      "                                  Total |         15      100.00\n"
     ]
    }
   ],
   "source": [
    "tab firmname_new if public==1"
   ]
  },
  {
   "cell_type": "code",
   "execution_count": null,
   "metadata": {},
   "outputs": [],
   "source": []
  },
  {
   "cell_type": "code",
   "execution_count": 64,
   "metadata": {},
   "outputs": [
    {
     "name": "stdout",
     "output_type": "stream",
     "text": [
      "\n",
      "\n",
      "\n",
      "\n",
      "Panel variable: firmid (unbalanced)\n",
      " Time variable: year, 2003 to 2017, but with gaps\n",
      "         Delta: 1 unit\n",
      "\n",
      "\n",
      "\n",
      "\n",
      "\n",
      "\n",
      "\n",
      "\n",
      "--------------------------------------------------------------------------------------------------------------------------\n",
      "                              (1)              (2)              (3)              (4)              (5)              (6)    \n",
      "                     (mean) ben~r     (mean) ben~r     (mean) ben~r     (mean) ben~r     (mean) ben~r     (mean) ben~r    \n",
      "                             b/se             b/se             b/se             b/se             b/se             b/se    \n",
      "--------------------------------------------------------------------------------------------------------------------------\n",
      "(first) eigenvector         6.835 ***                         4.077 ^         10.052 ***                         8.329 *  \n",
      "                            1.780                             2.352            2.930                             3.756    \n",
      "(first) private                              1.624 **         1.274 ^                           1.767 ^          1.192    \n",
      "                                             0.574            0.661                             1.002            1.087    \n",
      "(first) public                               2.711            2.751                             1.608            1.597    \n",
      "                                             1.729            1.728                             1.502            1.491    \n",
      "--------------------------------------------------------------------------------------------------------------------------\n",
      "R-square                    0.614            0.614            0.615            0.664            0.664            0.665    \n",
      "N                            4705             4705             4705             2585             2585             2585    \n",
      "Firms                        1322             1322             1322              917              917              917    \n",
      "--------------------------------------------------------------------------------------------------------------------------\n",
      "^ p<.1, * p<.05, ** p<.01, *** p<.001\n"
     ]
    }
   ],
   "source": [
    "set line 255\n",
    "est clear\n",
    "xtset firmid year\n",
    "\n",
    "qui eststo: reghdfe benchnetirr eigenvector i.year, absorb(firmid) cluster(firmid)\n",
    "\n",
    "qui eststo: reghdfe benchnetirr private public i.year, absorb(firmid) cluster(firmid)\n",
    "\n",
    "qui eststo: reghdfe benchnetirr eigenvector private public i.year, absorb(firmid) cluster(firmid)\n",
    "\n",
    "qui eststo: reghdfe benchnetirr eigenvector i.year if year>2009, absorb(firmid) cluster(firmid)\n",
    "\n",
    "qui eststo: reghdfe benchnetirr private public i.year if year>2009, absorb(firmid) cluster(firmid)\n",
    "\n",
    "qui eststo: reghdfe benchnetirr eigenvector private public i.year if year>2009, absorb(firmid) cluster(firmid)\n",
    "\n",
    "esttab, type cells(b(star fmt(3)) se(fmt(3))) stardetach  ///\n",
    "\t legend label varlabels(_cons Constant)  stats(r2 N N_clust, fmt(3 0 0) ///\n",
    "\tlabel(R-square N Firms)) keep(eigenvector private public) starlevels(^ .1 * .05 ** .01 *** .001)"
   ]
  },
  {
   "cell_type": "code",
   "execution_count": null,
   "metadata": {},
   "outputs": [],
   "source": []
  },
  {
   "cell_type": "code",
   "execution_count": null,
   "metadata": {},
   "outputs": [],
   "source": []
  },
  {
   "cell_type": "code",
   "execution_count": null,
   "metadata": {},
   "outputs": [],
   "source": []
  },
  {
   "cell_type": "code",
   "execution_count": null,
   "metadata": {},
   "outputs": [],
   "source": []
  },
  {
   "cell_type": "code",
   "execution_count": 2,
   "metadata": {},
   "outputs": [],
   "source": [
    "qui keep if year==2003 | year==2017\n",
    "\n",
    "qui egen repfirst=rowtotal(ftfirstefwhitt ptfirstefwhitt ftfirstefasiat ptfirstefasiat)\n",
    "qui egen allfirst=rowtotal(ftfirsteftotlt  ptfirsteftotlt)\n",
    "qui gen pctunderfirst= (allfirst-allfirst) / allfirst\n",
    "\n",
    "qui gen endow_assets_c_log=log(endowment_assets / cpi_scalar_2017)\n",
    "qui gen logtotal03_revenue=log(total03_revenue / cpi_scalar_2017)\n",
    "qui gen logfte_count=log(fte_count)\n",
    "\n",
    "qui egen pehedge=rowtotal(pe hedge)\n",
    "qui egen boardcount=rowtotal(pe hedge otherfinance nonfinance)\n",
    "qui gen pctalt= pehedge/boardcount\n",
    "\n",
    "label var alumnipehedge \"# financier alumni in Forbes 400\"\n",
    "label var logfte_count \"log FTE enrollment\"\n",
    "label var pctunderfirst \"% underrepresented students of color\"\n",
    "label var logtotal03_revenue \"log total revenue\"\n",
    "label var endow_assets_c_log \"log endowment value\"\n",
    "label var fgrnt_p \"% Pell recipients\"\n",
    "label var acceptrate \"Admissions rate\""
   ]
  },
  {
   "cell_type": "code",
   "execution_count": 3,
   "metadata": {},
   "outputs": [
    {
     "name": "stdout",
     "output_type": "stream",
     "text": [
      "\n",
      "\n",
      "\n",
      "\n",
      "\n",
      "\n",
      "\n",
      "\n",
      "\n",
      "Table 4: Alumni, Admissions, and Percent Board Members From Private Equity and Hedge Funds\n",
      "\n",
      "\n",
      "--------------------------------------------------------------------------------------------------------------------------\n",
      "                              (1)              (2)              (3)              (4)              (5)              (6)    \n",
      "--------------------------------------------------------------------------------------------------------------------------\n",
      "Admissions rate            -0.113 ***                        -0.071 *                          -0.084 **        -0.059 *  \n",
      "                          (0.026)                           (0.028)                           (0.027)          (0.029)    \n",
      "private                     0.039 **                          0.041 ***                         0.062 ***        0.055 ***\n",
      "                          (0.012)                           (0.011)                           (0.017)          (0.014)    \n",
      "# financier alum~400                         0.015 *          0.009                                              0.009    \n",
      "                                           (0.006)          (0.007)                                            (0.007)    \n",
      "log FTE enrollment                                                            -0.030 **         0.016 ^          0.010    \n",
      "                                                                             (0.010)          (0.009)          (0.008)    \n",
      "% underrepresented~c                                                           0.000            0.000            0.000    \n",
      "                                                                                 (.)              (.)              (.)    \n",
      "% Pell recipients                                                             -0.000            0.000           -0.000    \n",
      "                                                                             (0.001)          (0.001)          (0.001)    \n",
      "log total revenue                                                              0.010            0.000           -0.006    \n",
      "                                                                             (0.015)          (0.012)          (0.010)    \n",
      "log endowment value                                                            0.018 *          0.004           -0.001    \n",
      "                                                                             (0.007)          (0.007)          (0.008)    \n",
      "Constant                    0.082 ***        0.039 ***        0.055 **        -0.259           -0.199            0.091    \n",
      "                          (0.018)          (0.007)          (0.019)          (0.259)          (0.244)          (0.147)    \n",
      "--------------------------------------------------------------------------------------------------------------------------\n",
      "R-square                     0.42             0.27             0.49             0.31             0.46             0.52    \n",
      "Schools                        60               60               60               60               60               60    \n",
      "N                             115              115              115              115              115              115    \n",
      "--------------------------------------------------------------------------------------------------------------------------\n"
     ]
    }
   ],
   "source": [
    "qui set line 255\n",
    "qui est clear\n",
    "\n",
    "  qui eststo: reg pctalt 3.schooltypenum acceptrate  ///\n",
    "     , cluster(unitid)\n",
    "    \n",
    "  qui eststo: reg pctalt alumnipehedge  ///\n",
    "     , cluster(unitid)\n",
    "    \n",
    "   qui  eststo: reg pctalt 3.schooltypenum acceptrate alumnipehedge ///\n",
    "     , cluster(unitid)\n",
    "    \n",
    "     qui  eststo: reg pctalt  ///\n",
    "      logfte_count endow_assets_c_log logtotal03_revenue pctunderfirst fgrnt_p i.year , cluster(unitid)\n",
    "\n",
    "qui  eststo: reg pctalt 3.schooltypenum ///\n",
    "     acceptrate logfte_count endow_assets_c_log logtotal03_revenue pctunderfirst fgrnt_p i.year , cluster(unitid)\n",
    "\n",
    "qui  eststo: reg pctalt 3.schooltypenum alumnipehedge ///\n",
    "     acceptrate logfte_count endow_assets_c_log logtotal03_revenue pctunderfirst fgrnt_p i.year , cluster(unitid)\n",
    "\n",
    "display \"Table 4: Alumni, Admissions, and Percent Board Members From Private Equity and Hedge Funds\"\n",
    "esttab, type cells(b(star fmt(3)) se(par fmt(3))) stardetach ///\n",
    "label collabels(none) ///\n",
    "order(acceptrate 3.schooltypenum alumnipehedge logfte_count pctunderfirst fgrnt_p logtotal03_revenue endow_assets_c_log) ///\n",
    "drop(*year) starlevels(^ .1 * .05 ** .01 *** .001) eqlabels(none) mlabel(none) ///\n",
    "stats(r2 N_clust N, fmt(2 0 0) label(R-square Schools N)) "
   ]
  },
  {
   "cell_type": "code",
   "execution_count": 4,
   "metadata": {},
   "outputs": [
    {
     "data": {
      "text/html": [
       "\n",
       "Table 4: Alumni, Admissions, and Percent Board Members From Private Equity and Hedge Funds\n",
       "\n",
       "\n",
       "<table border=\"0\" width=\"*\">\n",
       "<tr><td colspan=13><hr></td></tr>\n",
       "<tr><td>                    </td><td>         (1)</td><td>   </td><td>         (2)</td><td>   </td><td>         (3)</td><td>   </td><td>         (4)</td><td>   </td><td>         (5)</td><td>   </td><td>         (6)</td><td>   </td></tr>\n",
       "<tr><td colspan=13><hr></td></tr>\n",
       "<tr><td>Admissions rate     </td><td>      -0.113</td><td>***</td><td>            </td><td>   </td><td>      -0.071</td><td>*  </td><td>            </td><td>   </td><td>      -0.084</td><td>** </td><td>      -0.059</td><td>*  </td></tr>\n",
       "<tr><td>                    </td><td>     (0.026)</td><td>   </td><td>            </td><td>   </td><td>     (0.028)</td><td>   </td><td>            </td><td>   </td><td>     (0.027)</td><td>   </td><td>     (0.029)</td><td>   </td></tr>\n",
       "<tr><td>private             </td><td>       0.039</td><td>** </td><td>            </td><td>   </td><td>       0.041</td><td>***</td><td>            </td><td>   </td><td>       0.062</td><td>***</td><td>       0.055</td><td>***</td></tr>\n",
       "<tr><td>                    </td><td>     (0.012)</td><td>   </td><td>            </td><td>   </td><td>     (0.011)</td><td>   </td><td>            </td><td>   </td><td>     (0.017)</td><td>   </td><td>     (0.014)</td><td>   </td></tr>\n",
       "<tr><td># financier alumni in Forbes 400</td><td>            </td><td>   </td><td>       0.015</td><td>*  </td><td>       0.009</td><td>   </td><td>            </td><td>   </td><td>            </td><td>   </td><td>       0.009</td><td>   </td></tr>\n",
       "<tr><td>                    </td><td>            </td><td>   </td><td>     (0.006)</td><td>   </td><td>     (0.007)</td><td>   </td><td>            </td><td>   </td><td>            </td><td>   </td><td>     (0.007)</td><td>   </td></tr>\n",
       "<tr><td>log FTE enrollment  </td><td>            </td><td>   </td><td>            </td><td>   </td><td>            </td><td>   </td><td>      -0.030</td><td>** </td><td>       0.016</td><td>^  </td><td>       0.010</td><td>   </td></tr>\n",
       "<tr><td>                    </td><td>            </td><td>   </td><td>            </td><td>   </td><td>            </td><td>   </td><td>     (0.010)</td><td>   </td><td>     (0.009)</td><td>   </td><td>     (0.008)</td><td>   </td></tr>\n",
       "<tr><td>% underrepresented students of color</td><td>            </td><td>   </td><td>            </td><td>   </td><td>            </td><td>   </td><td>       0.000</td><td>   </td><td>       0.000</td><td>   </td><td>       0.000</td><td>   </td></tr>\n",
       "<tr><td>                    </td><td>            </td><td>   </td><td>            </td><td>   </td><td>            </td><td>   </td><td>         (.)</td><td>   </td><td>         (.)</td><td>   </td><td>         (.)</td><td>   </td></tr>\n",
       "<tr><td>% Pell recipients   </td><td>            </td><td>   </td><td>            </td><td>   </td><td>            </td><td>   </td><td>      -0.000</td><td>   </td><td>       0.000</td><td>   </td><td>      -0.000</td><td>   </td></tr>\n",
       "<tr><td>                    </td><td>            </td><td>   </td><td>            </td><td>   </td><td>            </td><td>   </td><td>     (0.001)</td><td>   </td><td>     (0.001)</td><td>   </td><td>     (0.001)</td><td>   </td></tr>\n",
       "<tr><td>log total revenue   </td><td>            </td><td>   </td><td>            </td><td>   </td><td>            </td><td>   </td><td>       0.010</td><td>   </td><td>       0.000</td><td>   </td><td>      -0.006</td><td>   </td></tr>\n",
       "<tr><td>                    </td><td>            </td><td>   </td><td>            </td><td>   </td><td>            </td><td>   </td><td>     (0.015)</td><td>   </td><td>     (0.012)</td><td>   </td><td>     (0.010)</td><td>   </td></tr>\n",
       "<tr><td>log endowment value </td><td>            </td><td>   </td><td>            </td><td>   </td><td>            </td><td>   </td><td>       0.018</td><td>*  </td><td>       0.004</td><td>   </td><td>      -0.001</td><td>   </td></tr>\n",
       "<tr><td>                    </td><td>            </td><td>   </td><td>            </td><td>   </td><td>            </td><td>   </td><td>     (0.007)</td><td>   </td><td>     (0.007)</td><td>   </td><td>     (0.008)</td><td>   </td></tr>\n",
       "<tr><td>Constant            </td><td>       0.082</td><td>***</td><td>       0.039</td><td>***</td><td>       0.055</td><td>** </td><td>      -0.259</td><td>   </td><td>      -0.199</td><td>   </td><td>       0.091</td><td>   </td></tr>\n",
       "<tr><td>                    </td><td>     (0.018)</td><td>   </td><td>     (0.007)</td><td>   </td><td>     (0.019)</td><td>   </td><td>     (0.259)</td><td>   </td><td>     (0.244)</td><td>   </td><td>     (0.147)</td><td>   </td></tr>\n",
       "<tr><td colspan=13><hr></td></tr>\n",
       "<tr><td>R-square            </td><td>        0.42</td><td>   </td><td>        0.27</td><td>   </td><td>        0.49</td><td>   </td><td>        0.31</td><td>   </td><td>        0.46</td><td>   </td><td>        0.52</td><td>   </td></tr>\n",
       "<tr><td>Schools             </td><td>       60.00</td><td>   </td><td>       60.00</td><td>   </td><td>       60.00</td><td>   </td><td>       60.00</td><td>   </td><td>       60.00</td><td>   </td><td>       60.00</td><td>   </td></tr>\n",
       "<tr><td>N                   </td><td>         115</td><td>   </td><td>         115</td><td>   </td><td>         115</td><td>   </td><td>         115</td><td>   </td><td>         115</td><td>   </td><td>         115</td><td>   </td></tr>\n",
       "<tr><td colspan=13><hr></td></tr>\n",
       "</table>\n",
       "\n"
      ],
      "text/plain": [
       "This front-end or document format cannot display HTML"
      ]
     },
     "metadata": {},
     "output_type": "display_data"
    }
   ],
   "source": [
    "%html\n",
    "\n",
    "display \"Table 4: Alumni, Admissions, and Percent Board Members From Private Equity and Hedge Funds\"\n",
    "esttab, type cells(b(star fmt(3)) se(par fmt(3))) stardetach ///\n",
    "label collabels(none) ///\n",
    "order(acceptrate 3.schooltypenum alumnipehedge logfte_count pctunderfirst fgrnt_p logtotal03_revenue endow_assets_c_log) ///\n",
    "drop(*year) starlevels(^ .1 * .05 ** .01 *** .001) eqlabels(none) ///\n",
    "stats(r2 N_clust N, fmt(2 2 0 0) label(R-square Schools N)) mlabel(none) html"
   ]
  },
  {
   "cell_type": "code",
   "execution_count": 14,
   "metadata": {},
   "outputs": [
    {
     "name": "stdout",
     "output_type": "stream",
     "text": [
      "\n",
      "\n",
      "\n",
      "\n",
      "\n",
      "\n",
      "\n",
      "\n",
      "\n",
      "Table 4: Alumni, Admissions, and Percent Board Members From Private Equity and Hedge Funds\n",
      "\n",
      "\n",
      "--------------------------------------------------------------------------------------------------------------------------\n",
      "                              (1)              (2)              (3)              (4)              (5)              (6)    \n",
      "--------------------------------------------------------------------------------------------------------------------------\n",
      "Admissions rate            -0.136 ***                        -0.099 **                         -0.100 **        -0.076 *  \n",
      "                          (0.029)                           (0.030)                           (0.037)          (0.037)    \n",
      "private                     5.878 ***                         6.037 ***                         6.925 **         6.237 ** \n",
      "                          (1.493)                           (1.429)                           (2.017)          (1.852)    \n",
      "# financier alum~400                         1.660 **         0.780                                              0.820    \n",
      "                                           (0.589)          (0.579)                                            (0.623)    \n",
      "total enrollment (~)                                                          -3.788 **         0.622            0.013    \n",
      "                                                                             (1.235)          (1.225)          (1.214)    \n",
      "% underrepresented~c                                                          39.368 ***       10.225            6.961    \n",
      "                                                                             (7.139)          (7.014)          (7.653)    \n",
      "% Pell recipients                                                             -0.231 ^          0.003           -0.014    \n",
      "                                                                             (0.132)          (0.097)          (0.094)    \n",
      "log total revenue                                                              1.847            0.159           -0.790    \n",
      "                                                                             (1.280)          (1.257)          (0.946)    \n",
      "log endowment value                                                            0.132            0.035            0.044    \n",
      "                                                                             (0.160)          (0.105)          (0.110)    \n",
      "Constant                   10.034 ***        5.615 ***        7.636 ***       -3.773           -5.929           19.449    \n",
      "                          (2.037)          (0.859)          (2.160)         (24.771)         (25.744)         (18.111)    \n",
      "--------------------------------------------------------------------------------------------------------------------------\n",
      "R-square                     0.55             0.25             0.59             0.44             0.55             0.59    \n",
      "Schools                        60               60               60               60               60               60    \n",
      "N                             115              115              115              108              108              108    \n",
      "--------------------------------------------------------------------------------------------------------------------------\n"
     ]
    }
   ],
   "source": [
    "qui set line 255\n",
    "qui est clear\n",
    "\n",
    "  qui eststo: reg pctalt 3.schooltypenum acceptrate  ///\n",
    "     , cluster(unitid)\n",
    "    \n",
    "  qui eststo: reg pctalt alumnipehedge  ///\n",
    "     , cluster(unitid)\n",
    "    \n",
    "   qui  eststo: reg pctalt 3.schooltypenum acceptrate alumnipehedge ///\n",
    "     , cluster(unitid)\n",
    "    \n",
    "     qui  eststo: reg pctalt  ///\n",
    "      logfte_count endow_assets_c_log logtotal03_revenue pctunderfirst fgrnt_p i.year , cluster(unitid)\n",
    "\n",
    "qui  eststo: reg pctalt 3.schooltypenum ///\n",
    "     acceptrate logfte_count endow_assets_c_log logtotal03_revenue pctunderfirst fgrnt_p i.year , cluster(unitid)\n",
    "\n",
    "qui  eststo: reg pctalt 3.schooltypenum alumnipehedge ///\n",
    "     acceptrate logfte_count endow_assets_c_log logtotal03_revenue pctunderfirst fgrnt_p i.year , cluster(unitid)\n",
    "\n",
    "display \"Table 4: Alumni, Admissions, and Percent Board Members From Private Equity and Hedge Funds\"\n",
    "esttab, type cells(b(star fmt(3)) se(par fmt(3))) stardetach ///\n",
    "label collabels(none) ///\n",
    "order(acceptrate 3.schooltypenum alumnipehedge logfte_count pctunderfirst fgrnt_p logtotal03_revenue endow_assets_c_log) ///\n",
    "drop(*year) starlevels(^ .1 * .05 ** .01 *** .001) eqlabels(none) mlabel(none) ///\n",
    "stats(r2 N_clust N, fmt(2 0 0) label(R-square Schools N)) "
   ]
  },
  {
   "cell_type": "code",
   "execution_count": null,
   "metadata": {},
   "outputs": [],
   "source": []
  }
 ],
 "metadata": {
  "kernelspec": {
   "display_name": "Stata",
   "language": "stata",
   "name": "stata"
  },
  "language_info": {
   "codemirror_mode": "stata",
   "file_extension": ".do",
   "mimetype": "text/x-stata",
   "name": "stata",
   "version": "15.1"
  }
 },
 "nbformat": 4,
 "nbformat_minor": 4
}
