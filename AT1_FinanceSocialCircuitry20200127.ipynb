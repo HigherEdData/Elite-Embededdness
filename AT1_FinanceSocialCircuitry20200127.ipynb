{
 "cells": [
  {
   "cell_type": "code",
   "execution_count": 12,
   "metadata": {},
   "outputs": [
    {
     "name": "stdout",
     "output_type": "stream",
     "text": [
      "\n",
      "/Users/Charlie/Dropbox/Bankers in the Ivory Tower Book/2 Our New Financial Oligarchy/Data/Boards 2000 to 2017\n",
      "\n",
      "\n",
      "\n",
      "\n",
      "    Variable |        Obs        Mean    Std. Dev.       Min        Max\n",
      "-------------+---------------------------------------------------------\n",
      "     finance |      1,200    .1958333    .3970063          0          1\n"
     ]
    }
   ],
   "source": [
    "cd \"/Users/Charlie/Dropbox/Bankers in the Ivory Tower Book/2 Our New Financial Oligarchy/Data/Boards 2000 to 2017\"\n",
    "\n",
    "use forbes400_alum_board_1989_2003_2017, clear\n",
    "\n",
    "egen finance=rowtotal(pe hedge otherfin)"
   ]
  },
  {
   "cell_type": "code",
   "execution_count": 11,
   "metadata": {},
   "outputs": [
    {
     "name": "stdout",
     "output_type": "stream",
     "text": [
      "\n",
      "\n",
      "\n",
      "\n",
      "finance ambiguous abbreviation\n"
     ]
    },
    {
     "name": "stderr",
     "output_type": "stream",
     "text": [
      "r(111);\n",
      "r(111);\n"
     ]
    },
    {
     "name": "stdout",
     "output_type": "stream",
     "text": [
      "\n",
      "\n"
     ]
    }
   ],
   "source": [
    "est clear\n",
    "\n",
    "quietly eststo: logit boardtop30private pe hedge otherfin technology worth inherited ///\n",
    "i.year, ro cluster(id)\n",
    "\n",
    "quietly eststo: logit boardtop30private pe hedge otherfin technology worth inherited ///\n",
    "i.year, ro cluster(id)\n",
    "\n",
    "quietly eststo: logit boardtop30private pe hedge otherfin technology worth inherited ///\n",
    "ib4.collegeschooltype ib4.mbaschooltype ib4.jdschooltype i.year, ro cluster(id)\n",
    "\n",
    "quietly eststo: logit boardtop30public finance technology worth inherited i.year, ro cluster(id)\n",
    "\n",
    "quietly eststo: logit boardtop30public finance technology worth inherited ///\n",
    "ib4.collegeschooltype ib4.mbaschooltype ib4.jdschooltype i.year, ro cluster(id)"
   ]
  },
  {
   "cell_type": "code",
   "execution_count": 9,
   "metadata": {},
   "outputs": [
    {
     "data": {
      "text/html": [
       "\n",
       "<table border=\"0\" width=\"*\">\n",
       "<caption>Logit regressions for university board membership among Forbes 400</caption>\n",
       "<tr><td colspan=9><hr></td></tr>\n",
       "<tr><td>            </td><td>         (1)</td><td>   </td><td>         (2)</td><td>   </td><td>         (3)</td><td>   </td><td>         (4)</td><td>   </td></tr>\n",
       "<tr><td>            </td><td>Top 30 Private</td><td>   </td><td>Top 30 Private</td><td>   </td><td>Top 30 Public</td><td>   </td><td>Top 30 Public</td><td>   </td></tr>\n",
       "<tr><td colspan=9><hr></td></tr>\n",
       "<tr><td>main        </td><td>            </td><td>   </td><td>            </td><td>   </td><td>            </td><td>   </td><td>            </td><td>   </td></tr>\n",
       "<tr><td>private equity</td><td>       4.029</td><td>***</td><td>       1.989</td><td>^  </td><td>       1.000</td><td>   </td><td>       1.000</td><td>   </td></tr>\n",
       "<tr><td>            </td><td>       1.487</td><td>   </td><td>       0.769</td><td>   </td><td>           .</td><td>   </td><td>           .</td><td>   </td></tr>\n",
       "<tr><td>hedge fund  </td><td>       1.829</td><td>   </td><td>       1.082</td><td>   </td><td>       1.000</td><td>   </td><td>       1.000</td><td>   </td></tr>\n",
       "<tr><td>            </td><td>       0.871</td><td>   </td><td>       0.561</td><td>   </td><td>           .</td><td>   </td><td>           .</td><td>   </td></tr>\n",
       "<tr><td>other finance</td><td>       1.773</td><td>   </td><td>       1.457</td><td>   </td><td>       1.000</td><td>   </td><td>       1.000</td><td>   </td></tr>\n",
       "<tr><td>            </td><td>       0.697</td><td>   </td><td>       0.614</td><td>   </td><td>           .</td><td>   </td><td>           .</td><td>   </td></tr>\n",
       "<tr><td>technology  </td><td>       1.177</td><td>   </td><td>       1.038</td><td>   </td><td>       0.991</td><td>   </td><td>       0.934</td><td>   </td></tr>\n",
       "<tr><td>            </td><td>       0.504</td><td>   </td><td>       0.462</td><td>   </td><td>       1.169</td><td>   </td><td>       1.094</td><td>   </td></tr>\n",
       "<tr><td>worth in billions (2017 $)</td><td>       0.991</td><td>   </td><td>       0.990</td><td>   </td><td>       0.670</td><td>** </td><td>       0.634</td><td>*  </td></tr>\n",
       "<tr><td>            </td><td>       0.014</td><td>   </td><td>       0.015</td><td>   </td><td>       0.104</td><td>   </td><td>       0.126</td><td>   </td></tr>\n",
       "<tr><td>inherited wealth</td><td>       0.572</td><td>** </td><td>       0.703</td><td>   </td><td>       0.782</td><td>   </td><td>       0.800</td><td>   </td></tr>\n",
       "<tr><td>            </td><td>       0.122</td><td>   </td><td>       0.154</td><td>   </td><td>       0.483</td><td>   </td><td>       0.525</td><td>   </td></tr>\n",
       "<tr><td>Non-top 60 BA</td><td>            </td><td>   </td><td>       2.883</td><td>   </td><td>            </td><td>   </td><td>       1.266</td><td>   </td></tr>\n",
       "<tr><td>            </td><td>            </td><td>   </td><td>       2.218</td><td>   </td><td>            </td><td>   </td><td>       1.567</td><td>   </td></tr>\n",
       "<tr><td>Top 30 public BA</td><td>            </td><td>   </td><td>       4.756</td><td>^  </td><td>            </td><td>   </td><td>       2.025</td><td>   </td></tr>\n",
       "<tr><td>            </td><td>            </td><td>   </td><td>       3.921</td><td>   </td><td>            </td><td>   </td><td>       2.618</td><td>   </td></tr>\n",
       "<tr><td>Top 30 private BA</td><td>            </td><td>   </td><td>       8.550</td><td>** </td><td>            </td><td>   </td><td>       1.000</td><td>   </td></tr>\n",
       "<tr><td>            </td><td>            </td><td>   </td><td>       6.450</td><td>   </td><td>            </td><td>   </td><td>           .</td><td>   </td></tr>\n",
       "<tr><td>Non-top 60 MBA</td><td>            </td><td>   </td><td>       1.000</td><td>   </td><td>            </td><td>   </td><td>       1.000</td><td>   </td></tr>\n",
       "<tr><td>            </td><td>            </td><td>   </td><td>           .</td><td>   </td><td>            </td><td>   </td><td>           .</td><td>   </td></tr>\n",
       "<tr><td>Top 30 public MBA</td><td>            </td><td>   </td><td>       1.275</td><td>   </td><td>            </td><td>   </td><td>       1.000</td><td>   </td></tr>\n",
       "<tr><td>            </td><td>            </td><td>   </td><td>       1.271</td><td>   </td><td>            </td><td>   </td><td>           .</td><td>   </td></tr>\n",
       "<tr><td>Top 30 private MBA</td><td>            </td><td>   </td><td>       2.664</td><td>** </td><td>            </td><td>   </td><td>       1.000</td><td>   </td></tr>\n",
       "<tr><td>            </td><td>            </td><td>   </td><td>       0.828</td><td>   </td><td>            </td><td>   </td><td>           .</td><td>   </td></tr>\n",
       "<tr><td>Non-top 60 JD</td><td>            </td><td>   </td><td>       0.542</td><td>   </td><td>            </td><td>   </td><td>       4.719</td><td>   </td></tr>\n",
       "<tr><td>            </td><td>            </td><td>   </td><td>       0.431</td><td>   </td><td>            </td><td>   </td><td>       6.040</td><td>   </td></tr>\n",
       "<tr><td>Top 30 public JD</td><td>            </td><td>   </td><td>       0.488</td><td>   </td><td>            </td><td>   </td><td>       1.000</td><td>   </td></tr>\n",
       "<tr><td>            </td><td>            </td><td>   </td><td>       0.555</td><td>   </td><td>            </td><td>   </td><td>           .</td><td>   </td></tr>\n",
       "<tr><td>Top 30 private JD</td><td>            </td><td>   </td><td>       1.561</td><td>   </td><td>            </td><td>   </td><td>       1.000</td><td>   </td></tr>\n",
       "<tr><td>            </td><td>            </td><td>   </td><td>       0.970</td><td>   </td><td>            </td><td>   </td><td>           .</td><td>   </td></tr>\n",
       "<tr><td>technology  </td><td>            </td><td>   </td><td>            </td><td>   </td><td>       1.000</td><td>   </td><td>            </td><td>   </td></tr>\n",
       "<tr><td>            </td><td>            </td><td>   </td><td>            </td><td>   </td><td>           .</td><td>   </td><td>            </td><td>   </td></tr>\n",
       "<tr><td>technology  </td><td>            </td><td>   </td><td>            </td><td>   </td><td>            </td><td>   </td><td>       1.000</td><td>   </td></tr>\n",
       "<tr><td>            </td><td>            </td><td>   </td><td>            </td><td>   </td><td>            </td><td>   </td><td>           .</td><td>   </td></tr>\n",
       "<tr><td colspan=9><hr></td></tr>\n",
       "<tr><td><i>N</i>    </td><td>        1199</td><td>   </td><td>        1189</td><td>   </td><td>         964</td><td>   </td><td>         644</td><td>   </td></tr>\n",
       "<tr><td colspan=9><hr></td></tr>\n",
       "<tr><td colspan=9>\n",
       "Exponentiated coefficients\n",
       "<br />^ p<.1, * p<.05, ** p<.01, *** p<.001\n",
       "</td></tr>\n",
       "</table>\n",
       "\n"
      ],
      "text/plain": [
       "This front-end or document format cannot display HTML"
      ]
     },
     "metadata": {},
     "output_type": "display_data"
    }
   ],
   "source": [
    "%html\n",
    "\n",
    "esttab   ///\n",
    ", eform cells(b(star fmt(3)) se(fmt(3))) stardetach  ///\n",
    "\tlegend starlevels(^ .1 * .05 ** .01 *** .001) ///\n",
    "\tkeep (pe hedge otherfin technology worth inherited ///\n",
    "1.collegeschooltype 2.collegeschooltype 3.collegeschooltype ///\n",
    "1.mbaschooltype 2.mbaschooltype 3.mbaschooltype ///\n",
    "1.jdschooltype 2.jdschooltype 3.jdschooltype) ///\n",
    "coeflabels(pe \"private equity\" hedge \"hedge fund\" otherfin \"other finance\" finance ///\n",
    "tech \"technology\" worth \"worth in billions (2017 $)\" inherited \"inherited wealth\" ///\n",
    "1.collegeschooltype \"Non-top 60 BA\" 2.collegeschooltype \"Top 30 public BA\" 3.collegeschooltype \"Top 30 private BA\" ///) replace\n",
    "1.mbaschooltype \"Non-top 60 MBA\" 2.mbaschooltype \"Top 30 public MBA\" 3.mbaschooltype \"Top 30 private MBA\" ///\n",
    "1.jdschooltype \"Non-top 60 JD\" 2.jdschooltype \"Top 30 public JD\" 3.jdschooltype \"Top 30 private JD\") ///\n",
    "replace br  nocon se(%9.2g) b(%9.2g) html collabels(none) ///\n",
    "mlabels(\"Top 30 Private\" \"Top 30 Private\" \"Top 30 Public\" \"Top 30 Public\") ///\n",
    "title(Logit regressions for university board membership among Forbes 400)"
   ]
  },
  {
   "cell_type": "code",
   "execution_count": null,
   "metadata": {},
   "outputs": [],
   "source": []
  }
 ],
 "metadata": {
  "kernelspec": {
   "display_name": "Stata",
   "language": "stata",
   "name": "stata"
  },
  "language_info": {
   "codemirror_mode": "stata",
   "file_extension": ".do",
   "mimetype": "text/x-stata",
   "name": "stata",
   "version": "15.1"
  }
 },
 "nbformat": 4,
 "nbformat_minor": 2
}
