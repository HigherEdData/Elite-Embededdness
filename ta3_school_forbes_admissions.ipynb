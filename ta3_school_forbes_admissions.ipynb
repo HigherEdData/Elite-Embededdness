{
 "cells": [
  {
   "cell_type": "markdown",
   "id": "e1621f20-5a42-45ee-a54c-57814783e2b4",
   "metadata": {},
   "source": [
    "## Table A3: Count of schools' financier alumni in Forbes 400 by schools' rejection rates\n",
    "\n",
    "### From Elite Embeddedness\n",
    "\n",
    "By Charlie Eaton and Albina Gibadullina"
   ]
  },
  {
   "cell_type": "code",
   "execution_count": 1,
   "id": "c70dd22e-972c-47d5-942b-68c14c8fb4d5",
   "metadata": {},
   "outputs": [
    {
     "data": {
      "text/html": [
       "<style>div.jp-Notebook .datagrid-container {min-height: 448px; }</style>"
      ],
      "text/plain": [
       "<IPython.core.display.HTML object>"
      ]
     },
     "metadata": {},
     "output_type": "display_data"
    },
    {
     "name": "stdout",
     "output_type": "stream",
     "text": [
      "(795 observations deleted)\n"
     ]
    }
   ],
   "source": [
    "use data/d_school_level_elite_embed.dta, clear\n",
    "keep if year==2003 | year==2017\n",
    "set scheme plotplain"
   ]
  },
  {
   "cell_type": "code",
   "execution_count": 2,
   "id": "14f4f662-c5ef-4c09-8d33-a668cc7f2e83",
   "metadata": {},
   "outputs": [
    {
     "name": "stdout",
     "output_type": "stream",
     "text": [
      "\n",
      "    Variable |        Obs        Mean    Std. dev.       Min        Max\n",
      "-------------+---------------------------------------------------------\n",
      "  rejectrate |         26    70.96526    15.99386   24.67949   90.01763\n"
     ]
    }
   ],
   "source": [
    "sum rejectrate if schooltypenum==3 & year==2003"
   ]
  },
  {
   "cell_type": "code",
   "execution_count": 3,
   "id": "b34cb705-7d78-41e9-851b-3a6a5bc89c2d",
   "metadata": {},
   "outputs": [
    {
     "name": "stdout",
     "output_type": "stream",
     "text": [
      "(86 missing values generated)\n",
      "(26 real changes made)\n",
      "(30 real changes made)\n",
      "(30 real changes made)\n",
      "\n",
      "-------------------------------------------------------------------------------\n",
      "-> schooltypenum = public\n",
      "\n",
      "    Variable |        Obs        Mean    Std. dev.       Min        Max\n",
      "-------------+---------------------------------------------------------\n",
      "pctunderfi~t |         59    .1639691    .0798734   .0183983   .3861746\n",
      "\n",
      "-------------------------------------------------------------------------------\n",
      "-> schooltypenum = private\n",
      "\n",
      "    Variable |        Obs        Mean    Std. dev.       Min        Max\n",
      "-------------+---------------------------------------------------------\n",
      "pctunderfi~t |         56    .1874364    .0638645   .0753589   .3296893\n",
      "\n"
     ]
    }
   ],
   "source": [
    "gen typeyear2=3 if schooltypenum==2 & year==2003\n",
    "replace typeyear2=1 if schooltypenum==3 & year==2003\n",
    "replace typeyear2=4 if schooltypenum==2 & year==2017\n",
    "replace typeyear2=2 if schooltypenum==3 & year==2017\n",
    "label define typeyear2 3 \"Public 2003\" 1 \"Private 2003\" ///\n",
    "4 \"Public 2017\" 2 \"Private 2017\"\n",
    "label val typeyear2 typeyear2\n",
    "\n",
    "qui gen pctunderfirst= tefraceunder/teftotlt\n",
    "\n",
    "bysort schooltypenum: sum pctunderfirst\n",
    "\n",
    "qui gen endow_assets_c_log=log(endowment_assets / cpi_scalar_2017)\n",
    "qui gen logtotal03_revenue=log(total03_revenue / cpi_scalar_2017)\n",
    "qui gen logfte_count=log(teftotlt)\n",
    "\n",
    "qui egen boardcount=rowtotal(pehedge otherfinance nonfinance)\n",
    "qui gen pctalt= pehedge/boardcount * 100"
   ]
  },
  {
   "cell_type": "code",
   "execution_count": 4,
   "id": "bdf56757-bc6b-42c3-ab99-fb5090810d12",
   "metadata": {},
   "outputs": [],
   "source": [
    "*gen rejectrate=(1-acceptrate)*100\n",
    "label var rejectrate \"admissions selectivity (rejection rate)\"\n",
    "label var endow_assets_c_log \"Endowment assets (log 2017 $)\"\n",
    "label var logtotal03_revenue \"University revenue (log 2017 $)\"\n",
    "label var logfte_count \"FTE students (log)\"\n",
    "label var fgrnt_p \"% students low-income\"\n",
    "label var pctunderfirst \"% students racially underrepresented\""
   ]
  },
  {
   "cell_type": "code",
   "execution_count": 5,
   "id": "caf981a0-8138-4a4a-b86c-1e6c092f5659",
   "metadata": {},
   "outputs": [
    {
     "name": "stdout",
     "output_type": "stream",
     "text": [
      "\n",
      "Linear regression                               Number of obs     =         26\n",
      "                                                F(1, 25)          =       6.94\n",
      "                                                Prob > F          =     0.0142\n",
      "                                                R-squared         =     0.2617\n",
      "                                                Root MSE          =     1.9303\n",
      "\n",
      "                                (Std. err. adjusted for 26 clusters in unitid)\n",
      "------------------------------------------------------------------------------\n",
      "             |               Robust\n",
      "alumnipehe~e | Coefficient  std. err.      t    P>|t|     [95% conf. interval]\n",
      "-------------+----------------------------------------------------------------\n",
      "  rejectrate |   .0703963   .0267146     2.64   0.014     .0153765    .1254161\n",
      "       _cons |  -3.726461   1.711547    -2.18   0.039    -7.251459    -.201463\n",
      "------------------------------------------------------------------------------\n"
     ]
    }
   ],
   "source": [
    "est clear\n",
    "qui eststo: reg alumnipehedge rejectrate if schooltypenum==3 & year==2017, cluster(unitid)\n",
    "reg alumnipehedge rejectrate if schooltypenum==3 & year==2003, cluster(unitid)\n",
    "\n",
    "qui eststo: reg alumnipehedge 3.schooltypenum##c.rejectrate ///\n",
    "    logfte_count endow_assets_c_log logtotal03_revenue pctunderfirst fgrnt_p if year==2003, cluster(unitid)\n",
    "\n",
    "qui eststo: reg alumnipehedge 3.schooltypenum##c.rejectrate ///\n",
    "    logfte_count endow_assets_c_log logtotal03_revenue pctunderfirst fgrnt_p if year==2017, cluster(unitid)"
   ]
  },
  {
   "cell_type": "code",
   "execution_count": 6,
   "id": "0ca5fcbc-214b-4e4c-8152-fd0b38eb1002",
   "metadata": {},
   "outputs": [],
   "source": [
    "est clear\n",
    "qui eststo: reg alumnipehedge rejectrate if schooltypenum==3 & year==2003, cluster(unitid)\n",
    "\n",
    "qui eststo: reg alumnipehedge rejectrate if schooltypenum==3 & year==2017, cluster(unitid)\n",
    "\n",
    "qui eststo: reg alumnipehedge rejectrate if schooltypenum==2 & year==2003, cluster(unitid)\n",
    "\n",
    "qui eststo: reg alumnipehedge rejectrate if schooltypenum==2 & year==2017, cluster(unitid)"
   ]
  },
  {
   "cell_type": "code",
   "execution_count": 7,
   "id": "e73d27ac-57be-4605-9344-9c58a46afef2",
   "metadata": {},
   "outputs": [
    {
     "name": "stdout",
     "output_type": "stream",
     "text": [
      "\n",
      "----------------------------------------------------------------------------------------\n",
      "                              (1)              (2)              (3)              (4)    \n",
      "                     Private 2003     Private 2017      Public 2003      Public 2017    \n",
      "----------------------------------------------------------------------------------------\n",
      "admissions selecti~o        0.070 *          0.202 *          0.036 ^          0.021 *  \n",
      "                          (0.027)          (0.076)          (0.018)          (0.009)    \n",
      "----------------------------------------------------------------------------------------\n",
      "R-square                     0.26             0.19             0.35             0.29    \n",
      "Schools                                                                                 \n",
      "N                              26               30               29               30    \n",
      "N                              26               30               29               30    \n",
      "----------------------------------------------------------------------------------------\n"
     ]
    }
   ],
   "source": [
    "set line 150\n",
    "esttab, type cells(b(star fmt(3)) se(par fmt(3))) stardetach ///\n",
    "label collabels(none) ///\n",
    "starlevels(^ .1 * .05 ** .01 *** .001) eqlabels(none) ///\n",
    "keep(rejectrate) ///\n",
    "stats(r2 r2_within N_clust N, fmt(2 2 0 0) label(R-square Schools N)) ///\n",
    "mlabel(\"Private 2003\" \"Private 2017\" \"Public 2003\" \"Public 2017\" \"Panel Fixed Effects\" )"
   ]
  },
  {
   "cell_type": "code",
   "execution_count": 8,
   "id": "4a2a1a8e-12e8-4b3b-b1d2-93c00de036b6",
   "metadata": {},
   "outputs": [
    {
     "name": "stdout",
     "output_type": "stream",
     "text": [
      "\u001b[31mfile tables/ta3_forbes400_admissions.rtf already exists\n",
      "r(602);\u001b[0m\n"
     ]
    }
   ],
   "source": [
    "qui esttab using tables/ta3_forbes400_admissions.rtf, ///\n",
    "type cells(b(star fmt(3)) se(par fmt(3))) stardetach ///\n",
    "label collabels(none) ///\n",
    "starlevels(^ .1 * .05 ** .01 *** .001) eqlabels(none) ///\n",
    "keep(rejectrate) ///\n",
    "stats(r2 r2_within N_clust N, fmt(2 2 0 0) label(R-square Schools N)) ///\n",
    "mlabel(\"Private 2003\" \"Private 2017\" \"Public 2003\" \"Public 2017\" \"Panel Fixed Effects\" )"
   ]
  },
  {
   "cell_type": "code",
   "execution_count": null,
   "id": "7c14478f-0c88-471b-8255-19d67d7b9518",
   "metadata": {},
   "outputs": [],
   "source": [
    "gsort year -schooltypenum schoolname\n",
    "list schoolname rejectrate alumnipehedge unitid if year==2017 & schooltypenum==3"
   ]
  },
  {
   "cell_type": "code",
   "execution_count": null,
   "id": "e1556b30-4184-4365-83b4-bd266fb4f0c9",
   "metadata": {},
   "outputs": [],
   "source": [
    "gsort year -schooltypenum schoolname\n",
    "list schoolname rejectrate alumnipehedge unitid if year==2003 & schooltypenum==3"
   ]
  },
  {
   "cell_type": "code",
   "execution_count": null,
   "id": "cf877cc7-79c3-426b-a05c-3d4a19907915",
   "metadata": {},
   "outputs": [],
   "source": [
    "set line 200\n",
    "gsort -year schooltypenum schoolname\n",
    "list schoolname rejectrate alumnipehedge unitid if year==2017 & schooltypenum==2"
   ]
  },
  {
   "cell_type": "code",
   "execution_count": null,
   "id": "86022d60-a7e1-4239-bb1a-200e4c8f40ef",
   "metadata": {},
   "outputs": [],
   "source": [
    "set line 200\n",
    "gsort year schooltypenum schoolname\n",
    "list schoolname rejectrate alumnipehedge unitid if year==2003 & schooltypenum==2"
   ]
  }
 ],
 "metadata": {
  "kernelspec": {
   "display_name": "Stata (nbstata)",
   "language": "stata",
   "name": "nbstata"
  },
  "language_info": {
   "file_extension": ".do",
   "mimetype": "text/x-stata",
   "name": "stata",
   "version": "17"
  }
 },
 "nbformat": 4,
 "nbformat_minor": 5
}
