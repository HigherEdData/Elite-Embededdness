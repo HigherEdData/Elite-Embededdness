{
 "cells": [
  {
   "cell_type": "markdown",
   "metadata": {},
   "source": [
    "## Appendix Table A4: Private equity excess IRR above S&P annual rate of return and partner trustee ties, without year fixed effects\n",
    "\n",
    "### From Elite Embeddedness\n",
    "\n",
    "By Charlie Eaton and Albina Gibadullina"
   ]
  },
  {
   "cell_type": "code",
   "execution_count": 1,
   "metadata": {},
   "outputs": [
    {
     "data": {
      "text/html": [
       "<style>div.jp-Notebook .datagrid-container {min-height: 448px; }</style>"
      ],
      "text/plain": [
       "<IPython.core.display.HTML object>"
      ]
     },
     "metadata": {},
     "output_type": "display_data"
    }
   ],
   "source": [
    "use data/preqin_sandp_trustee_ties, clear"
   ]
  },
  {
   "cell_type": "code",
   "execution_count": 2,
   "metadata": {},
   "outputs": [],
   "source": [
    "encode fund_type, gen(ifundtype)\n",
    "encode fund_focus, gen(ifundfocus)"
   ]
  },
  {
   "cell_type": "code",
   "execution_count": 3,
   "metadata": {},
   "outputs": [
    {
     "name": "stdout",
     "output_type": "stream",
     "text": [
      "\n",
      "-------------------------------------------------------------------------------\n",
      "Value label ifundtype \n",
      "-------------------------------------------------------------------------------\n",
      "\n",
      "      Values                                    Labels\n",
      "       Range:  [1,14]                    String length:  [6,27]\n",
      "           N:  14                Unique at full length:  yes\n",
      "        Gaps:  no                  Unique at length 12:  no\n",
      "  Missing .*:  0                           Null string:  no\n",
      "                               Leading/trailing blanks:  no\n",
      "                                    Numeric -> numeric:  no\n",
      "  Definition\n",
      "           1   Balanced\n",
      "           2   Buyout\n",
      "           3   Co-Investment Multi-Manager\n",
      "           4   Co-investment\n",
      "           5   Direct Secondaries\n",
      "           6   Early Stage\n",
      "           7   Early Stage: Seed\n",
      "           8   Early Stage: Start-up\n",
      "           9   Expansion / Late Stage\n",
      "          10   Fund of Funds\n",
      "          11   Growth\n",
      "          12   Secondaries\n",
      "          13   Turnaround\n",
      "          14   Venture (General)\n",
      "\n",
      "   Variables:  ifundtype\n",
      "\n"
     ]
    }
   ],
   "source": [
    "labelbook ifundtype"
   ]
  },
  {
   "cell_type": "code",
   "execution_count": 4,
   "metadata": {},
   "outputs": [
    {
     "name": "stdout",
     "output_type": "stream",
     "text": [
      "(88 real changes made)\n",
      "(51 real changes made)\n",
      "(9 real changes made)\n"
     ]
    }
   ],
   "source": [
    "replace ifundtype=6 if ifundtype==7 | ifundtype==9\n",
    "replace ifundtype=3 if ifundtype==4\n",
    "replace ifundtype=12 if ifundtype==5"
   ]
  },
  {
   "cell_type": "code",
   "execution_count": 5,
   "metadata": {},
   "outputs": [
    {
     "name": "stdout",
     "output_type": "stream",
     "text": [
      "\n",
      "                  Fund_Type |      Freq.     Percent        Cum.\n",
      "----------------------------+-----------------------------------\n",
      "                   Balanced |         28        1.27        1.27\n",
      "                     Buyout |        837       37.86       39.12\n",
      "Co-Investment Multi-Manager |         92        4.16       43.28\n",
      "                Early Stage |        224       10.13       53.41\n",
      "      Early Stage: Start-up |         21        0.95       54.36\n",
      "              Fund of Funds |        470       21.26       75.62\n",
      "                     Growth |        187        8.46       84.08\n",
      "                Secondaries |        122        5.52       89.60\n",
      "                 Turnaround |          8        0.36       89.96\n",
      "          Venture (General) |        222       10.04      100.00\n",
      "----------------------------+-----------------------------------\n",
      "                      Total |      2,211      100.00\n"
     ]
    }
   ],
   "source": [
    "tab ifundtype"
   ]
  },
  {
   "cell_type": "code",
   "execution_count": 6,
   "metadata": {},
   "outputs": [],
   "source": [
    "gen net_irr_premium= net_irr_pcent-sp500_return_pct"
   ]
  },
  {
   "cell_type": "code",
   "execution_count": 7,
   "metadata": {},
   "outputs": [
    {
     "name": "stdout",
     "output_type": "stream",
     "text": [
      "\n",
      "-------------------------------------------------------------------------------\n",
      "Value label ifundfocus \n",
      "-------------------------------------------------------------------------------\n",
      "\n",
      "      Values                                    Labels\n",
      "       Range:  [1,8]                     String length:  [2,20]\n",
      "           N:  8                 Unique at full length:  yes\n",
      "        Gaps:  no                  Unique at length 12:  yes\n",
      "  Missing .*:  0                           Null string:  no\n",
      "                               Leading/trailing blanks:  no\n",
      "                                    Numeric -> numeric:  no\n",
      "  Definition\n",
      "           1   Africa\n",
      "           2   Americas\n",
      "           3   Asia\n",
      "           4   Australasia\n",
      "           5   Diversified Multi-Re\n",
      "           6   Europe\n",
      "           7   Middle East & Israel\n",
      "           8   US\n",
      "\n",
      "   Variables:  ifundfocus\n",
      "\n"
     ]
    }
   ],
   "source": [
    "labelbook ifundfocus"
   ]
  },
  {
   "cell_type": "code",
   "execution_count": 8,
   "metadata": {},
   "outputs": [
    {
     "name": "stdout",
     "output_type": "stream",
     "text": [
      "(270 observations deleted)\n"
     ]
    }
   ],
   "source": [
    "keep if ifundfocus>4 & ifundfocus!=7 "
   ]
  },
  {
   "cell_type": "code",
   "execution_count": 9,
   "metadata": {},
   "outputs": [
    {
     "name": "stdout",
     "output_type": "stream",
     "text": [
      "(7 observations deleted)\n"
     ]
    }
   ],
   "source": [
    "keep if fund_focus!=\"\""
   ]
  },
  {
   "cell_type": "code",
   "execution_count": 10,
   "metadata": {},
   "outputs": [
    {
     "name": "stdout",
     "output_type": "stream",
     "text": [
      "\n",
      "          Fund_Focus |      Freq.     Percent        Cum.\n",
      "---------------------+-----------------------------------\n",
      "Diversified Multi-Re |         21        1.09        1.09\n",
      "              Europe |        426       22.03       23.11\n",
      "                  US |      1,487       76.89      100.00\n",
      "---------------------+-----------------------------------\n",
      "               Total |      1,934      100.00\n"
     ]
    }
   ],
   "source": [
    "tab ifundfocus"
   ]
  },
  {
   "cell_type": "code",
   "execution_count": 11,
   "metadata": {},
   "outputs": [],
   "source": [
    "xi i.ifundfocus, noomit prefix(_D)"
   ]
  },
  {
   "cell_type": "code",
   "execution_count": 12,
   "metadata": {},
   "outputs": [
    {
     "name": "stdout",
     "output_type": "stream",
     "text": [
      "_Difundfoc~5  _Difundfoc~6  _Difundfoc~8\n"
     ]
    }
   ],
   "source": [
    "ds _D*"
   ]
  },
  {
   "cell_type": "code",
   "execution_count": 13,
   "metadata": {},
   "outputs": [],
   "source": [
    "xi i.fund_type, noomit"
   ]
  },
  {
   "cell_type": "code",
   "execution_count": 14,
   "metadata": {},
   "outputs": [
    {
     "name": "stdout",
     "output_type": "stream",
     "text": [
      "_Ifund_ty~_1  _Ifund_ty~_4  _Ifund_typ~7  _Ifund_ty~10  _Ifund_ty~13\n",
      "_Ifund_ty~_2  _Ifund_typ~5  _Ifund_typ~8  _Ifund_ty~11  _Ifund_ty~14\n",
      "_Ifund_ty~_3  _Ifund_typ~6  _Ifund_typ~9  _Ifund_ty~12\n"
     ]
    }
   ],
   "source": [
    "ds _I*"
   ]
  },
  {
   "cell_type": "code",
   "execution_count": 15,
   "metadata": {},
   "outputs": [],
   "source": [
    "qui replace strength=0 if strength==."
   ]
  },
  {
   "cell_type": "code",
   "execution_count": 16,
   "metadata": {},
   "outputs": [],
   "source": [
    "collapse (max) rejectrt2017 (rawsum) fundvaluemnusd (first) firmname (min) public_board_ties private_board_ties ///\n",
    "rejectrt otherfinance cpi_scalar_2017 rejectmax rejectrtmn rejectrtindex rejectprivate private public publictop30 privatetop30  ///\n",
    " betweenness strength eigenvector Edu_sci_med Non_finance Nonprofit Other_fin Alt_fin Public_sector Real_estate ///\n",
    "(mean) _I* _D* net_irr_pcent net_irr_premium [aweight=fundvaluemnusd], by(firmid year)"
   ]
  },
  {
   "cell_type": "code",
   "execution_count": 17,
   "metadata": {},
   "outputs": [],
   "source": [
    "qui gen lnfundvaluemnusd=log(fundvaluemnusd)\n",
    "\n",
    "gen allother=strength-Non_finance_business"
   ]
  },
  {
   "cell_type": "code",
   "execution_count": 18,
   "metadata": {},
   "outputs": [],
   "source": [
    "label var privatetop30 \"private trustee seats\"\n",
    "\n",
    "label var publictop30 \"public trustee seats\"\n",
    "\n",
    "label var rejectmax \"Highest admissions selectivity of trustees\"\n",
    "\n",
    "label var lnfundvaluemnusd \"Fund size (log)\"\n",
    "\n",
    "label var strength \"Trustee network weighted degree\"\n",
    "\n",
    "label var Non_finance \"Non-financial business ties\"\n",
    "\n",
    "label var  allother \"All other trustee ties\"\n",
    "\n",
    "label var rejectrtindex \"count of trustees weighted by admissions selectivity\"\n",
    "\n",
    "label var public_board_ties \"public trustee ties\"\n",
    "\n",
    "label var private_board_ties \"private trustee ties\""
   ]
  },
  {
   "cell_type": "markdown",
   "metadata": {},
   "source": [
    "Note, the _I* and _D* variables are the proportions of firms funds under the fund types and fund focus regions reported above "
   ]
  },
  {
   "cell_type": "code",
   "execution_count": 19,
   "metadata": {},
   "outputs": [
    {
     "name": "stdout",
     "output_type": "stream",
     "text": [
      "_Ifund_ty~_1  _Ifund_typ~5  _Ifund_typ~9  _Ifund_ty~13  _Difundfoc~8\n",
      "_Ifund_ty~_2  _Ifund_typ~6  _Ifund_ty~10  _Ifund_ty~14\n",
      "_Ifund_ty~_3  _Ifund_typ~7  _Ifund_ty~11  _Difundfoc~5\n",
      "_Ifund_ty~_4  _Ifund_typ~8  _Ifund_ty~12  _Difundfoc~6\n"
     ]
    }
   ],
   "source": [
    "ds _I* _D*"
   ]
  },
  {
   "cell_type": "code",
   "execution_count": 20,
   "metadata": {},
   "outputs": [],
   "source": [
    "set line 255\n",
    "est clear\n",
    "qui xtset firmid year\n",
    "\n",
    "qui eststo: reghdfe net_irr_premium lnfundvaluemnusd privatetop30 publictop30 _I* _D*, absorb(firmid) cluster(firmid)\n",
    "\n",
    "qui eststo: reghdfe net_irr_premium Non_finance_business ///\n",
    " lnfundvaluemnusd _I* _D*, absorb(firmid) cluster(firmid)\n",
    "\n",
    "qui eststo: reghdfe net_irr_premium lnfundvaluemnusd ///\n",
    "allother _I* _D*, absorb(firmid) cluster(firmid)"
   ]
  },
  {
   "cell_type": "code",
   "execution_count": 21,
   "metadata": {},
   "outputs": [
    {
     "name": "stdout",
     "output_type": "stream",
     "text": [
      "Table A4: Panel Fixed Effects Regression of Net Returns Premium over S&P\n",
      "\n",
      "-----------------------------------------------------------------------\n",
      "                              (1)              (2)              (3)    \n",
      "-----------------------------------------------------------------------\n",
      "private trustee se~s        3.459 ***                                  \n",
      "                          (0.929)                                      \n",
      "public trustee seats       -2.529                                      \n",
      "                          (6.132)                                      \n",
      "Non-financial busi~s                         0.181 ***                 \n",
      "                                           (0.051)                     \n",
      "All other trustee ~s                                          0.114 ***\n",
      "                                                            (0.032)    \n",
      "Fund size (log)            -0.400           -0.377           -0.385    \n",
      "                          (0.558)          (0.560)          (0.561)    \n",
      "-----------------------------------------------------------------------\n",
      "R-square                    0.466            0.466            0.465    \n",
      "N                            1325             1325             1325    \n",
      "Firms                         412              412              412    \n",
      "-----------------------------------------------------------------------\n",
      "^ p<.1, * p<.05, ** p<.01, *** p<.001\n",
      "Note: All models include firm fixed effects.\n"
     ]
    }
   ],
   "source": [
    "display \"Table A4: Panel Fixed Effects Regression of Net Returns Premium over S&P\"\n",
    "\n",
    "esttab, type cells(b(star fmt(3)) se(fmt(3) par)) stardetach ///\n",
    "\t legend label varlabels(_cons Constant) stats(r2 N N_clust, fmt(3 0 0) ///\n",
    "\tlabel(R-square N Firms)) keep(lnfundvaluemnusd ///\n",
    "privatetop30 publictop30 allother ///\n",
    "Non_finance_business ) ///\n",
    "order(privatetop30 publictop30 private_board_ties public_board_ties ///\n",
    "Non_finance_business allother) ///\n",
    "starlevels(^ .1 * .05 ** .01 *** .001) mlabel(none) ///\n",
    "collabels(none) eqlabels(none)\n",
    "\n",
    "display \"Note: All models include firm fixed effects.\""
   ]
  },
  {
   "cell_type": "code",
   "execution_count": 22,
   "metadata": {},
   "outputs": [],
   "source": [
    "qui esttab using tables/ta4_returns_trustee_ties_firm_fe.rtf, type cells(b(star fmt(3)) se(fmt(3) par)) ///\n",
    "\t legend label varlabels(_cons Constant) stats(r2 N N_clust, fmt(3 0 0) ///\n",
    "\tlabel(R-square N Firms)) keep(lnfundvaluemnusd ///\n",
    "privatetop30 publictop30 allother ///\n",
    "Non_finance_business ) ///\n",
    "order(privatetop30 publictop30 rejectrtindex ///\n",
    "Non_finance_business allother) ///\n",
    "starlevels(^ .1 * .05 ** .01 *** .001) mlabel(none) ///\n",
    "collabels(none) eqlabels(none) replace"
   ]
  }
 ],
 "metadata": {
  "kernelspec": {
   "display_name": "Stata (nbstata)",
   "language": "stata",
   "name": "nbstata"
  },
  "language_info": {
   "file_extension": ".do",
   "mimetype": "text/x-stata",
   "name": "stata",
   "version": "17"
  }
 },
 "nbformat": 4,
 "nbformat_minor": 4
}
