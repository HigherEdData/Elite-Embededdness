{
 "cells": [
  {
   "cell_type": "markdown",
   "id": "9b9f1690-ba3f-4768-90bf-14e809b9647b",
   "metadata": {},
   "source": [
    "## Collapse Board Data to Firm Level, Merge Preqin Returns Data\n",
    "\n",
    "### For Table 5 of Elite Embeddedness\n",
    "\n",
    "By Charlie Eaton and Albina Gibadullina"
   ]
  },
  {
   "cell_type": "code",
   "execution_count": 1,
   "id": "5b0b1029-0c96-4958-9266-47d31e0093d7",
   "metadata": {},
   "outputs": [
    {
     "name": "stdout",
     "output_type": "stream",
     "text": [
      "\n",
      "\n",
      "\n",
      "\n",
      "Contains data from /Users/Charlie/Dropbox/Bankers in the Ivory Tower Book/2 Our New Financial Oligarchy/Data/Boards 2000 to 2017/board_members_all_lon\n",
      "> g20220501.dta\n",
      " Observations:        34,686                  \n",
      "    Variables:            30                  02 May 2022 01:24\n",
      "         Size:    29,483,100                  \n",
      "------------------------------------------------------------------------------------------------------------------------------------------------------\n",
      "Variable      Storage   Display    Value\n",
      "    name         type    format    label      Variable label\n",
      "------------------------------------------------------------------------------------------------------------------------------------------------------\n",
      "unitid          double  %9.0g                 unitid\n",
      "firstname       str16   %19s                  firstname\n",
      "lastname        str61   %61s                  lastname\n",
      "year            double  %9.0g                 \n",
      "schoolname      str43   %43s                  schoolname\n",
      "suffix          str3    %9s                   \n",
      "schooltype      str12   %12s                  \n",
      "financetype     str22   %-9s                  \n",
      "middlename      str15   %15s                  \n",
      "yeargraduated   str28   %28s                  \n",
      "forbes          str3    %9s                   \n",
      "forbesyear      double  %8.0g                 \n",
      "industry        double  %10.0g                industry\n",
      "boardofficer    double  %8.0g                 \n",
      "boardchair      double  %8.0g                 \n",
      "undergrad       str52   %52s                  undergrad\n",
      "mba             str39   %39s                  mba\n",
      "jd              str43   %43s                  jd\n",
      "md              str40   %40s                  md\n",
      "phd             str40   %40s                  phd\n",
      "alumni          double  %10.0g                alumni\n",
      "control         double  %8.0g      control    \n",
      "acceptrate      double  %9.0g                 Acceptance rate\n",
      "unique_id       double  %12.0g                \n",
      "firmname_new    str315  %-9s                  \n",
      "strength        double  %10.0g                \n",
      "betweenness     double  %10.0g                \n",
      "eigenvector     double  %10.0g                \n",
      "hubs            double  %10.0g                \n",
      "firmid          str6    %-9s                  \n",
      "------------------------------------------------------------------------------------------------------------------------------------------------------\n",
      "Sorted by: \n",
      "\n",
      "file d_board_members_all_long20220501.dta saved\n"
     ]
    }
   ],
   "source": [
    "set line 150\n",
    "use acceptrate alumni betweenness boardchair boardofficer control eigenvector financetype firmid firmname_new forbes forbesyear firstname middlename last suffix ///\n",
    "hubs industry jd mba md phd schooltype strength undergrad unitid unique_id year yeargraduated schoolname using ///\n",
    "\"/Users/Charlie/Dropbox/Bankers in the Ivory Tower Book/2 Our New Financial Oligarchy/Data/Boards 2000 to 2017/board_members_all_long20220501.dta\", clear\n",
    "describe, size\n",
    "save d_board_members_all_long20220501, replace"
   ]
  },
  {
   "cell_type": "code",
   "execution_count": 2,
   "id": "5fff056c-2e87-4d57-9877-d239206456fd",
   "metadata": {},
   "outputs": [
    {
     "data": {
      "text/html": [
       "<div>\n",
       "<style scoped>\n",
       "    .dataframe tbody tr th:only-of-type {\n",
       "        vertical-align: middle;\n",
       "    }\n",
       "\n",
       "    .dataframe tbody tr th {\n",
       "        vertical-align: top;\n",
       "    }\n",
       "\n",
       "    .dataframe thead th {\n",
       "        text-align: right;\n",
       "    }\n",
       "</style>\n",
       "<table border=\"1\" class=\"dataframe\">\n",
       "  <thead>\n",
       "    <tr style=\"text-align: right;\">\n",
       "      <th></th>\n",
       "      <th>firstname</th>\n",
       "      <th>lastname</th>\n",
       "      <th>year</th>\n",
       "      <th>firmid</th>\n",
       "      <th>firmname_new</th>\n",
       "      <th>eigenvector</th>\n",
       "      <th>schoolname</th>\n",
       "    </tr>\n",
       "  </thead>\n",
       "  <tbody>\n",
       "    <tr>\n",
       "      <th>3421</th>\n",
       "      <td>robert</td>\n",
       "      <td>kapito</td>\n",
       "      <td>2017</td>\n",
       "      <td>110</td>\n",
       "      <td>blackrock</td>\n",
       "      <td>.128855489306535</td>\n",
       "      <td>university of pennsylvania</td>\n",
       "    </tr>\n",
       "    <tr>\n",
       "      <th>5383</th>\n",
       "      <td>rick</td>\n",
       "      <td>rieder</td>\n",
       "      <td>2017</td>\n",
       "      <td>110</td>\n",
       "      <td>blackrock</td>\n",
       "      <td>.128855489306535</td>\n",
       "      <td>emory university</td>\n",
       "    </tr>\n",
       "    <tr>\n",
       "      <th>7020</th>\n",
       "      <td>barbara</td>\n",
       "      <td>novick</td>\n",
       "      <td>2017</td>\n",
       "      <td>110</td>\n",
       "      <td>blackrock</td>\n",
       "      <td>.128855489306535</td>\n",
       "      <td>cornell university</td>\n",
       "    </tr>\n",
       "    <tr>\n",
       "      <th>14509</th>\n",
       "      <td>laurence</td>\n",
       "      <td>fink</td>\n",
       "      <td>2017</td>\n",
       "      <td>110</td>\n",
       "      <td>blackrock</td>\n",
       "      <td>.128855489306535</td>\n",
       "      <td>new york university</td>\n",
       "    </tr>\n",
       "  </tbody>\n",
       "</table>\n",
       "</div>"
      ],
      "text/plain": [
       ". _StataKernelHead firstname lastname year firmid firmname_new eigenvector schoolname if firmname==\"blackrock\" & year==2017 using `\"/Users/Charlie/.stata_kernel_cache/data_head.csv\"' , n_default(10)\n",
       "\n",
       "       +------------------------------------------------------------------------------------------+\n",
       "       | firstn~e   lastname   year   firmid   firmnam~w   eigenve~r                   schoolname |\n",
       "       |------------------------------------------------------------------------------------------|\n",
       " 3421. |   robert     kapito   2017   110      blackrock   .12885549   university of pennsylvania |\n",
       " 5383. |     rick     rieder   2017   110      blackrock   .12885549             emory university |\n",
       " 7020. |  barbara     novick   2017   110      blackrock   .12885549           cornell university |\n",
       "14509. | laurence       fink   2017   110      blackrock   .12885549          new york university |\n",
       "       +------------------------------------------------------------------------------------------+\n",
       "\n"
      ]
     },
     "metadata": {},
     "output_type": "display_data"
    }
   ],
   "source": [
    "%head firstname lastname year firmid firmname_new eigenvector schoolname if firmname==\"blackrock\" & year==2017"
   ]
  },
  {
   "cell_type": "code",
   "execution_count": 3,
   "id": "3c999b6d-7396-43d9-bba8-61975ab4a8ad",
   "metadata": {},
   "outputs": [
    {
     "name": "stdout",
     "output_type": "stream",
     "text": [
      "\n",
      "\n",
      "(1,886 observations deleted)\n",
      "\n",
      "(1,689 observations deleted)\n",
      "\n",
      "(574 real changes made)\n",
      "\n",
      "(4,765 observations deleted)\n"
     ]
    }
   ],
   "source": [
    "use unitid firmid firmname_new eigenvector betweenness strength schooltype schoolname year using d_board_members_all_long20220501, clear\n",
    "drop if schooltype==\"liberal arts\"\n",
    "drop if unitid==232186 | unitid==126818 | unitid==209542 | unitid==221759 | unitid==102614 | unitid==129020 | unitid==181464\n",
    "\n",
    "**correct delaware unitid (flagship which has enrollment data etc.)\n",
    "replace unitid=130943 if unitid==130343\n",
    "keep if year>2002 & year<2018"
   ]
  },
  {
   "cell_type": "code",
   "execution_count": 4,
   "id": "c6380012-f36f-4438-9ffd-ed133a180f6e",
   "metadata": {},
   "outputs": [
    {
     "name": "stdout",
     "output_type": "stream",
     "text": [
      "\n",
      "\n",
      "    Result                      Number of obs\n",
      "    -----------------------------------------\n",
      "    Not matched                             0\n",
      "    Matched                            26,346  (_merge==3)\n",
      "    -----------------------------------------\n",
      "\n",
      "\n",
      "schooltypen |\n",
      "         um |      Freq.     Percent        Cum.\n",
      "------------+-----------------------------------\n",
      "     public |      6,585       24.99       24.99\n",
      "    private |     19,761       75.01      100.00\n",
      "------------+-----------------------------------\n",
      "      Total |     26,346      100.00\n",
      "\n",
      "\n",
      "\n",
      "\n",
      "\n",
      "\n",
      "\n",
      "\n"
     ]
    }
   ],
   "source": [
    "merge m:1 unitid year using d_school_level_elite_embed, keepusing(alumnipehedge ///\n",
    "     acceptrate fte_count endowment_assets total03_revenue schooltypenum ///\n",
    "    ftfirstefwhitt ptfirstefwhitt ftfirstefasiat ptfirstefasiat ftfirsteftotlt ptfirsteftotlt ///\n",
    "    pe hedge otherfinance nonfinance fgrnt_p year cpi_scalar_2017)\n",
    "\n",
    "tab schooltypenum\n",
    "\n",
    "qui egen repfirst=rowtotal(ftfirstefwhitt ptfirstefwhitt ftfirstefasiat ptfirstefasiat)\n",
    "qui egen allfirst=rowtotal(ftfirsteftotlt  ptfirsteftotlt)\n",
    "qui gen pctunderfirst= (allfirst-allfirst) / allfirst\n",
    "\n",
    "gen privatetop30=schooltypenum==3\n",
    "gen publictop30=schooltypenum==2\n",
    "gen rejectrtindex=1-acceptrate\n",
    "gen rejectrtmn=1-acceptrate\n",
    "gen rejectmax=1-acceptrate"
   ]
  },
  {
   "cell_type": "code",
   "execution_count": 5,
   "id": "44130d42-0403-4b60-84d6-eabb3fd0b1c5",
   "metadata": {},
   "outputs": [],
   "source": [
    "qui collapse (max) rejectmax (first) schoolname firmname_new eigenvector betweenness strength cpi_scalar_2017 (sum) fte_count endowment_assets total03_revenue ///\n",
    "    privatetop30 publictop30 pe hedge otherfinance nonfinance alumnipehedge rejectrtindex (mean) pctunderfirst fgrnt_p acceptrate ///\n",
    "    rejectrtmn, by(firmid year)"
   ]
  },
  {
   "cell_type": "code",
   "execution_count": 6,
   "id": "b89e24b3-49e8-4082-b442-44b710f3922f",
   "metadata": {},
   "outputs": [],
   "source": [
    "qui gen endow_assets_c_log=log(endowment_assets / cpi_scalar_2017)\n",
    "qui gen logtotal03_revenue=log(total03_revenue / cpi_scalar_2017)\n",
    "qui gen logfte_count=log(fte_count)\n",
    "\n",
    "*qui egen pehedge=rowtotal(pe hedge)\n",
    "*qui egen boardcount=rowtotal(pe hedge otherfinance nonfinance)\n",
    "*qui gen pctalt= pehedge/boardcount\n",
    "\n",
    "label var alumnipehedge \"# financier alumni in Forbes 400\"\n",
    "label var logfte_count \"log FTE enrollment\"\n",
    "label var pctunderfirst \"% underrepresented students of color\"\n",
    "label var logtotal03_revenue \"log total revenue\"\n",
    "label var endow_assets_c_log \"log endowment value\"\n",
    "label var fgrnt_p \"% Pell recipients\"\n",
    "label var acceptrate \"Admissions rate\""
   ]
  },
  {
   "cell_type": "code",
   "execution_count": 7,
   "id": "9491cd30-1068-4a3c-ae03-323601026d53",
   "metadata": {},
   "outputs": [
    {
     "name": "stdout",
     "output_type": "stream",
     "text": [
      "file d_firm_level_trustee_ties.dta saved\n"
     ]
    }
   ],
   "source": [
    "save d_firm_level_trustee_ties, replace"
   ]
  },
  {
   "cell_type": "code",
   "execution_count": 8,
   "id": "13d99eb5-6891-4831-963c-8b38b4bdb360",
   "metadata": {},
   "outputs": [
    {
     "name": "stdout",
     "output_type": "stream",
     "text": [
      ". import excel using Preqin_PEPerf_20210717195427.xlsx , cellra(A22) case(lower\n",
      "> ) first clear\n",
      "(28 vars, 10,996 obs)\n"
     ]
    }
   ],
   "source": [
    "import excel using Preqin_PEPerf_20210717195427.xlsx ///\n",
    ", cellra(A22) case(lower) first clear "
   ]
  },
  {
   "cell_type": "code",
   "execution_count": 9,
   "id": "e1a6d26b-c3b8-4e30-8a14-478ba3cedf74",
   "metadata": {},
   "outputs": [
    {
     "name": "stdout",
     "output_type": "stream",
     "text": [
      "\n",
      "netirr: characters n / m removed; replaced as double\n",
      "(2082 missing values generated)\n",
      "benchnetirr: characters n / m removed; replaced as double\n",
      "(970 missing values generated)\n",
      "netirrdiffpts: characters n / m removed; replaced as double\n",
      "(2113 missing values generated)\n"
     ]
    }
   ],
   "source": [
    "destring netirr benchnetirr netirrdiffpts, ignore(\"n\" \"/\" \"m\" \",\") replace"
   ]
  },
  {
   "cell_type": "code",
   "execution_count": 10,
   "id": "9335d7f1-8218-40cd-a2ea-e6f3c3b276ac",
   "metadata": {},
   "outputs": [
    {
     "name": "stdout",
     "output_type": "stream",
     "text": [
      "\n",
      "\n",
      "(4,256 observations deleted)\n",
      "\n",
      "firmid was long now str6\n"
     ]
    }
   ],
   "source": [
    "rename vintage year\n",
    "drop if year<2003 | year>2017\n",
    "tostring firmid, replace"
   ]
  },
  {
   "cell_type": "code",
   "execution_count": 11,
   "id": "5ead76b9-c6e0-441a-b7dc-49fd55274a01",
   "metadata": {},
   "outputs": [
    {
     "name": "stdout",
     "output_type": "stream",
     "text": [
      ". merge m:m firmid year using d_firm_level_trustee_ties, gen(trustmerge) keep(1\n",
      ">  3)\n",
      "(variable year was int, now double to accommodate using data's values)\n",
      "\n",
      "    Result                      Number of obs\n",
      "    -----------------------------------------\n",
      "    Not matched                         6,278\n",
      "        from master                     6,278  (trustmerge==1)\n",
      "        from using                          0  (trustmerge==2)\n",
      "\n",
      "    Matched                               462  (trustmerge==3)\n",
      "    -----------------------------------------\n"
     ]
    }
   ],
   "source": [
    "merge m:m firmid year using d_firm_level_trustee_ties, gen(trustmerge) keep(1 3)"
   ]
  },
  {
   "cell_type": "code",
   "execution_count": 12,
   "id": "c8193f88-42e3-444d-8a07-4a17c446f9f8",
   "metadata": {},
   "outputs": [
    {
     "name": "stdout",
     "output_type": "stream",
     "text": [
      "\n",
      "firmid: all characters numeric; replaced as long\n",
      "\n",
      "(1,964 missing values generated)\n",
      "\n",
      "(6,492 real changes made)\n",
      "\n",
      "(4,878 real changes made)\n",
      "\n",
      "(248 missing values generated)\n",
      "\n",
      "(1,862 missing values generated)\n"
     ]
    }
   ],
   "source": [
    "destring firmid, replace\n",
    "gen pctfundtarget= fundvaluemnusd / fundtargetvaluemnusd\n",
    "replace fundvaluemnusd=fundvaluemnusd*1000000\n",
    "replace fundtargetvaluemnusd=fundtargetvaluemnusd*1000000\n",
    "gen lnfundvalue=ln(fundvaluemnusd)\n",
    "gen lnfundtarget=ln(fundtargetvaluemnusd)"
   ]
  },
  {
   "cell_type": "code",
   "execution_count": 13,
   "id": "f7157561-e7ca-419c-8f03-cd169b61570c",
   "metadata": {},
   "outputs": [
    {
     "name": "stdout",
     "output_type": "stream",
     "text": [
      "\n",
      "(6,278 real changes made)\n",
      "(6,278 real changes made)\n",
      "(6,278 real changes made)\n",
      "(6,278 real changes made)\n",
      "(6,278 real changes made)\n",
      "(6,278 real changes made)\n",
      "\n",
      "\n"
     ]
    }
   ],
   "source": [
    "foreach var in publictop30 privatetop30 eigenvector rejectrtindex rejectrtmn rejectmax {\n",
    "    replace `var' = 0 if `var'==.\n",
    "}\n",
    "gen private=privatetop30!=0\n",
    "gen public=publictop30!=0"
   ]
  },
  {
   "cell_type": "code",
   "execution_count": 14,
   "id": "9cf10099-5311-48f9-bbe4-259fccca75c9",
   "metadata": {},
   "outputs": [
    {
     "name": "stdout",
     "output_type": "stream",
     "text": [
      "file d_prequin_trustee_ties.dta saved\n"
     ]
    }
   ],
   "source": [
    "save d_prequin_trustee_ties, replace"
   ]
  }
 ],
 "metadata": {
  "kernelspec": {
   "display_name": "Stata",
   "language": "stata",
   "name": "stata"
  },
  "language_info": {
   "codemirror_mode": "stata",
   "file_extension": ".do",
   "mimetype": "text/x-stata",
   "name": "stata",
   "version": "15.1"
  }
 },
 "nbformat": 4,
 "nbformat_minor": 5
}
