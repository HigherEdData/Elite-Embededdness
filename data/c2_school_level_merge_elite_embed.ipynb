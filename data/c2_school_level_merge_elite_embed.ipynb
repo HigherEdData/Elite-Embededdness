{
 "cells": [
  {
   "cell_type": "markdown",
   "id": "39608380-0fb7-43b7-95a7-c060f3dcb4bc",
   "metadata": {},
   "source": [
    "## Collapse Board Data to School Level, Merge with IPEDS and NACUBO Data\n",
    "\n",
    "### For Tables 3 and 4 of Elite Embeddedness\n",
    "\n",
    "By Charlie Eaton and Albina Gibadullina"
   ]
  },
  {
   "cell_type": "code",
   "execution_count": 1,
   "id": "d6ce39a5-069f-4bd9-a668-64f1669c513b",
   "metadata": {},
   "outputs": [
    {
     "data": {
      "text/html": [
       "<style>div.jp-Notebook .datagrid-container {min-height: 448px; }</style>"
      ],
      "text/plain": [
       "<IPython.core.display.HTML object>"
      ]
     },
     "metadata": {},
     "output_type": "display_data"
    },
    {
     "name": "stdout",
     "output_type": "stream",
     "text": [
      "file d_trustees_all_long.dta saved\n"
     ]
    }
   ],
   "source": [
    "use ///\n",
    "\"/Users/Charlie/Dropbox/Bankers in the Ivory Tower Book/2 Our New Financial Oligarchy/Data/Boards 2000 to 2017/board_members_all_long20220501.dta\" ///\n",
    ", clear\n",
    "keep unitid firstname middlename lastname suffix undergrad mba jd md phd otherprofdegree ///\n",
    "alumni schoolname schooltype industry_code financetype unitid ///\n",
    "firmid firmname_new organization forbes forbesyear betweenness strength year eigenvector ///\n",
    "Edu_sci_med Non_finance Nonprofit Other_fin Alt_fin Public_sector employer_type_aggregated ///\n",
    "Real_estate industry_jenk alternative\n",
    "\n",
    "save d_trustees_all_long, replace"
   ]
  },
  {
   "cell_type": "code",
   "execution_count": 1,
   "id": "f4645e6d-162f-49d4-8ee2-4de502b44bbf",
   "metadata": {},
   "outputs": [
    {
     "data": {
      "text/html": [
       "<style>div.jp-Notebook .datagrid-container {min-height: 448px; }</style>"
      ],
      "text/plain": [
       "<IPython.core.display.HTML object>"
      ]
     },
     "metadata": {},
     "output_type": "display_data"
    }
   ],
   "source": [
    "use d_trustees_all_long, clear"
   ]
  },
  {
   "cell_type": "code",
   "execution_count": 2,
   "id": "c229d461-9144-4e16-b235-db0a8b49023d",
   "metadata": {},
   "outputs": [
    {
     "name": "stdout",
     "output_type": "stream",
     "text": [
      "\n",
      "Contains data from d_trustees_all_long.dta\n",
      " Observations:        34,681                  \n",
      "    Variables:            35                  14 Feb 2025 14:22\n",
      "-------------------------------------------------------------------------------\n",
      "Variable      Storage   Display    Value\n",
      "    name         type    format    label      Variable label\n",
      "-------------------------------------------------------------------------------\n",
      "unitid          double  %9.0g                 unitid\n",
      "firstname       str16   %19s                  firstname\n",
      "lastname        str61   %61s                  lastname\n",
      "year            double  %10.0g                \n",
      "schoolname      str43   %43s                  schoolname\n",
      "organization    str353  %353s                 \n",
      "industry_code   double  %10.0g                \n",
      "suffix          str3    %9s                   \n",
      "schooltype      str12   %12s                  \n",
      "industry_jenk   str14   %14s                  (first) industry\n",
      "financetype     str18   %-9s                  \n",
      "middlename      str15   %15s                  \n",
      "forbes          str3    %9s                   \n",
      "forbesyear      double  %8.0g                 \n",
      "alternative     double  %8.0g                 \n",
      "undergrad       str52   %52s                  undergrad\n",
      "mba             str39   %39s                  mba\n",
      "jd              str43   %43s                  jd\n",
      "md              str40   %40s                  md\n",
      "otherprofdegree str40   %40s                  otherprofdegree\n",
      "phd             str40   %40s                  phd\n",
      "alumni          double  %10.0g                alumni\n",
      "employer_type_aggregated\n",
      "                str26   %-9s                  \n",
      "firmname_new    str315  %-9s                  \n",
      "firmid          double  %10.0g                \n",
      "strength        double  %10.0g                \n",
      "betweenness     double  %10.0g                \n",
      "eigenvector     double  %10.0g                \n",
      "Edu_sci_med     double  %10.0g                \n",
      "Non_finance_business\n",
      "                double  %10.0g                \n",
      "Nonprofit       double  %10.0g                \n",
      "Other_finance   double  %10.0g                \n",
      "Alt_finance     double  %10.0g                \n",
      "Public_sector   double  %10.0g                \n",
      "Real_estate     double  %10.0g                \n",
      "-------------------------------------------------------------------------------\n",
      "Sorted by: \n"
     ]
    }
   ],
   "source": [
    "describe, fullnames"
   ]
  },
  {
   "cell_type": "code",
   "execution_count": 3,
   "id": "4476b505-1034-4336-ad7b-bd9ca0759c59",
   "metadata": {},
   "outputs": [
    {
     "name": "stdout",
     "output_type": "stream",
     "text": [
      "(1,886 observations deleted)\n",
      "(1,689 observations deleted)\n",
      "(3,897 observations deleted)\n",
      "\n",
      "-------------------------------------------------------------------------------\n",
      "employer_type_aggregated_num                                        (unlabeled)\n",
      "-------------------------------------------------------------------------------\n",
      "\n",
      "                  Type: Numeric (long)\n",
      "                 Label: employer_type_aggregated_num\n",
      "\n",
      "                 Range: [1,8]                         Units: 1\n",
      "         Unique values: 8                         Missing .: 0/27,209\n",
      "\n",
      "            Tabulation: Freq.   Numeric  Label\n",
      "                        3,584         1  Education science medicine\n",
      "                       11,744         2  Non-financial business\n",
      "                        1,553         3  Non-profits/philanthropy\n",
      "                        3,725         4  Other finance\n",
      "                        3,038         5  PE and hedge funds\n",
      "                        1,401         6  Public sector\n",
      "                        1,266         7  Real estate\n",
      "                          898         8  Unknown_sector\n"
     ]
    }
   ],
   "source": [
    "** drop non universities and schools not in the top 30\n",
    "drop if schooltype==\"liberal arts\"\n",
    "drop if unitid==232186 | unitid==126818 | unitid==209542 ///\n",
    "| unitid==221759 | unitid==102614 | unitid==129020 | unitid==181464\n",
    "\n",
    "keep if year>2002 | year==1989\n",
    "\n",
    "encode employer_type_aggregated, gen(employer_type_aggregated_num)\n",
    "codebook employer_type_aggregated_num"
   ]
  },
  {
   "cell_type": "code",
   "execution_count": 4,
   "id": "d1355d8a-dda7-4646-a833-0ff2693ab6a5",
   "metadata": {},
   "outputs": [
    {
     "name": "stdout",
     "output_type": "stream",
     "text": [
      "(1,266 real changes made)\n",
      "(28 real changes made)\n",
      "(128 real changes made)\n"
     ]
    }
   ],
   "source": [
    "gen nonfinance=employer_type_aggregated_num!=4 & employer_type_aggregated_num!=5\n",
    "gen nonfinbiz=employer_type_aggregated_num==2\n",
    "replace nonfinbiz=1 if financetype==\"Insurance\" | financetype==\"Real estate\"\n",
    "gen otherfinance=employer_type_aggregated_num==4 & nonfinbiz!=1\n",
    "gen pehedge=employer_type_aggregated_num==5\n",
    "replace pehedge=1 if alternative==1 & year==1989\n",
    "replace otherfinance=1 if pehedge!=1 & industry_jenk==\"finance\" & year==1989\n",
    "\n",
    "*save d_board_members_elite_embed_long20220802, replace"
   ]
  },
  {
   "cell_type": "code",
   "execution_count": 5,
   "id": "c9857e5a-100d-4743-ab4d-0f2595c72ad1",
   "metadata": {},
   "outputs": [
    {
     "name": "stdout",
     "output_type": "stream",
     "text": [
      "\n",
      "       year |      Freq.     Percent        Cum.\n",
      "------------+-----------------------------------\n",
      "       1989 |        868        3.19        3.19\n",
      "       2003 |      1,567        5.76        8.95\n",
      "       2004 |      1,681        6.18       15.13\n",
      "       2005 |      1,673        6.15       21.28\n",
      "       2006 |      1,718        6.31       27.59\n",
      "       2007 |      1,742        6.40       33.99\n",
      "       2008 |      1,785        6.56       40.55\n",
      "       2009 |      1,777        6.53       47.08\n",
      "       2010 |      1,775        6.52       53.61\n",
      "       2011 |      1,802        6.62       60.23\n",
      "       2012 |      1,802        6.62       66.85\n",
      "       2013 |      1,800        6.62       73.47\n",
      "       2014 |      1,790        6.58       80.05\n",
      "       2015 |      1,839        6.76       86.81\n",
      "       2016 |      1,797        6.60       93.41\n",
      "       2017 |      1,793        6.59      100.00\n",
      "------------+-----------------------------------\n",
      "      Total |     27,209      100.00\n"
     ]
    }
   ],
   "source": [
    "tab year"
   ]
  },
  {
   "cell_type": "code",
   "execution_count": 6,
   "id": "cbe87316-4932-46f9-968f-5abc7724a802",
   "metadata": {},
   "outputs": [
    {
     "name": "stdout",
     "output_type": "stream",
     "text": [
      "(463 missing values generated)\n",
      "(463 real changes made)\n"
     ]
    }
   ],
   "source": [
    "gen boardtotal=1\n",
    "collapse (mean) pehedge otherfinance nonfinance nonfinbiz ///\n",
    "(first) schoolname schooltype (sum) boardtotal, by(unitid year)\n",
    "\n",
    "gen schooltypenum =2 if schooltype==\"public\"\n",
    "replace schooltypenum=3 if schooltype==\"research\"\n",
    "label define schooltype 2 \"public\" 3 \"private\"\n",
    "label values schooltypenum schooltype"
   ]
  },
  {
   "cell_type": "code",
   "execution_count": 7,
   "id": "c385860e-6398-46e5-80a3-5302821683fc",
   "metadata": {},
   "outputs": [
    {
     "name": "stdout",
     "output_type": "stream",
     "text": [
      "\n",
      "    Result                      Number of obs\n",
      "    -----------------------------------------\n",
      "    Not matched                            45\n",
      "        from master                        45  (b_merge==1)\n",
      "        from using                          0  (b_merge==2)\n",
      "\n",
      "    Matched                               865  (b_merge==3)\n",
      "    -----------------------------------------\n",
      "(15 real changes made)\n"
     ]
    }
   ],
   "source": [
    "**merge endowment size data from NACUBO**\n",
    "merge 1:1 unitid year using d_nacubo_funds_2003_2017, gen(b_merge) keep(1 3)\n",
    "**correct university of delaware unitid to flagship\n",
    "replace unitid=130943 if unitid==130343"
   ]
  },
  {
   "cell_type": "code",
   "execution_count": 8,
   "id": "3e24b1ac-00db-460f-807e-70787eea8745",
   "metadata": {},
   "outputs": [
    {
     "name": "stdout",
     "output_type": "stream",
     "text": [
      "\n",
      "    Result                      Number of obs\n",
      "    -----------------------------------------\n",
      "    Not matched                           494\n",
      "        from master                       494  \n",
      "        from using                          0  \n",
      "\n",
      "    Matched                               416  \n",
      "    -----------------------------------------\n"
     ]
    }
   ],
   "source": [
    "** merge endowment data from IPEDS**\n",
    "merge 1:1 unitid year using d_f1a_endow_ipeds_2003_2018, nogen keep(1 3)"
   ]
  },
  {
   "cell_type": "code",
   "execution_count": 10,
   "id": "abbb4e35-ddb7-44cb-af77-2fcd930d2f37",
   "metadata": {},
   "outputs": [],
   "source": [
    "foreach file in board1_forbes_400_count board2_forbes_400_count /// \n",
    "mba_forbes_400_count ba_forbes_400_count jd_forbes_400_count ///\n",
    "{\n",
    " qui   merge 1:1 unitid year using d_`file', gen(m`file') keep(1 3)\n",
    "}\n",
    "\n",
    "foreach var in pehedge otherfin technology inherited other forbes {\n",
    "qui    egen `var'board=rowtotal(`var'board1 `var'board2)\n",
    "}\n",
    "\n",
    "foreach var in pehedge otherfin technology inherited other forbes {\n",
    "qui  egen alumni`var'=rowtotal(`var'_ba `var'_mba `var'_jd)\n",
    " }"
   ]
  },
  {
   "cell_type": "code",
   "execution_count": 11,
   "id": "a4dc5050-0250-4bb6-bf45-ffc686a19a62",
   "metadata": {},
   "outputs": [
    {
     "name": "stdout",
     "output_type": "stream",
     "text": [
      "\n",
      "    Result                      Number of obs\n",
      "    -----------------------------------------\n",
      "    Not matched                            23\n",
      "        from master                        23  \n",
      "        from using                          0  \n",
      "\n",
      "    Matched                               887  \n",
      "    -----------------------------------------\n"
     ]
    }
   ],
   "source": [
    "** merge total undergrad by race data**\n",
    "**the 23 schools that don't match are 1989 private research universities from Jenkins\n",
    "merge 1:1 unitid year using tef2003_2017, nogen keep(1 3) "
   ]
  },
  {
   "cell_type": "code",
   "execution_count": 12,
   "id": "120baf87-9c9e-449a-aaf4-62f586362a19",
   "metadata": {},
   "outputs": [
    {
     "name": "stdout",
     "output_type": "stream",
     "text": [
      "/Users/Charlie/Dropbox/Bankers in the Ivory Tower Book/2 Our New Financial Olig\n",
      "> archy/Data/Boards 2000 to 2017\n",
      "\n",
      "    Result                      Number of obs\n",
      "    -----------------------------------------\n",
      "    Not matched                            23\n",
      "        from master                        23  \n",
      "        from using                          0  \n",
      "\n",
      "    Matched                               887  \n",
      "    -----------------------------------------\n"
     ]
    }
   ],
   "source": [
    "**merge admissions rate data from IPEDS**\n",
    "cd \"/Users/Charlie/Dropbox/Bankers in the Ivory Tower Book/2 Our New Financial Oligarchy/Data/Boards 2000 to 2017\"\n",
    "merge 1:1 unitid year using nonmissing_sat_act_admissions_all_universities_20181223, nogen keep(1 3) keepusing(acceptrate)"
   ]
  },
  {
   "cell_type": "code",
   "execution_count": 13,
   "id": "15489f8e-bc18-4fc2-8fb8-c502cda09a45",
   "metadata": {},
   "outputs": [
    {
     "name": "stdout",
     "output_type": "stream",
     "text": [
      "/Users/Charlie/Dropbox/Stata_Notebooks/highfinancesocialcircuitry/data\n",
      "\n",
      "    Result                      Number of obs\n",
      "    -----------------------------------------\n",
      "    Not matched                             0\n",
      "    Matched                               910  \n",
      "    -----------------------------------------\n",
      "\n",
      "    Result                      Number of obs\n",
      "    -----------------------------------------\n",
      "    Not matched                            23\n",
      "        from master                        23  \n",
      "        from using                          0  \n",
      "\n",
      "    Matched                               887  \n",
      "    -----------------------------------------\n",
      "\n",
      "    Result                      Number of obs\n",
      "    -----------------------------------------\n",
      "    Not matched                             0\n",
      "    Matched                               910  \n",
      "    -----------------------------------------\n",
      "(2 real changes made)\n",
      "\n",
      "    Result                      Number of obs\n",
      "    -----------------------------------------\n",
      "    Not matched                             0\n",
      "    Matched                               910  (_merge==3)\n",
      "    -----------------------------------------\n",
      "(2 real changes made)\n"
     ]
    }
   ],
   "source": [
    "*cd \"/Users/Charlie/Google Drive/Lincoln Project/IPEDS Disaggregated/Data\"\n",
    "*merge 1:1 unitid year using hd_flags_1981_2018, keepusing(instnm control fips) keep(1 3)\n",
    "*merge 1:1 unitid year using ///\n",
    "* \"/Users/Charlie/Dropbox/DataHub_Repos/BankersInTheIvoryTower/Chapter 5 - The Bottom - For-Profits/data/d_bankers_for_profits.dta\" ///\n",
    "*, keepusing(fgrnt_n fgrnt_p undertotlt underbkaat underhispt) nogen keep(1 3)\n",
    "\n",
    "cd \"/Users/Charlie/Dropbox/Stata_Notebooks/highfinancesocialcircuitry/data\"\n",
    "merge m:1 year using cpi_scalar2017, nogen keep(1 3)\n",
    "\n",
    "**merge data on % students receiving federal grants (pell) from IPEDS**\n",
    "merge 1:1 unitid year using finaid_2000_2017.dta, nogen keepusing(fgrnt_p) keep(1 3)\n",
    "\n",
    "**merge fte count and first year total enrollment count data from IPEDS\n",
    "merge 1:1 unitid year using fteenrollment1981_to_2018, nogen ///\n",
    "keepusing(fte_count) ///\n",
    "keep(1 3) // ftfirsteftotlt ptfirsteftotlt ftfirstefasiat ptfirstefasiat ftfirstefwhitt ptfirstefwhitt\n",
    "\n",
    "**change rutgers unitid for years that it reported revenue at different level in IPEDS\n",
    "replace unitid=186362 if unitid==186380 & year<2005\n",
    "merge 1:1 unitid year using financial_all_1981_2017, ///\n",
    "keepusing(total03_revenue) keep(1 3)\n",
    "\n",
    "replace unitid=186380 if unitid==186362\n",
    "\n",
    "*merge m:1 year using cpi_scalar2017, nogen keep(1 3)"
   ]
  },
  {
   "cell_type": "code",
   "execution_count": 14,
   "id": "a426576f-938a-4ee1-bedd-31d1998e870c",
   "metadata": {},
   "outputs": [
    {
     "name": "stdout",
     "output_type": "stream",
     "text": [
      "(17 real changes made)\n"
     ]
    }
   ],
   "source": [
    "** rename NACUBO total endowment asset variable and \n",
    "** replace missing observations with IPEDS total endowment value for publics\n",
    "\n",
    "**replace NACUBO missing endowment asset observations with IPEDS data on\n",
    "rename EndowmentFunds endowment_assets\n",
    "replace endowment_assets=endowment_public_ipeds if endowment_assets==."
   ]
  },
  {
   "cell_type": "markdown",
   "id": "dd8daa1f-faf4-42f6-a9a0-7bbbd387a640",
   "metadata": {},
   "source": [
    "## list working variables before keeping only variables used in paper"
   ]
  },
  {
   "cell_type": "code",
   "execution_count": 15,
   "id": "a84b5a8e-b672-4466-8619-b297e9dd9e41",
   "metadata": {},
   "outputs": [
    {
     "name": "stdout",
     "output_type": "stream",
     "text": [
      "Institution               inheritedboard1           pehedgeboard\n",
      "State                     inheritedboard2           pehedgeboard1\n",
      "_merge                    mba_forbes_400_count      pehedgeboard2\n",
      "acceptrate                mboard1_forbes_400_count  schoolname\n",
      "alumniforbes              mboard2_forbes_400_count  schooltype\n",
      "alumniinherited           mjd_forbes_400_count      schooltypenum\n",
      "alumniother               mmba_forbes_400_count     technology_ba\n",
      "alumniotherfin            nonfinance                technology_jd\n",
      "alumnipehedge             nonfinbiz                 technology_mba\n",
      "alumnitechnology          other_ba                  technologyboard\n",
      "b_merge                   other_jd                  technologyboard1\n",
      "boardtotal                other_mba                 technologyboard2\n",
      "cpi_scalar_2017           otherboard                tef2mort\n",
      "endowment_assets          otherboard1               tefaiant\n",
      "endowment_public_ipeds    otherboard2               tefasiat\n",
      "fgrnt_p                   otherfin_ba               tefbkaat\n",
      "forbes_ba                 otherfin_jd               tefhispt\n",
      "forbes_jd                 otherfin_mba              tefnralt\n",
      "forbes_mba                otherfinance              tefraceunder\n",
      "forbesboard               otherfinboard             teftotlt\n",
      "forbesboard1              otherfinboard1            tefunknt\n",
      "forbesboard2              otherfinboard2            tefwhitt\n",
      "fte_count                 pefraceunder              total03_revenue\n",
      "inherited_ba              pehedge                   unitid\n",
      "inherited_jd              pehedge_ba                year\n",
      "inherited_mba             pehedge_jd\n",
      "inheritedboard            pehedge_mba\n"
     ]
    }
   ],
   "source": [
    "ds, varwidth(28) alpha"
   ]
  },
  {
   "cell_type": "code",
   "execution_count": 16,
   "id": "91e48a12-11c5-450a-b2a6-ec7230dce2a6",
   "metadata": {},
   "outputs": [],
   "source": [
    "keep unitid year schoolname fgrnt_p acceptrate schooltypenum acceptrate ///\n",
    "cpi_scalar_2017 endowment_assets total03_revenue fte_count pehedge boardtotal ///\n",
    "otherfinance nonfinance nonfinbiz tefraceunder teftotlt alumnipehedge"
   ]
  },
  {
   "cell_type": "code",
   "execution_count": 17,
   "id": "c2d751df-80c8-42e5-8820-c362ad3e59db",
   "metadata": {},
   "outputs": [
    {
     "name": "stdout",
     "output_type": "stream",
     "text": [
      "note: label truncated to 80 characters\n"
     ]
    }
   ],
   "source": [
    "label var unitid \"IPEDS unique identifier\"\n",
    "label var year \"year of observation\"\n",
    "label var pehedge \"percent of trustees from private equity or hedge funds\"\n",
    "label var schoolname \"name of university\"\n",
    "label var fgrnt_p \"% undergrads receiving Pell\"\n",
    "label var acceptrate \"undergrad admission rate\"\n",
    "label var schooltypenum \"number indicating public (2) or private (3)\"\n",
    "label var cpi_scalar_2017 \"current price index inflation adjustment factor to 2017 dollars\"\n",
    "label var endowment_assets \"total endowment assets reported to NACUBO or IPEDS\"\n",
    "label var total03_revenue \"total university revenue reported to IPEDS\"\n",
    "label var fte_count \"total full-time equivalent student enrollment (undergrad & grad) reported to IPEDS\"\n",
    "label var boardtotal \"total trustees\"\n",
    "label var pehedge \"% trustees who are private equity or hedge fund managers\"\n",
    "label var otherfinance \"% trustees with ownership or executive affiliations to other financial firms\"\n",
    "label var nonfinance \"% trustees not associated with finance\"\n",
    "label var nonfinbiz \"% trustees associated with non-financial businesses\"\n",
    "label var tefraceunder \"total students Black or Latinx\"\n",
    "label var teftotlt \"total students\"\n",
    "label var alumnipehedge \"count of private equity and hedge fund alumni in Forbes 400\""
   ]
  },
  {
   "cell_type": "code",
   "execution_count": 45,
   "id": "733c4ebf-1af4-4147-a97f-9f9d4a7126fb",
   "metadata": {},
   "outputs": [
    {
     "name": "stdout",
     "output_type": "stream",
     "text": [
      "file testd_school_level_elite_embed.dta saved\n"
     ]
    }
   ],
   "source": [
    "save d_school_level_elite_embed, replace"
   ]
  },
  {
   "cell_type": "code",
   "execution_count": 46,
   "id": "fcaab5cb-769c-404e-a23e-7b38824356bc",
   "metadata": {},
   "outputs": [],
   "source": [
    "** a pre2025 version of the dataset is saved with below name / command. \n",
    "** It should be the same but not as cleaned up.\n",
    "** saving it in case cleaned up dataset breaks anything\n",
    "* save pre_2025_d_school_level_elite_embed, replace"
   ]
  },
  {
   "cell_type": "code",
   "execution_count": 18,
   "id": "579ddac0-6a94-4879-a646-d96f3c011c07",
   "metadata": {},
   "outputs": [
    {
     "name": "stdout",
     "output_type": "stream",
     "text": [
      "\n",
      "Contains data\n",
      " Observations:           910                  \n",
      "    Variables:            18                  \n",
      "-------------------------------------------------------------------------------\n",
      "Variable      Storage   Display    Value\n",
      "    name         type    format    label      Variable label\n",
      "-------------------------------------------------------------------------------\n",
      "unitid          double  %9.0g                 IPEDS unique identifier\n",
      "year            double  %10.0g                year of observation\n",
      "pehedge         float   %9.0g                 % trustees who are private equity\n",
      "                                                or hedge fund managers\n",
      "otherfinance    float   %9.0g                 % trustees with ownership or\n",
      "                                                executive affiliations to other\n",
      "                                                financial firms\n",
      "nonfinance      float   %9.0g                 % trustees not associated with\n",
      "                                                finance\n",
      "nonfinbiz       float   %9.0g                 % trustees associated with\n",
      "                                                non-financial businesses\n",
      "schoolname      str43   %43s                  name of university\n",
      "boardtotal      double  %9.0g                 total trustees\n",
      "schooltypenum   float   %9.0g                 number indicating public (2) or\n",
      "                                                private (3)\n",
      "endowment_assets\n",
      "                double  %10.0g                total endowment assets reported\n",
      "                                                to NACUBO or IPEDS\n",
      "alumnipehedge   float   %9.0g                 count of private equity and hedge\n",
      "                                                fund alumni in Forbes 400\n",
      "teftotlt        float   %9.0g                 total students\n",
      "tefraceunder    float   %9.0g                 total students Black or Latinx\n",
      "acceptrate      float   %9.0g                 undergrad admission rate\n",
      "cpi_scalar_2017 float   %9.0g                 current price index inflation\n",
      "                                                adjustment factor to 2017\n",
      "                                                dollars\n",
      "fgrnt_p         byte    %8.0g                 % undergrads receiving Pell\n",
      "fte_count       float   %9.0g                 total full-time equivalent\n",
      "                                                student enrollment (undergrad &\n",
      "                                                grad) reported to IPE\n",
      "total03_revenue double  %9.0g                 total university revenue reported\n",
      "                                                to IPEDS\n",
      "-------------------------------------------------------------------------------\n",
      "Sorted by: \n",
      "     Note: Dataset has changed since last saved.\n"
     ]
    }
   ],
   "source": [
    "label values schooltypenum\n",
    "\n",
    "describe, fullnames"
   ]
  },
  {
   "cell_type": "code",
   "execution_count": null,
   "id": "27eda3a6-3511-40bc-a0af-b61179607731",
   "metadata": {},
   "outputs": [],
   "source": []
  }
 ],
 "metadata": {
  "kernelspec": {
   "display_name": "Stata (nbstata)",
   "language": "stata",
   "name": "nbstata"
  },
  "language_info": {
   "file_extension": ".do",
   "mimetype": "text/x-stata",
   "name": "stata",
   "version": "17"
  }
 },
 "nbformat": 4,
 "nbformat_minor": 5
}
