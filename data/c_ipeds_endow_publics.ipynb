{
 "cells": [
  {
   "cell_type": "markdown",
   "id": "d67e1167-7d72-4532-a76c-4625e1c4bd81",
   "metadata": {},
   "source": [
    "## Download/Combine IPEDS Endowment Values for Public Universities\n",
    "\n",
    "### For Tables 3 and 4 of Elite Embeddedness\n",
    "\n",
    "By Charlie Eaton and Albina Gibadullina"
   ]
  },
  {
   "cell_type": "code",
   "execution_count": 1,
   "id": "3cfcc787-f5f7-4e77-9822-9e4a8fac90d1",
   "metadata": {},
   "outputs": [],
   "source": [
    "forvalues year = 18/18 {\n",
    "    local years = string(`year', \"%02.0f\")\n",
    "    local next = string(`year'+1, \"%02.0f\")\n",
    "qui copy \"https://nces.ed.gov/ipeds/datacenter/data/F`years'`next'_F1A_Data_Stata.zip\" ///\n",
    "    \"F`years'`next'_F1A_Data_Stata.zip\", replace\n",
    "}"
   ]
  },
  {
   "cell_type": "code",
   "execution_count": 2,
   "id": "125fb561-d0de-4d07-80fb-e18039817dde",
   "metadata": {},
   "outputs": [],
   "source": [
    "qui clear\n",
    "qui gen year=.\n",
    "qui save d_f1a_endow_ipeds_2003_2018, replace\n",
    "\n",
    "forvalues year = 3/18 {\n",
    "    qui local years = string(`year', \"%02.0f\")\n",
    "    qui local next = string(`year'+1, \"%02.0f\")\n",
    "    qui unzipfile F`years'`next'_F1A_Data_Stata.zip, replace\n",
    "    quietly import delimited F`years'`next'_F1A_rv_data_stata.csv, clear\n",
    "    qui keep unitid f1h01\n",
    "    qui gen year=2000+`year'\n",
    "    qui append using d_f1a_endow_ipeds_2003_2018\n",
    "    qui save d_f1a_endow_ipeds_2003_2018, replace\n",
    "    qui rm F`years'`next'_F1A_rv_data_stata.csv\n",
    "    qui rm F`years'`next'_F1A_data_stata.csv\n",
    "}"
   ]
  },
  {
   "cell_type": "code",
   "execution_count": 3,
   "id": "133495c8-7ba3-4774-ae82-6f5aefaff145",
   "metadata": {},
   "outputs": [],
   "source": [
    "** f1h01 is the the beginning of year endowment fund amount.\n",
    "** I set the year to the following fiscal year to get the end of year amount\n",
    "** for the last fiscal year - e.i. I use 0304 f1h01 beginning of year endowment value\n",
    "** to get 0203 end of year value because a reporting change led many schools not to report\n",
    "** in 0203\n",
    "rename f1h01 endowment_public_ipeds"
   ]
  },
  {
   "cell_type": "code",
   "execution_count": 4,
   "id": "b4c0643a-fbf5-411e-84f7-bc9b2cda2083",
   "metadata": {},
   "outputs": [
    {
     "name": "stdout",
     "output_type": "stream",
     "text": [
      "file d_f1a_endow_ipeds_2003_2018.dta saved\n"
     ]
    }
   ],
   "source": [
    "save d_f1a_endow_ipeds_2003_2018, replace"
   ]
  },
  {
   "cell_type": "code",
   "execution_count": null,
   "id": "e3ae70d0-8a35-4832-a03e-1419c7faf547",
   "metadata": {},
   "outputs": [],
   "source": []
  }
 ],
 "metadata": {
  "kernelspec": {
   "display_name": "Stata",
   "language": "stata",
   "name": "stata"
  },
  "language_info": {
   "codemirror_mode": "stata",
   "file_extension": ".do",
   "mimetype": "text/x-stata",
   "name": "stata",
   "version": "15.1"
  }
 },
 "nbformat": 4,
 "nbformat_minor": 5
}
