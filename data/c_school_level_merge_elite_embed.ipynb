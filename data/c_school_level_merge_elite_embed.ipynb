{
 "cells": [
  {
   "cell_type": "markdown",
   "id": "39608380-0fb7-43b7-95a7-c060f3dcb4bc",
   "metadata": {},
   "source": [
    "## Collapse Board Data to School Level, Merge with IPEDS and NACUBO Data\n",
    "\n",
    "### For Tables 3 and 4 of Elite Embeddedness\n",
    "\n",
    "By Charlie Eaton and Albina Gibadullina"
   ]
  },
  {
   "cell_type": "code",
   "execution_count": 1,
   "id": "cfa354b0-3a5b-4912-9cc8-213d0d0a7895",
   "metadata": {},
   "outputs": [],
   "source": [
    "use unitid firstname middlename lastname suffix undergrad mba jd md phd otherprofdegree ///\n",
    "alumni schoolname schooltype gender industry_code financetype boardofficer boardchair unitid ///\n",
    "firmid firmname_new organization forbes forbesyear eigenvector betweenness strength year using d_board_members_all_long20220501, clear"
   ]
  },
  {
   "cell_type": "code",
   "execution_count": 2,
   "id": "d1355d8a-dda7-4646-a833-0ff2693ab6a5",
   "metadata": {},
   "outputs": [
    {
     "name": "stdout",
     "output_type": "stream",
     "text": [
      "\n",
      "(1,886 observations deleted)\n",
      "\n",
      "(1,689 observations deleted)\n",
      "\n",
      "(4,765 observations deleted)\n",
      "\n",
      "\n",
      "(923 real changes made)\n",
      "\n",
      "\n",
      "\n",
      "\n",
      "(20,949 real changes made)\n"
     ]
    }
   ],
   "source": [
    "drop if schooltype==\"liberal arts\"\n",
    "drop if unitid==232186 | unitid==126818 | unitid==209542 | unitid==221759 | unitid==102614 | unitid==129020 | unitid==181464\n",
    "drop if year<2003\n",
    "\n",
    "gen pe=financetype==\"Private Equity\"\n",
    "replace pe=1 if financetype==\"Venture capital\"\n",
    "gen hedge=financetype==\"Hedge funds\"\n",
    "gen nonfinance=financetype==\"Non-financial business\"\n",
    "gen otherfinance=0\n",
    "replace otherfinance=1 if pe!=1 & hedge!=1 & nonfinance!=1"
   ]
  },
  {
   "cell_type": "code",
   "execution_count": 3,
   "id": "cbe87316-4932-46f9-968f-5abc7724a802",
   "metadata": {},
   "outputs": [
    {
     "name": "stdout",
     "output_type": "stream",
     "text": [
      "\n",
      "\n",
      "(440 missing values generated)\n",
      "\n",
      "(440 real changes made)\n",
      "\n",
      "\n"
     ]
    }
   ],
   "source": [
    "collapse (sum) pe hedge otherfinance nonfinance (first) schoolname schooltype , by(unitid year)\n",
    "gen schooltypenum =2 if schooltype==\"public\"\n",
    "replace schooltypenum=3 if schooltype==\"research\"\n",
    "label define schooltype 2 \"public\" 3 \"private\"\n",
    "label values schooltypenum schooltype"
   ]
  },
  {
   "cell_type": "code",
   "execution_count": 4,
   "id": "c385860e-6398-46e5-80a3-5302821683fc",
   "metadata": {},
   "outputs": [
    {
     "name": "stdout",
     "output_type": "stream",
     "text": [
      "\n",
      "\n",
      "    Result                      Number of obs\n",
      "    -----------------------------------------\n",
      "    Not matched                            22\n",
      "        from master                        22  (b_merge==1)\n",
      "        from using                          0  (b_merge==2)\n",
      "\n",
      "    Matched                               865  (b_merge==3)\n",
      "    -----------------------------------------\n",
      "\n",
      "(15 real changes made)\n"
     ]
    }
   ],
   "source": [
    "merge 1:1 unitid year using d_nacubo_funds_2003_2017, gen(b_merge) keep(1 3)\n",
    "**correct university of delaware unitid to flagship\n",
    "replace unitid=130943 if unitid==130343"
   ]
  },
  {
   "cell_type": "code",
   "execution_count": 5,
   "id": "3e24b1ac-00db-460f-807e-70787eea8745",
   "metadata": {},
   "outputs": [
    {
     "name": "stdout",
     "output_type": "stream",
     "text": [
      "\n",
      "    Result                      Number of obs\n",
      "    -----------------------------------------\n",
      "    Not matched                           471\n",
      "        from master                       471  \n",
      "        from using                          0  \n",
      "\n",
      "    Matched                               416  \n",
      "    -----------------------------------------\n"
     ]
    }
   ],
   "source": [
    "merge 1:1 unitid year using d_f1a_endow_ipeds_2003_2018, nogen keep(1 3)"
   ]
  },
  {
   "cell_type": "code",
   "execution_count": 6,
   "id": "abbb4e35-ddb7-44cb-af77-2fcd930d2f37",
   "metadata": {},
   "outputs": [],
   "source": [
    "foreach file in board1_forbes_400_count board2_forbes_400_count ///\n",
    "mba_forbes_400_count ba_forbes_400_count {\n",
    " qui   merge 1:1 unitid year using d_`file', gen(m`file') keep(1 3)\n",
    "}\n",
    "\n",
    "foreach var in pehedge otherfin technology forbes {\n",
    "qui    egen `var'board=rowtotal(`var'board1 `var'board2)\n",
    "}\n",
    "\n",
    "foreach var in pehedge otherfin technology forbes {\n",
    "  qui  egen alumni`var'=rowtotal(`var'_ba `var'_mba)\n",
    "}"
   ]
  },
  {
   "cell_type": "code",
   "execution_count": 7,
   "id": "120baf87-9c9e-449a-aaf4-62f586362a19",
   "metadata": {},
   "outputs": [
    {
     "name": "stdout",
     "output_type": "stream",
     "text": [
      "\n",
      "/Users/Charlie/Dropbox/Bankers in the Ivory Tower Book/2 Our New Financial Oliga\n",
      "> rchy/Data/Boards 2000 to 2017\n",
      "\n",
      "\n",
      "    Result                      Number of obs\n",
      "    -----------------------------------------\n",
      "    Not matched                             0\n",
      "    Matched                               887  \n",
      "    -----------------------------------------\n"
     ]
    }
   ],
   "source": [
    "cd \"/Users/Charlie/Dropbox/Bankers in the Ivory Tower Book/2 Our New Financial Oligarchy/Data/Boards 2000 to 2017\"\n",
    "merge 1:1 unitid year using nonmissing_sat_act_admissions_all_universities_20181223, nogen keep(1 3) keepusing(acceptrate)"
   ]
  },
  {
   "cell_type": "code",
   "execution_count": 8,
   "id": "15489f8e-bc18-4fc2-8fb8-c502cda09a45",
   "metadata": {},
   "outputs": [
    {
     "name": "stdout",
     "output_type": "stream",
     "text": [
      "\n",
      "/Users/Charlie/Google Drive/Lincoln Project/IPEDS Disaggregated/Data\n",
      "\n",
      "\n",
      "    Result                      Number of obs\n",
      "    -----------------------------------------\n",
      "    Not matched                             0\n",
      "    Matched                               887  \n",
      "    -----------------------------------------\n",
      "\n",
      "\n",
      "    Result                      Number of obs\n",
      "    -----------------------------------------\n",
      "    Not matched                             0\n",
      "    Matched                               887  \n",
      "    -----------------------------------------\n",
      "\n",
      "(2 real changes made)\n",
      "\n",
      "\n",
      "    Result                      Number of obs\n",
      "    -----------------------------------------\n",
      "    Not matched                             0\n",
      "    Matched                               887  (_merge==3)\n",
      "    -----------------------------------------\n",
      "\n",
      "(2 real changes made)\n",
      "\n",
      "\n",
      "    Result                      Number of obs\n",
      "    -----------------------------------------\n",
      "    Not matched                             0\n",
      "    Matched                               887  \n",
      "    -----------------------------------------\n"
     ]
    }
   ],
   "source": [
    "cd \"/Users/Charlie/Google Drive/Lincoln Project/IPEDS Disaggregated/Data\"\n",
    "*merge 1:1 unitid year using hd_flags_1981_2018, keepusing(instnm control fips) keep(1 3)\n",
    "merge 1:1 unitid year using finaid_2000_2017, keepusing(fgrnt_p) nogen keep(1 3)\n",
    "\n",
    "merge 1:1 unitid year using fteenrollment1981_to_2018, nogen ///\n",
    "keepusing(fte_count ftfirsteftotlt ptfirsteftotlt ftfirstefasiat ptfirstefasiat ftfirstefwhitt ptfirstefwhitt) ///\n",
    "keep(1 3)\n",
    "\n",
    "**change rutgers unitid for years that it reported revenue at different level\n",
    "replace unitid=186362 if unitid==186380 & year<2005\n",
    "merge 1:1 unitid year using financial_all_1981_2017, ///\n",
    "keepusing(total03_revenue) keep(1 3)\n",
    "\n",
    "replace unitid=186380 if unitid==186362\n",
    "\n",
    "merge m:1 year using cpi_scalar2017, nogen keep(1 3)"
   ]
  },
  {
   "cell_type": "code",
   "execution_count": 9,
   "id": "a426576f-938a-4ee1-bedd-31d1998e870c",
   "metadata": {},
   "outputs": [
    {
     "name": "stdout",
     "output_type": "stream",
     "text": [
      "\n",
      "\n",
      "(17 real changes made)\n"
     ]
    }
   ],
   "source": [
    "rename EndowmentFunds endowment_assets\n",
    "replace endowment_assets=endowment_public_ipeds if endowment_assets==."
   ]
  },
  {
   "cell_type": "code",
   "execution_count": 10,
   "id": "07c71bf9-0132-4f15-a064-97a2c25c20d4",
   "metadata": {
    "jupyter": {
     "source_hidden": true
    },
    "tags": []
   },
   "outputs": [
    {
     "name": "stdout",
     "output_type": "stream",
     "text": [
      "/Users/Charlie/Dropbox/Stata_Notebooks/highfinancesocialcircuitry/data\n"
     ]
    }
   ],
   "source": [
    "cd \"/Users/Charlie/Dropbox/Stata_Notebooks/highfinancesocialcircuitry/data\""
   ]
  },
  {
   "cell_type": "code",
   "execution_count": 11,
   "id": "a84b5a8e-b672-4466-8619-b297e9dd9e41",
   "metadata": {},
   "outputs": [
    {
     "name": "stdout",
     "output_type": "stream",
     "text": [
      "unitid                    mboard1_forbes_400_count  technologyboard\n",
      "year                      forbesboard2              forbesboard\n",
      "pe                        pehedgeboard2             alumnipehedge\n",
      "hedge                     otherfinboard2            alumniotherfin\n",
      "otherfinance              technologyboard2          alumnitechnology\n",
      "nonfinance                mboard2_forbes_400_count  alumniforbes\n",
      "schoolname                forbes_mba                acceptrate\n",
      "schooltype                pehedge_mba               fgrnt_p\n",
      "schooltypenum             otherfin_mba              ftfirsteftotlt\n",
      "endowment_assets          technology_mba            ptfirsteftotlt\n",
      "State                     mmba_forbes_400_count     ftfirstefasiat\n",
      "Institution               forbes_ba                 ptfirstefasiat\n",
      "b_merge                   pehedge_ba                ftfirstefwhitt\n",
      "endowment_public_ipeds    otherfin_ba               ptfirstefwhitt\n",
      "forbesboard1              technology_ba             fte_count\n",
      "pehedgeboard1             mba_forbes_400_count      total03_revenue\n",
      "otherfinboard1            pehedgeboard              _merge\n",
      "technologyboard1          otherfinboard             cpi_scalar_2017\n"
     ]
    }
   ],
   "source": [
    "ds, varwidth(28)"
   ]
  },
  {
   "cell_type": "code",
   "execution_count": 12,
   "id": "733c4ebf-1af4-4147-a97f-9f9d4a7126fb",
   "metadata": {},
   "outputs": [
    {
     "name": "stdout",
     "output_type": "stream",
     "text": [
      "file d_school_level_elite_embed.dta saved\n"
     ]
    }
   ],
   "source": [
    "save d_school_level_elite_embed, replace"
   ]
  },
  {
   "cell_type": "code",
   "execution_count": null,
   "id": "96f02bc8-ce5c-49d5-8bd9-af8bf1612623",
   "metadata": {},
   "outputs": [],
   "source": []
  }
 ],
 "metadata": {
  "kernelspec": {
   "display_name": "Stata",
   "language": "stata",
   "name": "stata"
  },
  "language_info": {
   "codemirror_mode": "stata",
   "file_extension": ".do",
   "mimetype": "text/x-stata",
   "name": "stata",
   "version": "15.1"
  }
 },
 "nbformat": 4,
 "nbformat_minor": 5
}
