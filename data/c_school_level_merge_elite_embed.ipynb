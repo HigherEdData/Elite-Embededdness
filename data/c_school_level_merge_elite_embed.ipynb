{
 "cells": [
  {
   "cell_type": "markdown",
   "id": "39608380-0fb7-43b7-95a7-c060f3dcb4bc",
   "metadata": {},
   "source": [
    "## Collapse Board Data to School Level, Merge with IPEDS and NACUBO Data\n",
    "\n",
    "### For Tables 3 and 4 of Elite Embeddedness\n",
    "\n",
    "By Charlie Eaton and Albina Gibadullina"
   ]
  },
  {
   "cell_type": "code",
   "execution_count": null,
   "id": "cfa354b0-3a5b-4912-9cc8-213d0d0a7895",
   "metadata": {},
   "outputs": [],
   "source": [
    "use unitid firstname middlename lastname suffix undergrad mba jd md phd otherprofdegree ///\n",
    "alumni schoolname schooltype gender industry_code financetype boardofficer boardchair unitid ///\n",
    "firmid firmname_new organization forbes forbesyear eigenvector betweenness strength using board_members_all_long20220501, clear"
   ]
  },
  {
   "cell_type": "code",
   "execution_count": 62,
   "id": "09b012c8-3f9a-4cf8-8c11-b3386f691379",
   "metadata": {},
   "outputs": [
    {
     "name": "stdout",
     "output_type": "stream",
     "text": [
      ". use \"/Users/Charlie/Dropbox/Bankers in the Ivory Tower Book/2 Our New Financi\n",
      "> al Oligarchy/Data/Boards 2000 to 2017/board_members_all_long20220501.dta\", cl\n",
      "> ear\n"
     ]
    }
   ],
   "source": [
    "use \"/Users/Charlie/Dropbox/Bankers in the Ivory Tower Book/2 Our New Financial Oligarchy/Data/Boards 2000 to 2017/board_members_all_long20220501.dta\", clear"
   ]
  },
  {
   "cell_type": "code",
   "execution_count": 63,
   "id": "d1355d8a-dda7-4646-a833-0ff2693ab6a5",
   "metadata": {},
   "outputs": [
    {
     "name": "stdout",
     "output_type": "stream",
     "text": [
      "\n",
      "(1,886 observations deleted)\n",
      "\n",
      "(1,689 observations deleted)\n",
      "\n",
      "(4,765 observations deleted)\n"
     ]
    }
   ],
   "source": [
    "drop if schooltype==\"liberal arts\"\n",
    "drop if unitid==232186 | unitid==126818 | unitid==209542 | unitid==221759 | unitid==102614 | unitid==129020 | unitid==181464\n",
    "drop if year<2003"
   ]
  },
  {
   "cell_type": "code",
   "execution_count": 64,
   "id": "cbe87316-4932-46f9-968f-5abc7724a802",
   "metadata": {},
   "outputs": [
    {
     "name": "stdout",
     "output_type": "stream",
     "text": [
      "\n",
      "\n",
      "(440 missing values generated)\n",
      "\n",
      "(440 real changes made)\n",
      "\n",
      "\n"
     ]
    }
   ],
   "source": [
    "collapse (sum) pe hedge otherfinance nonfinance (first) institutionname schoolname schooltype , by(unitid year)\n",
    "gen schooltypenum =2 if schooltype==\"public\"\n",
    "replace schooltypenum=3 if schooltype==\"research\"\n",
    "label define schooltype 2 \"public\" 3 \"private\"\n",
    "label values schooltypenum schooltype"
   ]
  },
  {
   "cell_type": "code",
   "execution_count": 65,
   "id": "c385860e-6398-46e5-80a3-5302821683fc",
   "metadata": {},
   "outputs": [
    {
     "name": "stdout",
     "output_type": "stream",
     "text": [
      "\n",
      "\n",
      "    Result                      Number of obs\n",
      "    -----------------------------------------\n",
      "    Not matched                            22\n",
      "        from master                        22  (b_merge==1)\n",
      "        from using                          0  (b_merge==2)\n",
      "\n",
      "    Matched                               865  (b_merge==3)\n",
      "    -----------------------------------------\n",
      "\n",
      "(15 real changes made)\n"
     ]
    }
   ],
   "source": [
    "merge 1:1 unitid year using d_nacubo_funds_2003_2017, gen(b_merge) keep(1 3)\n",
    "**correct university of delaware unitid to flagship\n",
    "replace unitid=130943 if unitid==130343"
   ]
  },
  {
   "cell_type": "code",
   "execution_count": 66,
   "id": "3e24b1ac-00db-460f-807e-70787eea8745",
   "metadata": {},
   "outputs": [
    {
     "name": "stdout",
     "output_type": "stream",
     "text": [
      "\n",
      "    Result                      Number of obs\n",
      "    -----------------------------------------\n",
      "    Not matched                           471\n",
      "        from master                       471  \n",
      "        from using                          0  \n",
      "\n",
      "    Matched                               416  \n",
      "    -----------------------------------------\n"
     ]
    }
   ],
   "source": [
    "merge 1:1 unitid year using d_f1a_endow_ipeds_2003_2018, nogen keep(1 3)"
   ]
  },
  {
   "cell_type": "code",
   "execution_count": 68,
   "id": "abbb4e35-ddb7-44cb-af77-2fcd930d2f37",
   "metadata": {},
   "outputs": [],
   "source": [
    "foreach file in board1_forbes_400_count board2_forbes_400_count ///\n",
    "mba_forbes_400_count ba_forbes_400_count {\n",
    " qui   merge 1:1 unitid year using d_`file', gen(m`file') keep(1 3)\n",
    "}\n",
    "\n",
    "foreach var in pehedge otherfin technology forbes {\n",
    "qui    egen `var'board=rowtotal(`var'board1 `var'board2)\n",
    "}\n",
    "\n",
    "foreach var in pehedge otherfin technology forbes {\n",
    "  qui  egen alumni`var'=rowtotal(`var'_ba `var'_mba)\n",
    "}"
   ]
  },
  {
   "cell_type": "code",
   "execution_count": 69,
   "id": "120baf87-9c9e-449a-aaf4-62f586362a19",
   "metadata": {},
   "outputs": [
    {
     "name": "stdout",
     "output_type": "stream",
     "text": [
      "\n",
      "/Users/Charlie/Dropbox/Bankers in the Ivory Tower Book/2 Our New Financial Oligarchy/Data/Boards 2000 to 2017\n",
      "\n",
      "\n",
      "    Result                      Number of obs\n",
      "    -----------------------------------------\n",
      "    Not matched                             0\n",
      "    Matched                               887  \n",
      "    -----------------------------------------\n"
     ]
    }
   ],
   "source": [
    "cd \"/Users/Charlie/Dropbox/Bankers in the Ivory Tower Book/2 Our New Financial Oligarchy/Data/Boards 2000 to 2017\"\n",
    "merge 1:1 unitid year using nonmissing_sat_act_admissions_all_universities_20181223, nogen keep(1 3) keepusing(acceptrate)"
   ]
  },
  {
   "cell_type": "code",
   "execution_count": 70,
   "id": "15489f8e-bc18-4fc2-8fb8-c502cda09a45",
   "metadata": {},
   "outputs": [
    {
     "name": "stdout",
     "output_type": "stream",
     "text": [
      "\n",
      "/Users/Charlie/Google Drive/Lincoln Project/IPEDS Disaggregated/Data\n",
      "\n",
      "\n",
      "    Result                      Number of obs\n",
      "    -----------------------------------------\n",
      "    Not matched                             0\n",
      "    Matched                               887  \n",
      "    -----------------------------------------\n",
      "\n",
      "\n",
      "    Result                      Number of obs\n",
      "    -----------------------------------------\n",
      "    Not matched                             0\n",
      "    Matched                               887  \n",
      "    -----------------------------------------\n",
      "\n",
      "(2 real changes made)\n",
      "\n",
      "\n",
      "    Result                      Number of obs\n",
      "    -----------------------------------------\n",
      "    Not matched                             0\n",
      "    Matched                               887  (_merge==3)\n",
      "    -----------------------------------------\n",
      "\n",
      "(2 real changes made)\n",
      "\n",
      "\n",
      "    Result                      Number of obs\n",
      "    -----------------------------------------\n",
      "    Not matched                             0\n",
      "    Matched                               887  \n",
      "    -----------------------------------------\n"
     ]
    }
   ],
   "source": [
    "cd \"/Users/Charlie/Google Drive/Lincoln Project/IPEDS Disaggregated/Data\"\n",
    "*merge 1:1 unitid year using hd_flags_1981_2018, keepusing(instnm control fips) keep(1 3)\n",
    "merge 1:1 unitid year using finaid_2000_2017, keepusing(fgrnt_p) nogen keep(1 3)\n",
    "\n",
    "merge 1:1 unitid year using fteenrollment1981_to_2018, nogen ///\n",
    "keepusing(fte_count ftfirsteftotlt ptfirsteftotlt ftfirstefasiat ptfirstefasiat ftfirstefwhitt ptfirstefwhitt) ///\n",
    "keep(1 3)\n",
    "\n",
    "**change rutgers unitid for years that it reported revenue at different level\n",
    "replace unitid=186362 if unitid==186380 & year<2005\n",
    "merge 1:1 unitid year using financial_all_1981_2017, ///\n",
    "keepusing(total03_revenue) keep(1 3)\n",
    "\n",
    "replace unitid=186380 if unitid==186362\n",
    "\n",
    "merge m:1 year using cpi_scalar2017, nogen keep(1 3)"
   ]
  },
  {
   "cell_type": "code",
   "execution_count": 71,
   "id": "a426576f-938a-4ee1-bedd-31d1998e870c",
   "metadata": {},
   "outputs": [
    {
     "name": "stdout",
     "output_type": "stream",
     "text": [
      "\n",
      "\n",
      "(17 real changes made)\n"
     ]
    }
   ],
   "source": [
    "rename EndowmentFunds endowment_assets\n",
    "replace endowment_assets=endowment_public_ipeds if endowment_assets==."
   ]
  },
  {
   "cell_type": "code",
   "execution_count": 72,
   "id": "07c71bf9-0132-4f15-a064-97a2c25c20d4",
   "metadata": {},
   "outputs": [
    {
     "name": "stdout",
     "output_type": "stream",
     "text": [
      "/Users/Charlie/Dropbox/Stata_Notebooks/highfinancesocialcircuitry/data\n"
     ]
    }
   ],
   "source": [
    "cd \"/Users/Charlie/Dropbox/Stata_Notebooks/highfinancesocialcircuitry/data\""
   ]
  },
  {
   "cell_type": "code",
   "execution_count": 73,
   "id": "741c4718-c444-4bd7-9d68-fb74f45fdc4a",
   "metadata": {},
   "outputs": [
    {
     "name": "stdout",
     "output_type": "stream",
     "text": [
      "unitid        otherfinance  schooltype    Institution   pehedgeboa~1  forbesboard2  mboard2_fo~t  technolo~mba  otherfin_ba   otherfinbo~d  alumniothe~n  fgrnt_p       ptfirstefa~t  total03_re~e\n",
      "year          nonfinance    schooltype~m  b_merge       otherfinbo~1  pehedgeboa~2  forbes_mba    mmba_forbe~t  technolo~_ba  technology~d  alumnitech~y  ftfirsteft~t  ftfirstefw~t  _merge\n",
      "pe            institutio~e  endowment~ts  endowment~ds  technology~1  otherfinbo~2  pehedge_mba   forbes_ba     mba_forbes~t  forbesboard   alumniforbes  ptfirsteft~t  ptfirstefw~t  cpi_sca~2017\n",
      "hedge         schoolname    State         forbesboard1  mboard1_fo~t  technology~2  otherfin_mba  pehedge_ba    pehedgeboard  alumnipehe~e  acceptrate    ftfirstefa~t  fte_count\n"
     ]
    }
   ],
   "source": [
    "ds"
   ]
  },
  {
   "cell_type": "code",
   "execution_count": 74,
   "id": "733c4ebf-1af4-4147-a97f-9f9d4a7126fb",
   "metadata": {},
   "outputs": [
    {
     "name": "stdout",
     "output_type": "stream",
     "text": [
      "file d_school_level_elite_embed.dta saved\n"
     ]
    }
   ],
   "source": [
    "save d_school_level_elite_embed, replace"
   ]
  },
  {
   "cell_type": "code",
   "execution_count": null,
   "id": "a9f54b3b-1c34-4928-85c2-e61e9aab84ea",
   "metadata": {},
   "outputs": [],
   "source": []
  },
  {
   "cell_type": "code",
   "execution_count": 72,
   "id": "3ef24a6e-de6b-46a1-ac2c-c2df21476551",
   "metadata": {},
   "outputs": [
    {
     "name": "stdout",
     "output_type": "stream",
     "text": [
      "(file d_school_level_elite_embed.dta not found)\n",
      "file d_school_level_elite_embed.dta saved\n"
     ]
    }
   ],
   "source": [
    "save d_school_level_elite_embed, replace"
   ]
  },
  {
   "cell_type": "code",
   "execution_count": 73,
   "id": "a144d106-ddf4-41c1-9ccc-86ff5e6f2cfd",
   "metadata": {},
   "outputs": [
    {
     "name": "stdout",
     "output_type": "stream",
     "text": [
      "\n",
      "       year |      Freq.     Percent        Cum.\n",
      "------------+-----------------------------------\n",
      "       2003 |         55        6.20        6.20\n",
      "       2004 |         57        6.43       12.63\n",
      "       2005 |         57        6.43       19.05\n",
      "       2006 |         59        6.65       25.70\n",
      "       2007 |         59        6.65       32.36\n",
      "       2008 |         60        6.76       39.12\n",
      "       2009 |         60        6.76       45.89\n",
      "       2010 |         60        6.76       52.65\n",
      "       2011 |         60        6.76       59.41\n",
      "       2012 |         60        6.76       66.18\n",
      "       2013 |         60        6.76       72.94\n",
      "       2014 |         60        6.76       79.71\n",
      "       2015 |         60        6.76       86.47\n",
      "       2016 |         60        6.76       93.24\n",
      "       2017 |         60        6.76      100.00\n",
      "------------+-----------------------------------\n",
      "      Total |        887      100.00\n"
     ]
    }
   ],
   "source": [
    "tab year"
   ]
  },
  {
   "cell_type": "code",
   "execution_count": 74,
   "id": "0536c2f8-e91c-40bd-870d-b2df2f6b58c6",
   "metadata": {},
   "outputs": [
    {
     "name": "stdout",
     "output_type": "stream",
     "text": [
      "unitid        pe            otherfinance  institutio~e  schooltype    State         b_merge       instnm        control       fgrnt_p       ptfirsteft~t  ptfirstefa~t  ptfirstefw~t  endowment02   finmerge\n",
      "year          hedge         nonfinance    schoolname    EndowmentF~s  Institution   acceptrate    fips          _merge        ftfirsteft~t  ftfirstefa~t  ftfirstefw~t  fte_count     total03_re~e\n"
     ]
    }
   ],
   "source": [
    "ds"
   ]
  },
  {
   "cell_type": "code",
   "execution_count": 78,
   "id": "13f4c42e-0483-452f-8a3d-5c1929210f6f",
   "metadata": {},
   "outputs": [
    {
     "name": "stdout",
     "output_type": "stream",
     "text": [
      "\n",
      "\n",
      "    Variable |        Obs        Mean    Std. dev.       Min        Max\n",
      "-------------+---------------------------------------------------------\n",
      "EndowmentF~s |         54     2437307     3312812      43699   1.88e+07\n",
      "\n",
      "\n",
      "     +----------------------------------------------------------------------------+\n",
      "     | unitid                             schoolname                instnm   year |\n",
      "     |----------------------------------------------------------------------------|\n",
      "593. | 196097   state university of new york buffalo   suny at stony brook   2003 |\n",
      "     +----------------------------------------------------------------------------+\n"
     ]
    }
   ],
   "source": [
    "sum EndowmentFunds if year==2003\n",
    "list unitid schoolname instnm year if EndowmentFunds<50000"
   ]
  },
  {
   "cell_type": "code",
   "execution_count": 147,
   "id": "4405561b-cfb6-40b8-a5df-836fc7d14feb",
   "metadata": {},
   "outputs": [
    {
     "name": "stdout",
     "output_type": "stream",
     "text": [
      "\n",
      "\n",
      "\n",
      "(0 observations deleted)\n",
      "\n"
     ]
    }
   ],
   "source": [
    "set more off\n",
    "sort unitid year\n",
    "keep if b_merge==1\n",
    "outsheet unitid schoolname year using schools_without_match.csv, replace comma"
   ]
  },
  {
   "cell_type": "code",
   "execution_count": 6,
   "id": "6a528d0c-ebb3-4873-8736-b205737ada12",
   "metadata": {},
   "outputs": [
    {
     "name": "stdout",
     "output_type": "stream",
     "text": [
      "variable unitid not found\n"
     ]
    },
    {
     "name": "stderr",
     "output_type": "stream",
     "text": [
      "r(111);\n"
     ]
    },
    {
     "name": "stdout",
     "output_type": "stream",
     "text": [
      "\n"
     ]
    }
   ],
   "source": [
    "merge 1:1 unitid year using ///\n",
    "\"/Users/Charlie/Dropbox/Bankers in the Ivory Tower Book/2 Our New Financial Oligarchy/Data/Boards 2000 to 2017/board_endow_donation_directory_20181221.dta\""
   ]
  },
  {
   "cell_type": "code",
   "execution_count": 82,
   "id": "2db3bdfe-18db-444f-8b76-66b9193f6028",
   "metadata": {},
   "outputs": [],
   "source": [
    "use \"/Users/Charlie/Dropbox/Bankers in the Ivory Tower Book/2 Our New Financial Oligarchy/Data/Boards 2000 to 2017/board_endow_donation_directory_20181221.dta\", clear"
   ]
  },
  {
   "cell_type": "code",
   "execution_count": 85,
   "id": "e5303bce-8e4f-457a-8d9f-ab9db3bd49f6",
   "metadata": {},
   "outputs": [
    {
     "name": "stdout",
     "output_type": "stream",
     "text": [
      "\n",
      "     (first) |\n",
      "  schooltype |      Freq.     Percent        Cum.\n",
      "-------------+-----------------------------------\n",
      "liberal arts |         58        4.70        4.70\n",
      "      public |        646       52.39       57.10\n",
      "    research |        529       42.90      100.00\n",
      "-------------+-----------------------------------\n",
      "       Total |      1,233      100.00\n"
     ]
    }
   ],
   "source": [
    "tab schooltypenum"
   ]
  },
  {
   "cell_type": "code",
   "execution_count": 39,
   "id": "da0d56cf-a748-4d5f-a139-f7cb4d66d382",
   "metadata": {},
   "outputs": [
    {
     "name": "stdout",
     "output_type": "stream",
     "text": [
      "\n",
      "Summary for variables: EndowmentFunds\n",
      "Group variable: year \n",
      "\n",
      "    year |      Mean\n",
      "---------+----------\n",
      "    2003 |  322489.5\n",
      "    2004 |  361304.1\n",
      "    2005 |  400637.7\n",
      "    2006 |  444551.3\n",
      "    2007 |  523789.1\n",
      "    2008 |  521912.9\n",
      "    2009 |  3.64e+08\n",
      "    2010 |  3.97e+08\n",
      "    2011 |  9.86e+08\n",
      "    2012 |  9.69e+08\n",
      "    2013 |  3.44e+07\n",
      "    2014 |  614731.4\n",
      "    2015 |  660258.8\n",
      "    2016 |  641273.9\n",
      "    2017 |  704576.6\n",
      "---------+----------\n",
      "   Total |  1.85e+08\n",
      "--------------------\n"
     ]
    }
   ],
   "source": [
    "tabstat EndowmentFunds, s(mean) by(year)"
   ]
  },
  {
   "cell_type": "code",
   "execution_count": 11,
   "id": "a833eedc-fc47-49ab-9679-78ad271fe3f1",
   "metadata": {},
   "outputs": [
    {
     "name": "stdout",
     "output_type": "stream",
     "text": [
      "\n",
      "(0 real changes made)\n",
      "\n",
      "(0 real changes made)\n",
      "\n",
      "(0 real changes made)\n",
      "\n",
      "(0 real changes made)\n",
      "\n",
      "\n",
      "       year |      Freq.     Percent        Cum.\n",
      "------------+-----------------------------------\n",
      "       2003 |        714        5.89        5.89\n",
      "       2004 |        739        6.09       11.98\n",
      "       2005 |        746        6.15       18.13\n",
      "       2006 |        765        6.31       24.44\n",
      "       2007 |        785        6.47       30.91\n",
      "       2008 |        791        6.52       37.43\n",
      "       2009 |        842        6.94       44.37\n",
      "       2010 |        827        6.82       51.19\n",
      "       2011 |        816        6.73       57.91\n",
      "       2012 |        813        6.70       64.62\n",
      "       2013 |        946        7.80       72.42\n",
      "       2014 |        896        7.39       79.80\n",
      "       2015 |        816        6.73       86.53\n",
      "       2016 |        816        6.73       93.26\n",
      "       2017 |        818        6.74      100.00\n",
      "------------+-----------------------------------\n",
      "      Total |     12,130      100.00\n"
     ]
    }
   ],
   "source": [
    "replace EndowmentFunds=EndowmentFunds000 if EndowmentFunds==.\n",
    "replace EndowmentFunds=EndowmentFunds2009 if EndowmentFunds==.\n",
    "replace EndowmentFunds=Funds000 if EndowmentFunds==.\n",
    "*replace EndowmentFunds=(000) if EndowmentFunds==.\n",
    "replace EndowmentFunds=Funds if EndowmentFunds==.\n",
    "tab year if EndowmentFunds!=."
   ]
  },
  {
   "cell_type": "code",
   "execution_count": 199,
   "id": "4a1c7506-33d3-4e8b-ae1d-b9df96632622",
   "metadata": {},
   "outputs": [
    {
     "name": "stdout",
     "output_type": "stream",
     "text": [
      "\n",
      "(0 observations deleted)\n",
      "\n",
      "(795 real changes made)\n",
      "\n",
      "(842 real changes made)\n",
      "\n",
      "(29 observations deleted)\n"
     ]
    }
   ],
   "source": [
    "replace Institution=InstitutionName if Institution==\"\"\n",
    "replace Institution=INSTITUTION if Institution==\"\"\n",
    "drop if Institution==\"\""
   ]
  },
  {
   "cell_type": "code",
   "execution_count": 96,
   "id": "9efa448a-ffc5-4fb6-9b76-c82e6bf6a17c",
   "metadata": {},
   "outputs": [
    {
     "name": "stdout",
     "output_type": "stream",
     "text": [
      "\n",
      "--------------------------------------------------------------------------------\n",
      "Institution                                                          Institution\n",
      "--------------------------------------------------------------------------------\n",
      "\n",
      "                  Type: String (str92), but longest is str84\n",
      "\n",
      "         Unique values: 806                       Missing \"\": 0/806\n",
      "\n",
      "              Examples: \"Denison University \"\n",
      "                        \"Linfield College \"\n",
      "                        \"Rensselaer Polytechnic Institute \"\n",
      "                        \"UC Davis Foundation \"\n",
      "\n",
      "               Warning: Variable has embedded and trailing blanks.\n"
     ]
    }
   ],
   "source": [
    "codebook Institution if year==2012"
   ]
  },
  {
   "cell_type": "code",
   "execution_count": 103,
   "id": "f8fc83ed-3464-4f79-b3d5-18d126958788",
   "metadata": {},
   "outputs": [
    {
     "name": "stdout",
     "output_type": "stream",
     "text": [
      "(8 vars, 896 obs)\n"
     ]
    }
   ],
   "source": []
  },
  {
   "cell_type": "code",
   "execution_count": null,
   "id": "46dee8f2-3419-4897-9ae2-3c33b9175bc7",
   "metadata": {},
   "outputs": [],
   "source": [
    "replace Institution=InstitutionName if Institution==\"\"\n",
    "replace Institution=INSTITUTION if Institution==\"\"\n",
    "replace Institution=A if if year==2008 | year==2007 | year==2010\n",
    "drop if Institution==\"\"\n",
    "tab year"
   ]
  },
  {
   "cell_type": "code",
   "execution_count": 40,
   "id": "f8828904-ccc7-4eb7-a84e-f688e30301ab",
   "metadata": {},
   "outputs": [
    {
     "name": "stdout",
     "output_type": "stream",
     "text": [
      "\n",
      "\n",
      ". merge 1:m unitid using \"Merced Enrollment, Endowment, Expenditures.dta\", nogen\n",
      "\n",
      "    Result                      Number of obs\n",
      "    -----------------------------------------\n",
      "    Not matched                         1,231\n",
      "        from master                     1,228  \n",
      "        from using                          3  \n",
      "\n",
      "    Matched                            48,598  \n",
      "    -----------------------------------------\n",
      "\n",
      ". qui {\n",
      "\n",
      ". ds\n",
      "caeid         unitid        unitName      city          state         zip           Control       className     year          Headcount     Endowment     Expenditures  FTE_Enroll~t  cae_control   control       order\n"
     ]
    }
   ],
   "source": [
    "qui {\n",
    "    use \"IPEDS and Classification IDFILE.dta\", clear\n",
    "\n",
    "destring ipeds, replace\n",
    "\n",
    "replace ipeds=124557 if unitid==18088\n",
    "replace ipeds=128300 if unitid==20246\n",
    "replace ipeds=149587 if unitid==20786\n",
    "replace ipeds=170976 if unitid==20347\n",
    "replace ipeds=214661 if unitid==20146\n",
    "replace ipeds=214661 if unitid==22369\n",
    "replace ipeds=221470 if unitid==20257\n",
    "replace ipeds=166665 if unitid==20252\n",
    "replace ipeds=103529 if unitid==20250\n",
    "replace ipeds=110501 if unitid==17945\n",
    "replace ipeds=188030 if unitid==19023\n",
    "replace ipeds=174066 if unitid==19948\n",
    "replace ipeds=195827 if unitid==31586\n",
    "replace ipeds=110501 if unitid==20777\n",
    "replace ipeds=228732 if unitid==19729\n",
    "replace ipeds=229090 if unitid==19748\n",
    "replace ipeds=229090 if unitid==20784\n",
    "replace ipeds=149587 if unitid==20248\n",
    "replace ipeds=190035 if unitid==22367\n",
    "replace ipeds=439154 if unitid==19741\n",
    "replace ipeds=178439 if unitid==18927\n",
    "replace ipeds=229407 if unitid==20543\n",
    "replace ipeds=124557 if unitid==20778\n",
    "\n",
    "sort unitid\n",
    "}\n",
    "\n",
    "merge 1:m unitid using \"Merced Enrollment, Endowment, Expenditures.dta\"\", nogen\n",
    "\n",
    "qui {\n",
    "    \n",
    "drop if Year==.\n",
    "sort unitid Year\n",
    "rename Year year\n",
    "drop if year<2002\n",
    "\n",
    "encode Control, gen(control)\n",
    "\n",
    "drop if control>2\n",
    "rename control cae_control\n",
    "gen control=1 if cae_control==2\n",
    "replace control=2 if cae_control==1\n",
    "\n",
    "rename unitid caeid\n",
    "rename ipeds unitid\n",
    "\n",
    "drop if unitid==.\n",
    "**Drop Penn State Duplicates**\n",
    "drop if caeid==22369\n",
    "**Drop New Mexico State Duplicates**\n",
    "drop if caeid==31571\n",
    "\n",
    "gen order=1\n",
    "\n",
    "sort unitid order year\n",
    "}\n",
    "ds"
   ]
  },
  {
   "cell_type": "code",
   "execution_count": 45,
   "id": "76a8d32f-e3f3-47fd-bf25-461876c0da43",
   "metadata": {},
   "outputs": [
    {
     "name": "stdout",
     "output_type": "stream",
     "text": [
      ". use \"/Users/Charlie/Google Drive/Lincoln Project/IPEDS Disaggregated/Data/nac\n",
      "> ubo_all_2000_2013\", clear\n"
     ]
    }
   ],
   "source": [
    "use \"/Users/Charlie/Google Drive/Lincoln Project/IPEDS Disaggregated/Data/nacubo_all_2000_2013\", clear"
   ]
  },
  {
   "cell_type": "code",
   "execution_count": 47,
   "id": "125c8171-c5a6-42b9-8300-213c5aac8965",
   "metadata": {},
   "outputs": [
    {
     "name": "stdout",
     "output_type": "stream",
     "text": [
      "\n",
      "       year |      Freq.     Percent        Cum.\n",
      "------------+-----------------------------------\n",
      "       2000 |        437        4.37        4.37\n",
      "       2001 |        452        4.52        8.89\n",
      "       2002 |        651        6.51       15.41\n",
      "       2003 |        760        7.60       23.01\n",
      "       2004 |        779        7.79       30.80\n",
      "       2005 |        790        7.90       38.71\n",
      "       2006 |        793        7.93       46.64\n",
      "       2007 |        781        7.81       54.45\n",
      "       2008 |        741        7.41       61.86\n",
      "       2009 |        785        7.85       69.72\n",
      "       2010 |        761        7.61       77.33\n",
      "       2011 |        748        7.48       84.81\n",
      "       2012 |        755        7.55       92.37\n",
      "       2013 |        763        7.63      100.00\n",
      "------------+-----------------------------------\n",
      "      Total |      9,996      100.00\n"
     ]
    }
   ],
   "source": [
    "tab year if Endowment_Funds_no_annuity!=."
   ]
  },
  {
   "cell_type": "code",
   "execution_count": 41,
   "id": "45d24641-730d-4158-b4c1-1584c2895a6a",
   "metadata": {},
   "outputs": [
    {
     "name": "stdout",
     "output_type": "stream",
     "text": [
      ". merge 1:1 unitid order year using \"/Users/Charlie/Google Drive/Lincoln Projec\n",
      "> t/IPEDS Disaggregated/Data/nacubo_all_2000_2013\", gen(nacubo_merge) update\n",
      "(variable year was int, now float to accommodate using data's values)\n",
      "\n",
      "    Result                      Number of obs\n",
      "    -----------------------------------------\n",
      "    Not matched                        11,501\n",
      "        from master                     8,172  (nacubo_merge==1)\n",
      "        from using                      3,329  (nacubo_merge==2)\n",
      "\n",
      "    Matched                             6,667\n",
      "        not updated                     6,667  (nacubo_merge==3)\n",
      "        missing updated                     0  (nacubo_merge==4)\n",
      "        nonmissing conflict                 0  (nacubo_merge==5)\n",
      "    -----------------------------------------\n"
     ]
    }
   ],
   "source": [
    "merge 1:1 unitid order year ///\n",
    "using \"/Users/Charlie/Google Drive/Lincoln Project/IPEDS Disaggregated/Data/nacubo_all_2000_2013\", ///\n",
    "gen(nacubo_merge) update"
   ]
  },
  {
   "cell_type": "code",
   "execution_count": 44,
   "id": "a7be51fa-eba3-4e99-a28c-c181d679d648",
   "metadata": {},
   "outputs": [
    {
     "name": "stdout",
     "output_type": "stream",
     "text": [
      "\n",
      "\n",
      "\n",
      "\n",
      "       +-----------------------------------------------------------------------------------+\n",
      "       | year   unitid                        upper_inst   unitName   Endowm~t   Endowme~y |\n",
      "       |-----------------------------------------------------------------------------------|\n",
      "  306. | 2000   141839              UNIVERSITY OF HAWAII                     .           0 |\n",
      "  501. | 2001   141839              UNIVERSITY OF HAWAII                     .           0 |\n",
      " 1991. | 2003   141839              UNIVERSITY OF HAWAII                     .   152111000 |\n",
      " 3632. | 2004   141839              UNIVERSITY OF HAWAII                     .   176806000 |\n",
      " 5459. | 2005   141839              UNIVERSITY OF HAWAII                     .   186982000 |\n",
      "       |-----------------------------------------------------------------------------------|\n",
      " 9896. | 2009   141963   UNIVERSITY OF HAWAII FOUNDATION                     .   158673840 |\n",
      "10455. | 2010   141963   UNIVERSITY OF HAWAII FOUNDATION                     .   175986827 |\n",
      "11683. | 2011   141963   UNIVERSITY OF HAWAII FOUNDATION                     .   215119073 |\n",
      "13861. | 2012   141963   UNIVERSITY OF HAWAII FOUNDATION                     .   211970008 |\n",
      "15010. | 2013   141963   UNIVERSITY OF HAWAII FOUNDATION                     .   235382613 |\n",
      "       +-----------------------------------------------------------------------------------+\n"
     ]
    }
   ],
   "source": [
    "set line 255\n",
    "sort year\n",
    "list year unitid upper_inst unitName Endowment Endowment_Funds_no_annuity if regexm(upper_inst, \"HAWA\")==1"
   ]
  },
  {
   "cell_type": "code",
   "execution_count": 35,
   "id": "01fce788-3546-4ee8-99b8-8b5f6693bd96",
   "metadata": {},
   "outputs": [
    {
     "name": "stdout",
     "output_type": "stream",
     "text": [
      "\n",
      "---------------------------------------------------------------------------------------------------------------------------------------------------------------------------------------------------------------------------------------------------------------\n",
      "unitName                                                                                                                                                                                                                                               unitName\n",
      "---------------------------------------------------------------------------------------------------------------------------------------------------------------------------------------------------------------------------------------------------------------\n",
      "\n",
      "                  Type: String (str77), but longest is str64\n",
      "\n",
      "         Unique values: 1,423                     Missing \"\": 7,954/22,793\n",
      "\n",
      "              Examples: \"\"\n",
      "                        \"Brewton-Parker College\"\n",
      "                        \"La Salle University\"\n",
      "                        \"Somerset Community College\"\n",
      "\n",
      "               Warning: Variable has embedded blanks.\n"
     ]
    }
   ],
   "source": [
    "codebook unitName"
   ]
  },
  {
   "cell_type": "code",
   "execution_count": 14,
   "id": "d59fa65d-3a12-4821-83b4-e9e44d123140",
   "metadata": {},
   "outputs": [
    {
     "name": "stdout",
     "output_type": "stream",
     "text": [
      "\n",
      "\n",
      "\n",
      "       year |      Freq.     Percent        Cum.\n",
      "------------+-----------------------------------\n",
      "       2003 |        650        8.27        8.27\n",
      "       2004 |        672        8.55       16.83\n",
      "       2005 |        686        8.73       25.56\n",
      "       2006 |        705        8.97       34.53\n",
      "       2007 |        716        9.11       43.65\n",
      "       2008 |        728        9.27       52.91\n",
      "       2009 |        751        9.56       62.47\n",
      "       2010 |        733        9.33       71.80\n",
      "       2011 |        732        9.32       81.12\n",
      "       2012 |        737        9.38       90.50\n",
      "       2013 |        746        9.50      100.00\n",
      "------------+-----------------------------------\n",
      "      Total |      7,856      100.00\n"
     ]
    }
   ],
   "source": [
    "use \"/Users/Charlie/Google Drive/Lincoln Project/IPEDS Disaggregated/Data/nacubo_all_1990_2013\", clear\n",
    "tab year if Endowment_Funds!=."
   ]
  },
  {
   "cell_type": "code",
   "execution_count": 8,
   "id": "dab750a8-0f54-464a-b57e-cae86d414b74",
   "metadata": {},
   "outputs": [
    {
     "name": "stdout",
     "output_type": "stream",
     "text": [
      "\n",
      "       +--------------------------------------------------------------+\n",
      "       | Year                           unitName   unitid   Endowment |\n",
      "       |--------------------------------------------------------------|\n",
      "  815. | 1969   Chaminade University of Honolulu    18286           . |\n",
      " 1711. | 1970   Chaminade University of Honolulu    18286           . |\n",
      " 2584. | 1971   Chaminade University of Honolulu    18286           . |\n",
      " 3630. | 1972   Chaminade University of Honolulu    18286           . |\n",
      " 5580. | 1974   Chaminade University of Honolulu    18286       83667 |\n",
      "       |--------------------------------------------------------------|\n",
      " 6416. | 1975   Chaminade University of Honolulu    18286       89712 |\n",
      " 7347. | 1976   Chaminade University of Honolulu    18286       95690 |\n",
      " 8414. | 1977   Chaminade University of Honolulu    18286       39187 |\n",
      " 9465. | 1978                 Hawaii Loa College    19995   127172172 |\n",
      "10353. | 1979                 Hawaii Loa College    19995      131925 |\n",
      "       |--------------------------------------------------------------|\n",
      "11373. | 1980                 Hawaii Loa College    19995      100000 |\n",
      "12290. | 1981                 Hawaii Loa College    19995      131000 |\n",
      "13307. | 1982                 Hawaii Loa College    19995      100000 |\n",
      "14151. | 1983   Chaminade University of Honolulu    18286      494621 |\n",
      "15259. | 1984   Chaminade University of Honolulu    18286      667793 |\n",
      "       |--------------------------------------------------------------|\n",
      "15488. | 1984                 Hawaii Loa College    19995      160315 |\n",
      "16483. | 1985                 Hawaii Loa College    19995      200380 |\n",
      "17579. | 1986   Chaminade University of Honolulu    18286      878409 |\n",
      "18621. | 1987   Chaminade University of Honolulu    18286     1500000 |\n",
      "18810. | 1987                 Hawaii Loa College    19995      263989 |\n",
      "       |--------------------------------------------------------------|\n",
      "19845. | 1988   Chaminade University of Honolulu    18286     1200000 |\n",
      "19996. | 1988          Hawaii Pacific University    20186     7913700 |\n",
      "20904. | 1989   Chaminade University of Honolulu    18286     1400000 |\n",
      "21997. | 1990   Chaminade University of Honolulu    18286     1500000 |\n",
      "23094. | 1991          Hawaii Pacific University    20186    16100000 |\n",
      "       |--------------------------------------------------------------|\n",
      "28320. | 1996    Brigham Young University-Hawaii    18287           0 |\n",
      "29383. | 1997    Brigham Young University-Hawaii    18287           . |\n",
      "30422. | 1998    Brigham Young University-Hawaii    18287           . |\n",
      "31333. | 1999    Brigham Young University-Hawaii    18287           . |\n",
      "32235. | 2000    Brigham Young University-Hawaii    18287           . |\n",
      "       |--------------------------------------------------------------|\n",
      "32861. | 2001    Brigham Young University-Hawaii    18287           0 |\n",
      "33462. | 2002    Brigham Young University-Hawaii    18287           . |\n",
      "34840. | 2003    Brigham Young University-Hawaii    18287           . |\n",
      "35834. | 2004    Brigham Young University-Hawaii    18287           . |\n",
      "36542. | 2005    Brigham Young University-Hawaii    18287           . |\n",
      "       |--------------------------------------------------------------|\n",
      "38207. | 2006    Brigham Young University-Hawaii    18287           . |\n",
      "38622. | 2007    Brigham Young University-Hawaii    18287           . |\n",
      "39708. | 2008    Brigham Young University-Hawaii    18287           . |\n",
      "40830. | 2009    Brigham Young University-Hawaii    18287           . |\n",
      "42005. | 2010    Brigham Young University-Hawaii    18287           . |\n",
      "       |--------------------------------------------------------------|\n",
      "45542. | 2013          Hawaii Pacific University    20186    60069664 |\n",
      "45886. | 2014          Hawaii Pacific University    20186    62421931 |\n",
      "46977. | 2015      University of Hawaii at Manoa    31432   245544002 |\n",
      "47103. | 2015          Hawaii Pacific University    20186    59715884 |\n",
      "47961. | 2016      University of Hawaii at Manoa    31432   233183339 |\n",
      "       +--------------------------------------------------------------+\n"
     ]
    }
   ],
   "source": [
    "list Year unitName unitid Endowment if state==\"HI\""
   ]
  },
  {
   "cell_type": "code",
   "execution_count": 17,
   "id": "75fcdeb3-acc3-4dad-b119-8583e1055eb9",
   "metadata": {},
   "outputs": [
    {
     "name": "stdout",
     "output_type": "stream",
     "text": [
      "\n",
      "\n",
      "(variable unitid was long, now double to accommodate using data's values)\n",
      "\n",
      "    Result                      Number of obs\n",
      "    -----------------------------------------\n",
      "    Not matched                       135,569\n",
      "        from master                   135,569  (finmerge==1)\n",
      "        from using                          0  (finmerge==2)\n",
      "\n",
      "    Matched                           169,543  (finmerge==3)\n",
      "    -----------------------------------------\n"
     ]
    }
   ],
   "source": [
    "use instnm unitid year using hd_flags_1981_2018, clear\n",
    "\n",
    "merge 1:1 unitid year using financial_all_1981_2017, gen(finmerge) ///\n",
    "keepusing(total03_revenue) keep(1 3)"
   ]
  },
  {
   "cell_type": "code",
   "execution_count": 20,
   "id": "0040dba1-559f-41c9-9d04-3025c61c06f0",
   "metadata": {},
   "outputs": [
    {
     "name": "stdout",
     "output_type": "stream",
     "text": [
      "\n",
      "\n",
      "\n",
      "        +------------------------------------------------------------------------+\n",
      "        |                                      instnm   unitid   year   total0~e |\n",
      "        |------------------------------------------------------------------------|\n",
      "128018. | RUTGERS THE STATE UNIVERSITY CENTRAL OFFICE   186362   2003   1.31e+09 |\n",
      "128019. | RUTGERS THE STATE UNIVERSITY CENTRAL OFFICE   186362   2004   1.41e+09 |\n",
      "128042. |                   RUTGERS UNIVERSITY-CAMDEN   186371   2003          . |\n",
      "128043. |                   RUTGERS UNIVERSITY-CAMDEN   186371   2004          . |\n",
      "128078. |            RUTGERS UNIVERSITY-NEW BRUNSWICK   186380   2003          . |\n",
      "        |------------------------------------------------------------------------|\n",
      "128079. |            RUTGERS UNIVERSITY-NEW BRUNSWICK   186380   2004          . |\n",
      "128114. |                   RUTGERS UNIVERSITY-NEWARK   186399   2003          . |\n",
      "128115. |                   RUTGERS UNIVERSITY-NEWARK   186399   2004          . |\n",
      "        +------------------------------------------------------------------------+\n"
     ]
    }
   ],
   "source": [
    "set line 255\n",
    "list instnm unitid year total03_revenue if regexm(instnm, \"RUTGERS\")==1 & year>2002 & year<2005"
   ]
  },
  {
   "cell_type": "code",
   "execution_count": null,
   "id": "96f02bc8-ce5c-49d5-8bd9-af8bf1612623",
   "metadata": {},
   "outputs": [],
   "source": []
  }
 ],
 "metadata": {
  "kernelspec": {
   "display_name": "Stata",
   "language": "stata",
   "name": "stata"
  },
  "language_info": {
   "codemirror_mode": "stata",
   "file_extension": ".do",
   "mimetype": "text/x-stata",
   "name": "stata",
   "version": "15.1"
  }
 },
 "nbformat": 4,
 "nbformat_minor": 5
}
