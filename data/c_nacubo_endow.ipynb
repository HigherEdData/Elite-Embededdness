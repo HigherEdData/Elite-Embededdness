{
 "cells": [
  {
   "cell_type": "markdown",
   "id": "39608380-0fb7-43b7-95a7-c060f3dcb4bc",
   "metadata": {},
   "source": [
    "## Download/Combine NACUBO ENDOWMENT DATA\n",
    "\n",
    "### For Tables 3 and 4 of Elite Embeddedness\n",
    "\n",
    "By Charlie Eaton and Albina Gibadullina"
   ]
  },
  {
   "cell_type": "code",
   "execution_count": 1,
   "id": "70a86028-2bd6-4e8b-a268-26ad32ffdf22",
   "metadata": {},
   "outputs": [],
   "source": [
    "**DOWNLOAD PUBLIC TABLES OF SCHOOL LEVEL ENDOWMENT VALUE DATA FROM NACUBO SURVEY\n",
    "**AVAILABLE AS PDFS SINCE 2002 AND AS EXCEL FILES SINCE 2017\n",
    "\n",
    "copy \"https://www.nacubo.org/-/media/Nacubo/Documents/EndowmentFiles/NCSE2017-Endowment-Markets-Values-for-Media--Final-January-31-2018.ashx?la=en&hash=7E0A6E36D46B4B246793CD3D1DD92D6729CB299E\" ///\n",
    "NCSE2017-Endowment-Markets-Values-for-Media--Final-January-31-2018.xlsx, replace"
   ]
  },
  {
   "cell_type": "code",
   "execution_count": 2,
   "id": "d46c5987-a306-42a6-bec7-042c6d961e3f",
   "metadata": {},
   "outputs": [
    {
     "name": "stdout",
     "output_type": "stream",
     "text": [
      "\n",
      "(8 vars, 854 obs)\n",
      "\n",
      "FY2013EndowmentValuesin10: contains nonnumeric characters; replaced as double\n",
      "(3 missing values generated)\n",
      "\n",
      "(3 observations deleted)\n",
      "\n",
      "\n",
      "Contains data\n",
      " Observations:           851                  \n",
      "    Variables:             8                  \n",
      "--------------------------------------------------------------------------------\n",
      "Variable      Storage   Display    Value\n",
      "    name         type    format    label      Variable label\n",
      "--------------------------------------------------------------------------------\n",
      "Rank            int     %10.0gc               Rank\n",
      "UnitID          str6    %9s                   UnitID\n",
      "Institution     str70   %70s                  Institution\n",
      "City            str17   %17s                  City\n",
      "State           str2    %9s                   State\n",
      "FY2014Endowm~10 double  %10.0gc               FY2014 Endowment Values (in\n",
      "                                                $1,000s)\n",
      "FY2013Endowm~10 double  %10.0g                FY2013 Endowment Values (in\n",
      "                                                $1,000s)\n",
      "ChangeinMarke~e str18   %18s                  % Change in Market Value*\n",
      "--------------------------------------------------------------------------------\n",
      "Sorted by: \n",
      "     Note: Dataset has changed since last saved.\n"
     ]
    }
   ],
   "source": [
    "import excel using \"2014 NCSE Endowment Values with UNITIDs--Revised.xls\", ///\n",
    "clear firstrow cellrange(A1:H855)\n",
    "destring FY2013, replace force\n",
    "drop if FY2013==.\n",
    "describe"
   ]
  },
  {
   "cell_type": "code",
   "execution_count": 3,
   "id": "768ab3f3-5b6f-4b10-8c31-0554a2c7965c",
   "metadata": {},
   "outputs": [],
   "source": [
    "qui {\n",
    "clear\n",
    "import excel using \"Final Endowment Per FTE Student--2013 to 2003.xlsx\", ///\n",
    "sheet(\"2013\") clear firstrow\n",
    "gen year=2013\n",
    "replace Institution=lower(strrtrim(Institution))\n",
    "replace Institution=strltrim(Institution)\n",
    "replace Institution=subinstr(Institution, \", inc.\", \"\", .)\n",
    "replace Institution=subinstr(Institution, \", inc\", \"\", .)\n",
    "replace Institution=subinstr(Institution, \" inc\", \"\", .)\n",
    "replace Institution=subinstr(Institution, \"  final\", \"\", .)\n",
    "replace Institution=subinstr(Institution, \" (ct)\", \"\", .)\n",
    "replace Institution=subinstr(Institution, \" (ia)\", \"\", .)\n",
    "replace Institution=subinstr(Institution, \" (vt)\", \"\", .)\n",
    "replace Institution=subinstr(Institution, \" (tx)\", \"\", .)\n",
    "replace Institution=subinstr(Institution, \" (mn)\", \"\", .)\n",
    "replace Institution=subinstr(Institution, \" (pa)\", \"\", .)\n",
    "replace Institution=subinstr(Institution, \".\", \"\", .)\n",
    "replace Institution=subinstr(Institution, \",\", \"\", .)\n",
    "replace Institution=subinstr(Institution, \"foundation.\", \"foundation\", .)\n",
    "replace Institution=subinstr(Institution, \"xvii\", \"\", .)\n",
    "replace Institution=subinstr(Institution, \"xvi\", \"\", .)\n",
    "replace Institution=subinstr(Institution, \"xv\", \"\", .)\n",
    "replace Institution=subinstr(Institution, \"xiv\", \"\", .)\n",
    "replace Institution=subinstr(Institution, \"xiii\", \"\", .)\n",
    "replace Institution=subinstr(Institution, \"xii\", \"\", .)\n",
    "replace Institution=subinstr(Institution, \"xi\", \"\", .)\n",
    "replace Institution=subinstr(Institution, \"ix\", \"\", .)\n",
    "replace Institution=subinstr(Institution, \"viii\", \"\", .)\n",
    "replace Institution=subinstr(Institution, \"vii\", \"\", .)\n",
    "replace Institution=subinstr(Institution, \"iii\", \"\", .)\n",
    "replace Institution=subinstr(Institution, \" (pennsylvania)\", \"\", .)\n",
    "replace Institution=subinstr(Institution, \"universityii\", \"university\", .)\n",
    "replace Institution=subinstr(Institution, \"systemi\", \"system\", .)\n",
    "replace Institution=subinstr(Institution, \"universityvi\", \"university\", .)\n",
    "replace Institution=subinstr(Institution, \"universityvi\", \"university\", .)\n",
    "replace Institution=subinstr(Institution, \"foundationiv\", \"foundation\", .)\n",
    "replace Institution=subinstr(Institution, \"foundationx\", \"foundation\", .)\n",
    "replace Institution=subinstr(Institution, \"foundationi\", \"foundation\", .)\n",
    "replace Institution=subinstr(Institution, \"foundationv\", \"foundation\", .)\n",
    "replace Institution=subinstr(Institution, \" (unlv foundation)\", \"\", .)\n",
    "replace Institution=subinstr(Institution, \"&\", \"and\", .)\n",
    "replace Institution=strrtrim(Institution)\n",
    "drop if Institution==\"\"\n",
    "drop if EndowmentFunds==.\n",
    "drop if NacuboID==.\n",
    "bysort Institution State: egen order=rank(EndowmentFunds), unique\n",
    "save d_nacubo_funds_2003_2017, replace\n",
    "}"
   ]
  },
  {
   "cell_type": "code",
   "execution_count": 4,
   "id": "6d7b1294-1a44-4fcb-9a2c-6d5bf6b7b686",
   "metadata": {},
   "outputs": [
    {
     "name": "stdout",
     "output_type": "stream",
     "text": [
      "\n",
      "\n",
      ". merge 1:1 Institution State order year using d_nacubo_funds_2003_2017, gen(mun\n",
      "> itid) update\n",
      "(variable Institution was str70, now str71 to accommodate using data's values)\n",
      "\n",
      "    Result                      Number of obs\n",
      "    -----------------------------------------\n",
      "    Not matched                           229\n",
      "        from master                       134  (munitid==1)\n",
      "        from using                         95  (munitid==2)\n",
      "\n",
      "    Matched                               717\n",
      "        not updated                         0  (munitid==3)\n",
      "        missing updated                     0  (munitid==4)\n",
      "        nonmissing conflict               717  (munitid==5)\n",
      "    -----------------------------------------\n",
      "\n",
      ". qui drop Q2* EndowmentperStudent FY2014EndowmentValuesin10 ChangeinMarketValue\n",
      "\n",
      ". qui  rename FTE fte\n",
      "\n",
      ".    qui tostring INSTYPE, replace\n",
      "\n",
      ". save d_nacubo_funds_2003_2017, replace\n",
      "file d_nacubo_funds_2003_2017.dta saved\n"
     ]
    }
   ],
   "source": [
    "qui {\n",
    "    import excel using \"2014 NCSE Endowment Values with UNITIDs--Revised.xls\", ///\n",
    "clear firstrow\n",
    "replace Institution=lower(strrtrim(Institution))\n",
    "replace Institution=strltrim(Institution)\n",
    "replace Institution=subinstr(Institution, \"+\", \"\", .)\n",
    "replace Institution=subinstr(Institution, \"#\", \"\", .)\n",
    "replace Institution=subinstr(Institution, \", inc.\", \"\", .)\n",
    "replace Institution=subinstr(Institution, \", inc\", \"\", .)\n",
    "replace Institution=subinstr(Institution, \" inc\", \"\", .)\n",
    "replace Institution=subinstr(Institution, \"(il)\", \"\", .)\n",
    "replace Institution=subinstr(Institution, \".\", \"\", .)\n",
    "replace Institution=subinstr(Institution, \",\", \"\", .)\n",
    "replace Institution=subinstr(Institution, \"foundation.\", \"foundation\", .)\n",
    "replace Institution=subinstr(Institution, \" (ct)\", \"\", .)\n",
    "replace Institution=subinstr(Institution, \" (ia)\", \"\", .)\n",
    "replace Institution=subinstr(Institution, \" (vt)\", \"\", .)\n",
    "replace Institution=subinstr(Institution, \" (tx)\", \"\", .)\n",
    "replace Institution=subinstr(Institution, \" (mn)\", \"\", .)\n",
    "replace Institution=subinstr(Institution, \" (pa)\", \"\", .)\n",
    "replace Institution=subinstr(Institution, \" (sd)\", \"\", .)\n",
    "replace Institution=subinstr(Institution, \"xvii\", \"\", .)\n",
    "replace Institution=subinstr(Institution, \"xvi\", \"\", .)\n",
    "replace Institution=subinstr(Institution, \"xv\", \"\", .)\n",
    "replace Institution=subinstr(Institution, \"xiv\", \"\", .)\n",
    "replace Institution=subinstr(Institution, \"xiii\", \"\", .)\n",
    "replace Institution=subinstr(Institution, \"xii\", \"\", .)\n",
    "replace Institution=subinstr(Institution, \"xi\", \"\", .)\n",
    "replace Institution=subinstr(Institution, \"ix\", \"\", .)\n",
    "replace Institution=subinstr(Institution, \"viii\", \"\", .)\n",
    "replace Institution=subinstr(Institution, \"vii\", \"\", .)\n",
    "replace Institution=subinstr(Institution, \"iii\", \"\", .)\n",
    "replace Institution=subinstr(Institution, \"universityii\", \"university\", .)\n",
    "replace Institution=subinstr(Institution, \"systemi\", \"system\", .)\n",
    "replace Institution=subinstr(Institution, \"universityvi\", \"university\", .)\n",
    "replace Institution=subinstr(Institution, \"foundationiv\", \"foundation\", .)\n",
    "replace Institution=subinstr(Institution, \"foundationx\", \"foundation\", .)\n",
    "replace Institution=subinstr(Institution, \"foundationi\", \"foundation\", .)\n",
    "replace Institution=subinstr(Institution, \"foundationv\", \"foundation\", .)\n",
    "replace Institution=subinstr(Institution, \" (pennsylvania)\", \"\", .)\n",
    "replace Institution=subinstr(Institution, \" (unlv foundation)\", \"\", .)\n",
    "replace Institution=subinstr(Institution, \"&\", \"and\", .)\n",
    "replace Institution=strrtrim(Institution)\n",
    "drop if Institution==\"\"\n",
    "gen year=2013\n",
    "rename FY2013EndowmentValuesin10 EndowmentFunds\n",
    "destring EndowmentFunds, replace force\n",
    "drop if EndowmentFunds==.\n",
    "bysort Institution State: egen order=rank(EndowmentFunds), unique\n",
    "}\n",
    "merge 1:1 Institution State order year using d_nacubo_funds_2003_2017, gen(munitid) update\n",
    "qui drop Q2* EndowmentperStudent FY2014EndowmentValuesin10 ChangeinMarketValue\n",
    "qui  rename FTE fte\n",
    "   qui tostring INSTYPE, replace\n",
    "save d_nacubo_funds_2003_2017, replace"
   ]
  },
  {
   "cell_type": "code",
   "execution_count": 5,
   "id": "c68a83ba-4e56-4954-b9d9-81e2a4656a9e",
   "metadata": {},
   "outputs": [],
   "source": [
    "qui {\n",
    "\n",
    "forvalues year=2003/2006 {\n",
    "import excel using \"Final Endowment Per FTE Student--2013 to 2003.xlsx\", ///\n",
    "sheet(\"`year'\") clear firstrow\n",
    "    gen year=`year' \n",
    "    tostring Number, replace\n",
    "    append using d_nacubo_funds_2003_2017\n",
    "    display \"`year'\"\n",
    "    save d_nacubo_funds_2003_2017, replace\n",
    "    }\n",
    "\n",
    "forvalues year=2007/2008 {\n",
    "import excel using \"Final Endowment Per FTE Student--2013 to 2003.xlsx\", ///\n",
    "sheet(\"`year'\") clear firstrow\n",
    "    gen year=`year' \n",
    "    rename Student student`year'\n",
    "    append using d_nacubo_funds_2003_2017\n",
    "    display \"`year'\"\n",
    "    save d_nacubo_funds_2003_2017, replace\n",
    "    }\n",
    "\n",
    "forvalues year=2009/2010 {\n",
    "import excel using \"Final Endowment Per FTE Student--2013 to 2003.xlsx\", ///\n",
    "sheet(\"`year'\") clear firstrow\n",
    "    gen year=`year' \n",
    "    append using d_nacubo_funds_2003_2017\n",
    "    display \"`year'\"\n",
    "    save d_nacubo_funds_2003_2017, replace\n",
    "    }\n",
    "\n",
    "forvalues year=2011/2012 {\n",
    "import excel using \"Final Endowment Per FTE Student--2013 to 2003.xlsx\", ///\n",
    "sheet(\"`year'\") clear firstrow\n",
    "    gen year=`year' \n",
    "    drop Q2* EndowmentperFTEStudent\n",
    "    append using d_nacubo_funds_2003_2017\n",
    "    display \"`year'\"\n",
    "    save d_nacubo_funds_2003_2017, replace\n",
    "    }\n",
    "\n",
    "import excel using \"2014 NCSE Endowment Values with UNITIDs--Revised.xls\", ///\n",
    "clear firstrow\n",
    "gen year=2014\n",
    "drop FY2013 Rank\n",
    "append using d_nacubo_funds_2003_2017\n",
    "    save d_nacubo_funds_2003_2017, replace\n",
    "\n",
    "import excel using \"2016 Endowment Market Values for Media--Revised April 14 2017.xlsx\", ///\n",
    "clear firstrow cellrange(A4:P820)\n",
    "gen year=2015\n",
    "drop FY2016* Change Rank\n",
    "    destring FY2015Endowmentin1000s, replace force\n",
    "append using d_nacubo_funds_2003_2017\n",
    "    save d_nacubo_funds_2003_2017, replace\n",
    "\n",
    "import excel using \"2016 Endowment Market Values for Media--Revised April 14 2017.xlsx\", ///\n",
    "clear firstrow cellrange(A4:P820)\n",
    "gen year=2016\n",
    "drop FY2015* Change Rank\n",
    "append using d_nacubo_funds_2003_2017\n",
    "    save d_nacubo_funds_2003_2017, replace\n",
    "\n",
    "import excel using \"NCSE2017-Endowment-Markets-Values-for-Media--Final-January-31-2018.xlsx\", ///\n",
    "clear firstrow cellrange(A4:M822)\n",
    "drop FY2016* Rank\n",
    "gen year=2017\n",
    "append using d_nacubo_funds_2003_2017\n",
    "save d_nacubo_funds_2003_2017, replace\n",
    "}"
   ]
  },
  {
   "cell_type": "code",
   "execution_count": 6,
   "id": "7d3fc7a5-091c-4f7b-ade3-2015e6d4fcf9",
   "metadata": {},
   "outputs": [
    {
     "name": "stdout",
     "output_type": "stream",
     "text": [
      "\n",
      "(2,964 real changes made)\n",
      "\n",
      "(842 real changes made)\n",
      "\n",
      "(791 real changes made)\n",
      "\n",
      "(785 real changes made)\n",
      "\n",
      "(826 real changes made)\n",
      "\n",
      "(856 real changes made)\n",
      "\n",
      "(815 real changes made)\n",
      "\n",
      "(816 real changes made)\n",
      "\n",
      "(818 real changes made)\n"
     ]
    }
   ],
   "source": [
    "replace EndowmentFunds=EndowmentFunds000 if EndowmentFunds==.\n",
    "replace EndowmentFunds=EndowmentFunds2009 if EndowmentFunds==.\n",
    "replace EndowmentFunds=Funds000 if EndowmentFunds==.\n",
    "replace EndowmentFunds=D if EndowmentFunds==.\n",
    "replace EndowmentFunds=EndowmentFundsUS if EndowmentFunds==.\n",
    "*replace EndowmentFunds=Funds if EndowmentFunds==.\n",
    "replace EndowmentFunds=FY2014EndowmentValuesin10 if EndowmentFunds==.\n",
    "replace EndowmentFunds=FY2015Endowmentin1000s if EndowmentFunds==.\n",
    "replace EndowmentFunds=FY2016Endowmentin1000s if EndowmentFunds==.\n",
    "replace EndowmentFunds=FY2017Endowmentin1000s if EndowmentFunds==."
   ]
  },
  {
   "cell_type": "code",
   "execution_count": 7,
   "id": "1daafa51-c69c-43ec-84e8-63f3fa5d75ec",
   "metadata": {},
   "outputs": [
    {
     "name": "stdout",
     "output_type": "stream",
     "text": [
      "UnitID: all characters numeric; replaced as long\n",
      "(10513 missing values generated)\n"
     ]
    }
   ],
   "source": [
    "destring UnitID, replace"
   ]
  },
  {
   "cell_type": "code",
   "execution_count": 8,
   "id": "909040ae-1420-4e93-813a-1a99b655f12b",
   "metadata": {},
   "outputs": [
    {
     "name": "stdout",
     "output_type": "stream",
     "text": [
      "(2,340 real changes made)\n"
     ]
    }
   ],
   "source": [
    "replace UnitID=Unitid1 if UnitID==."
   ]
  },
  {
   "cell_type": "code",
   "execution_count": 9,
   "id": "d4aea2a4-86f5-411a-baa9-54da6f8f39f5",
   "metadata": {},
   "outputs": [
    {
     "name": "stdout",
     "output_type": "stream",
     "text": [
      "\n",
      "(3,245 real changes made)\n",
      "\n",
      "(842 real changes made)\n",
      "\n",
      "(11,113 real changes made)\n"
     ]
    }
   ],
   "source": [
    "replace Institution=InstitutionName if Institution==\"\"\n",
    "replace Institution=INSTITUTION if Institution==\"\"\n",
    "replace Institution=lower(Institution)"
   ]
  },
  {
   "cell_type": "code",
   "execution_count": 10,
   "id": "a27ea7ef-fcc2-43ec-bf36-198744cac665",
   "metadata": {},
   "outputs": [
    {
     "name": "stdout",
     "output_type": "stream",
     "text": [
      "(1,453 real changes made)\n"
     ]
    }
   ],
   "source": [
    "replace State=strrtrim(State)"
   ]
  },
  {
   "cell_type": "code",
   "execution_count": 11,
   "id": "b4233d52-cb13-4963-9a4f-ea73cce629d8",
   "metadata": {},
   "outputs": [
    {
     "name": "stdout",
     "output_type": "stream",
     "text": [
      "\n",
      "(1,411 real changes made)\n",
      "\n",
      "(1 real change made)\n",
      "\n",
      "(7 real changes made)\n"
     ]
    }
   ],
   "source": [
    "replace State=strltrim(State)\n",
    "replace State=\"MS\" if regexm(State, \"MS\")==1\n",
    "replace State=upper(State)"
   ]
  },
  {
   "cell_type": "code",
   "execution_count": 12,
   "id": "bde11e20-6db1-497c-ae8f-e830503266d7",
   "metadata": {},
   "outputs": [],
   "source": [
    "qui {\n",
    "    replace Institution=lower(strrtrim(Institution))\n",
    "replace Institution=strltrim(Institution)\n",
    "replace Institution=subinstr(Institution, \"+\", \"\", .)\n",
    "replace Institution=subinstr(Institution, \"#\", \"\", .)\n",
    "replace Institution=subinstr(Institution, \", inc.\", \"\", .)\n",
    "replace Institution=subinstr(Institution, \", inc\", \"\", .)\n",
    "replace Institution=subinstr(Institution, \" inc\", \"\", .)\n",
    "replace Institution=subinstr(Institution, \"(il)\", \"\", .)\n",
    "replace Institution=subinstr(Institution, \".\", \"\", .)\n",
    "replace Institution=subinstr(Institution, \",\", \"\", .)\n",
    "replace Institution=subinstr(Institution, \"foundation.\", \"foundation\", .)\n",
    "replace Institution=subinstr(Institution, \" (ct)\", \"\", .)\n",
    "replace Institution=subinstr(Institution, \" (ia)\", \"\", .)\n",
    "replace Institution=subinstr(Institution, \" (vt)\", \"\", .)\n",
    "replace Institution=subinstr(Institution, \" (tx)\", \"\", .)\n",
    "replace Institution=subinstr(Institution, \" (mn)\", \"\", .)\n",
    "replace Institution=subinstr(Institution, \" (pa)\", \"\", .)\n",
    "replace Institution=subinstr(Institution, \" (sd)\", \"\", .)\n",
    "replace Institution=subinstr(Institution, \"xvii\", \"\", .)\n",
    "replace Institution=subinstr(Institution, \"xvi\", \"\", .)\n",
    "replace Institution=subinstr(Institution, \"xv\", \"\", .)\n",
    "replace Institution=subinstr(Institution, \"xiv\", \"\", .)\n",
    "replace Institution=subinstr(Institution, \"xiii\", \"\", .)\n",
    "replace Institution=subinstr(Institution, \"xii\", \"\", .)\n",
    "replace Institution=subinstr(Institution, \"xi\", \"\", .)\n",
    "replace Institution=subinstr(Institution, \"ix\", \"\", .)\n",
    "replace Institution=subinstr(Institution, \"viii\", \"\", .)\n",
    "replace Institution=subinstr(Institution, \"vii\", \"\", .)\n",
    "replace Institution=subinstr(Institution, \"iii\", \"\", .)\n",
    "replace Institution=subinstr(Institution, \"universityii\", \"university\", .)\n",
    "replace Institution=subinstr(Institution, \"systemi\", \"system\", .)\n",
    "replace Institution=subinstr(Institution, \"universityvi\", \"university\", .)\n",
    "replace Institution=subinstr(Institution, \"foundationiv\", \"foundation\", .)\n",
    "replace Institution=subinstr(Institution, \"foundationx\", \"foundation\", .)\n",
    "replace Institution=subinstr(Institution, \"foundationi\", \"foundation\", .)\n",
    "replace Institution=subinstr(Institution, \"foundationv\", \"foundation\", .)\n",
    "replace Institution=subinstr(Institution, \" (pennsylvania)\", \"\", .)\n",
    "replace Institution=subinstr(Institution, \" (unlv foundation)\", \"\", .)\n",
    "replace Institution=subinstr(Institution, \"&\", \"and\", .)\n",
    "replace Institution=strrtrim(Institution)\n",
    "}"
   ]
  },
  {
   "cell_type": "code",
   "execution_count": 13,
   "id": "b06e1f76-8d73-4152-9e39-013261d7d29c",
   "metadata": {},
   "outputs": [
    {
     "name": "stdout",
     "output_type": "stream",
     "text": [
      "Warning: at least one group contains all missing values or contains multiple\n",
      "modes.  Generating missing values for the mode of these groups.  Use the\n",
      "missing, maxmode, minmode, or nummode() options to control this behavior.\n",
      "(2,747 missing values generated)\n"
     ]
    }
   ],
   "source": [
    "bysort Institution State: egen unitid=mode(UnitID), minmode"
   ]
  },
  {
   "cell_type": "code",
   "execution_count": 14,
   "id": "ca78a233-50cc-47c3-87e8-fb7c250d95da",
   "metadata": {},
   "outputs": [],
   "source": [
    "sort unitid year\n",
    "set line 255"
   ]
  },
  {
   "cell_type": "code",
   "execution_count": 15,
   "id": "f9f00835-c167-4b34-8b78-509692e3e139",
   "metadata": {},
   "outputs": [],
   "source": [
    "*list unitid Institution year if Institution==\"mit\""
   ]
  },
  {
   "cell_type": "code",
   "execution_count": 16,
   "id": "e9d68e3a-8a54-406c-a061-0a9dee9269af",
   "metadata": {},
   "outputs": [],
   "source": [
    "*list unitid Institution year if year>2002 & year<2018 & regexm(Institution, \"university of texas\")==1"
   ]
  },
  {
   "cell_type": "code",
   "execution_count": 17,
   "id": "f51cd70c-7b1c-418d-b25f-87a3a326c484",
   "metadata": {},
   "outputs": [],
   "source": [
    "qui {\n",
    "replace unitid=104179 if year>2005 & year<2011 & regexm(Institution, \"arizona state\")==1\n",
    "*add Berkeley before 2007 from CAE\n",
    "replace unitid=110635 if year>2006 & year<2011 & regexm(Institution, \"university of california berkeley\")==1\n",
    "**change colorado unitid to flagship\n",
    "replace unitid=126614 if unitid==128300\n",
    "**change delaware unitid to flagship\n",
    "replace unitid=130343 if regexm(Institution, \"university of delaware\")==1\n",
    "replace unitid=139959 if regexm(Institution, \"university of georgia\")==1 & unitid==.\n",
    "**change hawaii to flagship\n",
    "replace unitid=141574 if regexm(Institution, \"university of hawai\")==1\n",
    "replace unitid=144050 if regexm(Institution, \"university of chicago\")==1\n",
    "replace unitid=145637 if regexm(Institution, \"university of illinois\")==1 & unitid==.\n",
    "replace unitid=151351 if regexm(Institution, \"indiana university foundation\")==1 & unitid==. & year==2009\n",
    "replace unitid=163286 if regexm(Institution, \"university of maryland\")==1 & unitid==.\n",
    "replace unitid=166629 if regexm(Institution, \"university of massachusetts\")==1\n",
    "* missing 2009 MIT endowment value unitid==166683\n",
    "replace unitid=174066 if regexm(Institution, \"university of minnesota foundation\")==1 & unitid==.\n",
    "replace unitid=174066 if regexm(Institution, \"university of minnesota and\")==1 & unitid==.\n",
    "replace unitid=179867 if Institution==\"washington university\" & unitid==.\n",
    "replace unitid=182670 if regexm(Institution, \"dartmouth college\")==1 & unitid==.\n",
    "replace unitid=186380 if regexm(Institution, \"rutgers\")==1 & unitid==.\n",
    "*cornell missing 2010 unitid==190415\n",
    "replace unitid=199120 if regexm(Institution, \"chapel hill\")==1 & unitid==.\n",
    "**Case western missing 2010\n",
    "replace unitid=204796 if regexm(Institution, \"ohio state\")==1 & unitid==.\n",
    "replace unitid=214777 if regexm(Institution, \"pennsylvania state university\")==1 & unitid==.\n",
    "replace unitid=215062 if regexm(Institution, \"the university of pennsylvania\")==1 & unitid==.\n",
    "replace unitid=228723 if regexm(Institution, \"texas aandm university system\")==1\n",
    "replace unitid=228778 if regexm(Institution, \"university of texas system\")==1\n",
    "replace unitid=230764 if regexm(Institution, \"university of utah\")==1 & unitid==.\n",
    "*university of washington is missing 2011 and 2012 unitid==236948\n",
    "*university of wisconsin foundation is missing 2010-2012\n",
    "** add caltech data from CAE or linear imputation for 2010\n",
    "** add Berkeley data from CAE\n",
    "** add colorado data from CAE\n",
    "}"
   ]
  },
  {
   "cell_type": "code",
   "execution_count": 18,
   "id": "dac821a1-d4bb-455f-a4a1-3549e4f7fcee",
   "metadata": {},
   "outputs": [
    {
     "name": "stdout",
     "output_type": "stream",
     "text": [
      "(4,540 real changes made)\n"
     ]
    }
   ],
   "source": [
    "replace EndowmentFunds=EndowmentFunds * 1000 if year<2009"
   ]
  },
  {
   "cell_type": "code",
   "execution_count": 19,
   "id": "66affed6-bf84-453f-bbc1-73c10a40b904",
   "metadata": {},
   "outputs": [],
   "source": [
    "collapse (sum) EndowmentFunds (first) State Institution, by(unitid year)"
   ]
  },
  {
   "cell_type": "code",
   "execution_count": 20,
   "id": "da4d1e21-bf3d-47bc-9f4d-63d8b62f68ad",
   "metadata": {},
   "outputs": [
    {
     "name": "stdout",
     "output_type": "stream",
     "text": [
      "file d_nacubo_funds_2003_2017.dta saved\n"
     ]
    }
   ],
   "source": [
    "save d_nacubo_funds_2003_2017, replace"
   ]
  },
  {
   "cell_type": "code",
   "execution_count": null,
   "id": "75fcdeb3-acc3-4dad-b119-8583e1055eb9",
   "metadata": {},
   "outputs": [],
   "source": []
  }
 ],
 "metadata": {
  "kernelspec": {
   "display_name": "Stata",
   "language": "stata",
   "name": "stata"
  },
  "language_info": {
   "codemirror_mode": "stata",
   "file_extension": ".do",
   "mimetype": "text/x-stata",
   "name": "stata",
   "version": "15.1"
  }
 },
 "nbformat": 4,
 "nbformat_minor": 5
}
