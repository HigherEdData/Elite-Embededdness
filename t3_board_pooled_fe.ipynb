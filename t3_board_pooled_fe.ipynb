{
 "cells": [
  {
   "cell_type": "markdown",
   "id": "e1621f20-5a42-45ee-a54c-57814783e2b4",
   "metadata": {},
   "source": [
    "## Table 3: Percent Board Members From Private Equity and Hedge Funds, Admission Rates\n",
    "\n",
    "### From Elite Embeddedness\n",
    "\n",
    "By Charlie Eaton and Albina Gibadullina"
   ]
  },
  {
   "cell_type": "code",
   "execution_count": 1,
   "id": "c70dd22e-972c-47d5-942b-68c14c8fb4d5",
   "metadata": {},
   "outputs": [],
   "source": [
    "use data/d_school_level_elite_embed.dta, clear"
   ]
  },
  {
   "cell_type": "code",
   "execution_count": 2,
   "id": "83161661-2006-435a-8bdd-b6c7de2557f4",
   "metadata": {},
   "outputs": [],
   "source": [
    "qui egen repfirst=rowtotal(ftfirstefwhitt ptfirstefwhitt ftfirstefasiat ptfirstefasiat)\n",
    "qui egen allfirst=rowtotal(ftfirsteftotlt  ptfirsteftotlt)\n",
    "qui gen pctunderfirst= (allfirst-allfirst) / allfirst\n",
    "\n",
    "qui gen endow_assets_c_log=log(endowment_assets / cpi_scalar_2017)\n",
    "qui gen logtotal03_revenue=log(total03_revenue / cpi_scalar_2017)\n",
    "qui gen logfte_count=log(fte_count)\n",
    "\n",
    "qui egen pehedge=rowtotal(pe hedge)\n",
    "qui egen boardcount=rowtotal(pe hedge otherfinance nonfinance)\n",
    "qui gen pctalt= pehedge/boardcount"
   ]
  },
  {
   "cell_type": "code",
   "execution_count": 3,
   "id": "f2319792-f3f4-48c2-9a6a-8dfa1a1e284d",
   "metadata": {},
   "outputs": [],
   "source": [
    "qui est clear\n",
    "\n",
    "qui xtset unitid year\n",
    "\n",
    "quietly eststo: reg pctalt i3.schooltypenum acceptrate, cluster(unitid)\n",
    "\n",
    "quietly eststo: reg pctalt logfte_count pctunderfirst fgrnt_p  ///\n",
    "logtotal03_revenue endow_assets_c_log ///\n",
    "i.year, cluster(unitid)\n",
    "\n",
    "quietly eststo: reg pctalt logfte_count pctunderfirst fgrnt_p  ///\n",
    "logtotal03_revenue endow_assets_c_log ///\n",
    "i3.schooltypenum acceptrate i.year, cluster(unitid)\n",
    "\n",
    "qui eststo: reghdfe pctalt acceptrate 3.schooltypenum#c.acceptrate, absorb(unitid year) cluster(unitid)\n",
    "\n",
    "quietly eststo: reghdfe pctalt logfte_count pctunderfirst fgrnt_p  ///\n",
    "logtotal03_revenue endow_assets_c_log, absorb(unitid year) cluster(unitid)\n",
    "\n",
    "qui eststo: reghdfe pctalt logfte_count  pctunderfirst fgrnt_p  ///\n",
    "logtotal03_revenue endow_assets_c_log ///\n",
    "acceptrate 3.schooltypenum#c.acceptrate, absorb(unitid year) cluster(unitid)"
   ]
  },
  {
   "cell_type": "code",
   "execution_count": 4,
   "id": "74d85e10-6c4c-49ef-b0d3-075e7fe92f8f",
   "metadata": {},
   "outputs": [
    {
     "name": "stdout",
     "output_type": "stream",
     "text": [
      "\n",
      "\n",
      "Table 3: Admissions and Percent Board Members From Private Equity and Hedge Funds\n",
      "\n",
      "\n",
      "--------------------------------------------------------------------------------------------------------------------------\n",
      "                              (1)              (2)              (3)              (4)              (5)              (6)    \n",
      "                     Pooled Cro~l     Pooled Cro~l     Pooled Cro~l     Panel Fixe~s     Panel Fixe~s     Panel Fixe~s    \n",
      "--------------------------------------------------------------------------------------------------------------------------\n",
      "logfte_count                                -0.037 ***        0.026 **                          0.035            0.017    \n",
      "                                           (0.011)          (0.010)                           (0.057)          (0.053)    \n",
      "pctunderfirst                                0.000            0.000                             0.000            0.000    \n",
      "                                               (.)              (.)                               (.)              (.)    \n",
      "FGRNT_P                                     -0.001            0.000                             0.000            0.001 *  \n",
      "                                           (0.001)          (0.001)                           (0.000)          (0.001)    \n",
      "logtotal03_revenue                           0.017            0.004                             0.015 **         0.012 *  \n",
      "                                           (0.013)          (0.010)                           (0.005)          (0.005)    \n",
      "endow_assets_c_log                           0.013 **        -0.001                            -0.003           -0.001    \n",
      "                                           (0.005)          (0.004)                           (0.002)          (0.001)    \n",
      "Acceptance rate            -0.105 ***                        -0.090 **         0.029                             0.013    \n",
      "                          (0.027)                           (0.026)          (0.027)                           (0.027)    \n",
      "private                     0.057 ***                         0.088 ***                                                   \n",
      "                          (0.012)                           (0.017)                                                       \n",
      "private # Acceptan~e                                                          -0.232 **                         -0.244 ***\n",
      "                                                                             (0.071)                           (0.068)    \n",
      "Constant                    0.074 ***       -0.219           -0.297            0.073 ***       -0.554           -0.345    \n",
      "                          (0.017)          (0.234)          (0.215)          (0.012)          (0.571)          (0.531)    \n",
      "--------------------------------------------------------------------------------------------------------------------------\n",
      "R-square                     0.46             0.27             0.50             0.84             0.83             0.85    \n",
      "R-square-within                                                                 0.07             0.02             0.10    \n",
      "Schools                        60               60               60               60               60               60    \n",
      "N                             887              875              875              887              875              875    \n",
      "--------------------------------------------------------------------------------------------------------------------------\n"
     ]
    }
   ],
   "source": [
    "set line 255\n",
    "display \"Table 3: Admissions and Percent Board Members From Private Equity and Hedge Funds\"\n",
    "esttab, type cells(b(star fmt(3)) se(par fmt(3))) stardetach ///\n",
    "label collabels(none) ///\n",
    "order(logfte_count pctunderfirst fgrnt_p logtotal03_revenue endow_assets_c_log acceptrate 3.schooltypenum 3.schooltypenum#c.acceptrate) ///\n",
    "drop(*year) starlevels(^ .1 * .05 ** .01 *** .001) eqlabels(none) ///\n",
    "mlabels(\"Pooled Cross-Sectional\" \"Pooled Cross-Sectional\" \"Pooled Cross-Sectional\" \"Panel Fixed Effects\" \"Panel Fixed Effects\" \"Panel Fixed Effects\") ///\n",
    "stats(r2 r2_within N_clust N, fmt(2 2 0 0) label(R-square R-square-within Schools N)) "
   ]
  },
  {
   "cell_type": "code",
   "execution_count": 5,
   "id": "88ece30b-4fd8-4776-a3cf-26eef8a13828",
   "metadata": {},
   "outputs": [
    {
     "data": {
      "text/html": [
       "\n",
       "Table 3: Percent Board Members From Private Equity and Hedge Funds\n",
       "\n",
       "\n",
       "<table border=\"0\" width=\"*\">\n",
       "<tr><td colspan=13><hr></td></tr>\n",
       "<tr><td>                    </td><td>         (1)</td><td>   </td><td>         (2)</td><td>   </td><td>         (3)</td><td>   </td><td>         (4)</td><td>   </td><td>         (5)</td><td>   </td><td>         (6)</td><td>   </td></tr>\n",
       "<tr><td>                    </td><td>Pooled Cross-Sectional</td><td>   </td><td>Pooled Cross-Sectional</td><td>   </td><td>Pooled Cross-Sectional</td><td>   </td><td>Panel Fixed Effects</td><td>   </td><td>Panel Fixed Effects</td><td>   </td><td>Panel Fixed Effects</td><td>   </td></tr>\n",
       "<tr><td colspan=13><hr></td></tr>\n",
       "<tr><td>logfte_count        </td><td>            </td><td>   </td><td>      -0.037</td><td>***</td><td>       0.026</td><td>** </td><td>            </td><td>   </td><td>       0.035</td><td>   </td><td>       0.017</td><td>   </td></tr>\n",
       "<tr><td>                    </td><td>            </td><td>   </td><td>     (0.011)</td><td>   </td><td>     (0.010)</td><td>   </td><td>            </td><td>   </td><td>     (0.057)</td><td>   </td><td>     (0.053)</td><td>   </td></tr>\n",
       "<tr><td>pctunderfirst       </td><td>            </td><td>   </td><td>       0.000</td><td>   </td><td>       0.000</td><td>   </td><td>            </td><td>   </td><td>       0.000</td><td>   </td><td>       0.000</td><td>   </td></tr>\n",
       "<tr><td>                    </td><td>            </td><td>   </td><td>         (.)</td><td>   </td><td>         (.)</td><td>   </td><td>            </td><td>   </td><td>         (.)</td><td>   </td><td>         (.)</td><td>   </td></tr>\n",
       "<tr><td>FGRNT_P             </td><td>            </td><td>   </td><td>      -0.001</td><td>   </td><td>       0.000</td><td>   </td><td>            </td><td>   </td><td>       0.000</td><td>   </td><td>       0.001</td><td>*  </td></tr>\n",
       "<tr><td>                    </td><td>            </td><td>   </td><td>     (0.001)</td><td>   </td><td>     (0.001)</td><td>   </td><td>            </td><td>   </td><td>     (0.000)</td><td>   </td><td>     (0.001)</td><td>   </td></tr>\n",
       "<tr><td>logtotal03_revenue  </td><td>            </td><td>   </td><td>       0.017</td><td>   </td><td>       0.004</td><td>   </td><td>            </td><td>   </td><td>       0.015</td><td>** </td><td>       0.012</td><td>*  </td></tr>\n",
       "<tr><td>                    </td><td>            </td><td>   </td><td>     (0.013)</td><td>   </td><td>     (0.010)</td><td>   </td><td>            </td><td>   </td><td>     (0.005)</td><td>   </td><td>     (0.005)</td><td>   </td></tr>\n",
       "<tr><td>endow_assets_c_log  </td><td>            </td><td>   </td><td>       0.013</td><td>** </td><td>      -0.001</td><td>   </td><td>            </td><td>   </td><td>      -0.003</td><td>   </td><td>      -0.001</td><td>   </td></tr>\n",
       "<tr><td>                    </td><td>            </td><td>   </td><td>     (0.005)</td><td>   </td><td>     (0.004)</td><td>   </td><td>            </td><td>   </td><td>     (0.002)</td><td>   </td><td>     (0.001)</td><td>   </td></tr>\n",
       "<tr><td>Acceptance rate     </td><td>      -0.105</td><td>***</td><td>            </td><td>   </td><td>      -0.090</td><td>** </td><td>       0.029</td><td>   </td><td>            </td><td>   </td><td>       0.013</td><td>   </td></tr>\n",
       "<tr><td>                    </td><td>     (0.027)</td><td>   </td><td>            </td><td>   </td><td>     (0.026)</td><td>   </td><td>     (0.027)</td><td>   </td><td>            </td><td>   </td><td>     (0.027)</td><td>   </td></tr>\n",
       "<tr><td>private             </td><td>       0.057</td><td>***</td><td>            </td><td>   </td><td>       0.088</td><td>***</td><td>            </td><td>   </td><td>            </td><td>   </td><td>            </td><td>   </td></tr>\n",
       "<tr><td>                    </td><td>     (0.012)</td><td>   </td><td>            </td><td>   </td><td>     (0.017)</td><td>   </td><td>            </td><td>   </td><td>            </td><td>   </td><td>            </td><td>   </td></tr>\n",
       "<tr><td>private # Acceptance rate</td><td>            </td><td>   </td><td>            </td><td>   </td><td>            </td><td>   </td><td>      -0.232</td><td>** </td><td>            </td><td>   </td><td>      -0.244</td><td>***</td></tr>\n",
       "<tr><td>                    </td><td>            </td><td>   </td><td>            </td><td>   </td><td>            </td><td>   </td><td>     (0.071)</td><td>   </td><td>            </td><td>   </td><td>     (0.068)</td><td>   </td></tr>\n",
       "<tr><td>Constant            </td><td>       0.074</td><td>***</td><td>      -0.219</td><td>   </td><td>      -0.297</td><td>   </td><td>       0.073</td><td>***</td><td>      -0.554</td><td>   </td><td>      -0.345</td><td>   </td></tr>\n",
       "<tr><td>                    </td><td>     (0.017)</td><td>   </td><td>     (0.234)</td><td>   </td><td>     (0.215)</td><td>   </td><td>     (0.012)</td><td>   </td><td>     (0.571)</td><td>   </td><td>     (0.531)</td><td>   </td></tr>\n",
       "<tr><td colspan=13><hr></td></tr>\n",
       "<tr><td>R-square            </td><td>        0.46</td><td>   </td><td>        0.27</td><td>   </td><td>        0.50</td><td>   </td><td>        0.84</td><td>   </td><td>        0.83</td><td>   </td><td>        0.85</td><td>   </td></tr>\n",
       "<tr><td>R-square-within     </td><td>            </td><td>   </td><td>            </td><td>   </td><td>            </td><td>   </td><td>        0.07</td><td>   </td><td>        0.02</td><td>   </td><td>        0.10</td><td>   </td></tr>\n",
       "<tr><td>Schools             </td><td>          60</td><td>   </td><td>          60</td><td>   </td><td>          60</td><td>   </td><td>          60</td><td>   </td><td>          60</td><td>   </td><td>          60</td><td>   </td></tr>\n",
       "<tr><td>N                   </td><td>         887</td><td>   </td><td>         875</td><td>   </td><td>         875</td><td>   </td><td>         887</td><td>   </td><td>         875</td><td>   </td><td>         875</td><td>   </td></tr>\n",
       "<tr><td colspan=13><hr></td></tr>\n",
       "</table>\n",
       "\n"
      ],
      "text/plain": [
       "This front-end or document format cannot display HTML"
      ]
     },
     "metadata": {},
     "output_type": "display_data"
    }
   ],
   "source": [
    "%html\n",
    "display \"Table 3: Percent Board Members From Private Equity and Hedge Funds\"\n",
    "esttab, type cells(b(star fmt(3)) se(par fmt(3))) stardetach ///\n",
    "label collabels(none) html ///\n",
    "order(logfte_count pctunderfirst fgrnt_p logtotal03_revenue endow_assets_c_log acceptrate 3.schooltypenum 3.schooltypenum#c.acceptrate) ///\n",
    "drop(*year) starlevels(^ .1 * .05 ** .01 *** .001) eqlabels(none) ///\n",
    "mlabels(\"Pooled Cross-Sectional\" \"Pooled Cross-Sectional\" \"Pooled Cross-Sectional\" \"Panel Fixed Effects\" \"Panel Fixed Effects\" \"Panel Fixed Effects\") ///\n",
    "stats(r2 r2_within N_clust N, fmt(2 2 0 0) label(R-square R-square-within Schools N)) "
   ]
  },
  {
   "cell_type": "code",
   "execution_count": 24,
   "id": "f400b37a-6649-4261-8fd9-83dc9cca9838",
   "metadata": {},
   "outputs": [
    {
     "name": "stdout",
     "output_type": "stream",
     "text": [
      "\n",
      "Table 3: Admissions and Percent Board Members From Private Equity and Hedge Funds\n",
      "\n",
      "\n",
      "--------------------------------------------------------------------------------------------------------------------------\n",
      "                              (1)              (2)              (3)              (4)              (5)              (6)    \n",
      "                     Pooled Cro~l     Pooled Cro~l     Pooled Cro~l     Panel Fixe~s     Panel Fixe~s     Panel Fixe~s    \n",
      "--------------------------------------------------------------------------------------------------------------------------\n",
      "total enrollment (~)                        -3.945 ***        1.652                             3.500            1.472    \n",
      "                                           (0.837)          (1.078)                           (4.993)          (4.618)    \n",
      "% underrepresented~c                        37.706 ***        6.527                             0.255           -1.508    \n",
      "                                           (6.548)          (6.962)                           (4.100)          (3.837)    \n",
      "% Pell recipients                           -0.262 **        -0.021                             0.008            0.081    \n",
      "                                           (0.088)          (0.053)                           (0.044)          (0.049)    \n",
      "log total revenue                            1.674 ^          0.079                             1.284 *          1.033 *  \n",
      "                                           (0.938)          (0.868)                           (0.499)          (0.475)    \n",
      "log endowment value                          0.164            0.034                            -0.416           -0.150    \n",
      "                                           (0.182)          (0.062)                           (0.524)          (0.675)    \n",
      "Admissions rate            -0.121 ***                        -0.096 **         0.026                             0.017    \n",
      "                          (0.028)                           (0.032)          (0.029)                           (0.030)    \n",
      "private                     7.445 ***                         9.226 ***                                                   \n",
      "                          (1.340)                           (1.814)                                                       \n",
      "private # Admissio~e                                                          -0.245 ***                        -0.249 ***\n",
      "                                                                             (0.059)                           (0.058)    \n",
      "Constant                    8.699 ***        1.008          -14.870            9.083 ***      -45.866          -24.890    \n",
      "                          (1.832)         (18.706)         (18.596)          (1.138)         (50.613)         (47.823)    \n",
      "--------------------------------------------------------------------------------------------------------------------------\n",
      "R-square                     0.57             0.44             0.59             0.86             0.85             0.86    \n",
      "R-square-within                                                                 0.08             0.02             0.09    \n",
      "Schools                        60               60               60               60               60               60    \n",
      "N                             941              924              924              941              924              924    \n",
      "--------------------------------------------------------------------------------------------------------------------------\n"
     ]
    }
   ],
   "source": [
    "display \"Table 3: Admissions and Percent Board Members From Private Equity and Hedge Funds\"\n",
    "esttab, type cells(b(star fmt(3)) se(par fmt(3))) stardetach ///\n",
    "label collabels(none) ///\n",
    "order(logfte_count pctunderfirst fgrnt_p logtotal03_revenue endow_assets_c_log acceptrate 3.schooltypenum 3.schooltypenum#c.acceptrate) ///\n",
    "drop(*year) starlevels(^ .1 * .05 ** .01 *** .001) eqlabels(none) ///\n",
    "mlabels(\"Pooled Cross-Sectional\" \"Pooled Cross-Sectional\" \"Pooled Cross-Sectional\" \"Panel Fixed Effects\" \"Panel Fixed Effects\" \"Panel Fixed Effects\") ///\n",
    "stats(r2 r2_within N_clust N, fmt(2 2 0 0) label(R-square R-square-within Schools N)) "
   ]
  },
  {
   "cell_type": "code",
   "execution_count": 25,
   "id": "c20c2fad-8f31-4ab4-aff6-1dd80a16e054",
   "metadata": {},
   "outputs": [
    {
     "data": {
      "text/html": [
       "\n",
       "Table 3: Percent Board Members From Private Equity and Hedge Funds\n",
       "\n",
       "\n",
       "<table border=\"0\" width=\"*\">\n",
       "<tr><td colspan=13><hr></td></tr>\n",
       "<tr><td>                    </td><td>         (1)</td><td>   </td><td>         (2)</td><td>   </td><td>         (3)</td><td>   </td><td>         (4)</td><td>   </td><td>         (5)</td><td>   </td><td>         (6)</td><td>   </td></tr>\n",
       "<tr><td>                    </td><td>Pooled Cross-Sectional</td><td>   </td><td>Pooled Cross-Sectional</td><td>   </td><td>Pooled Cross-Sectional</td><td>   </td><td>Panel Fixed Effects</td><td>   </td><td>Panel Fixed Effects</td><td>   </td><td>Panel Fixed Effects</td><td>   </td></tr>\n",
       "<tr><td colspan=13><hr></td></tr>\n",
       "<tr><td>total enrollment (log)</td><td>            </td><td>   </td><td>      -3.945</td><td>***</td><td>       1.652</td><td>   </td><td>            </td><td>   </td><td>       3.500</td><td>   </td><td>       1.472</td><td>   </td></tr>\n",
       "<tr><td>                    </td><td>            </td><td>   </td><td>     (0.837)</td><td>   </td><td>     (1.078)</td><td>   </td><td>            </td><td>   </td><td>     (4.993)</td><td>   </td><td>     (4.618)</td><td>   </td></tr>\n",
       "<tr><td>% underrepresented students of color</td><td>            </td><td>   </td><td>      37.706</td><td>***</td><td>       6.527</td><td>   </td><td>            </td><td>   </td><td>       0.255</td><td>   </td><td>      -1.508</td><td>   </td></tr>\n",
       "<tr><td>                    </td><td>            </td><td>   </td><td>     (6.548)</td><td>   </td><td>     (6.962)</td><td>   </td><td>            </td><td>   </td><td>     (4.100)</td><td>   </td><td>     (3.837)</td><td>   </td></tr>\n",
       "<tr><td>% Pell recipients   </td><td>            </td><td>   </td><td>      -0.262</td><td>** </td><td>      -0.021</td><td>   </td><td>            </td><td>   </td><td>       0.008</td><td>   </td><td>       0.081</td><td>   </td></tr>\n",
       "<tr><td>                    </td><td>            </td><td>   </td><td>     (0.088)</td><td>   </td><td>     (0.053)</td><td>   </td><td>            </td><td>   </td><td>     (0.044)</td><td>   </td><td>     (0.049)</td><td>   </td></tr>\n",
       "<tr><td>log total revenue   </td><td>            </td><td>   </td><td>       1.674</td><td>^  </td><td>       0.079</td><td>   </td><td>            </td><td>   </td><td>       1.284</td><td>*  </td><td>       1.033</td><td>*  </td></tr>\n",
       "<tr><td>                    </td><td>            </td><td>   </td><td>     (0.938)</td><td>   </td><td>     (0.868)</td><td>   </td><td>            </td><td>   </td><td>     (0.499)</td><td>   </td><td>     (0.475)</td><td>   </td></tr>\n",
       "<tr><td>log endowment value </td><td>            </td><td>   </td><td>       0.164</td><td>   </td><td>       0.034</td><td>   </td><td>            </td><td>   </td><td>      -0.416</td><td>   </td><td>      -0.150</td><td>   </td></tr>\n",
       "<tr><td>                    </td><td>            </td><td>   </td><td>     (0.182)</td><td>   </td><td>     (0.062)</td><td>   </td><td>            </td><td>   </td><td>     (0.524)</td><td>   </td><td>     (0.675)</td><td>   </td></tr>\n",
       "<tr><td>Admissions rate     </td><td>      -0.121</td><td>***</td><td>            </td><td>   </td><td>      -0.096</td><td>** </td><td>       0.026</td><td>   </td><td>            </td><td>   </td><td>       0.017</td><td>   </td></tr>\n",
       "<tr><td>                    </td><td>     (0.028)</td><td>   </td><td>            </td><td>   </td><td>     (0.032)</td><td>   </td><td>     (0.029)</td><td>   </td><td>            </td><td>   </td><td>     (0.030)</td><td>   </td></tr>\n",
       "<tr><td>private             </td><td>       7.445</td><td>***</td><td>            </td><td>   </td><td>       9.226</td><td>***</td><td>            </td><td>   </td><td>            </td><td>   </td><td>            </td><td>   </td></tr>\n",
       "<tr><td>                    </td><td>     (1.340)</td><td>   </td><td>            </td><td>   </td><td>     (1.814)</td><td>   </td><td>            </td><td>   </td><td>            </td><td>   </td><td>            </td><td>   </td></tr>\n",
       "<tr><td>private # Admissions rate</td><td>            </td><td>   </td><td>            </td><td>   </td><td>            </td><td>   </td><td>      -0.245</td><td>***</td><td>            </td><td>   </td><td>      -0.249</td><td>***</td></tr>\n",
       "<tr><td>                    </td><td>            </td><td>   </td><td>            </td><td>   </td><td>            </td><td>   </td><td>     (0.059)</td><td>   </td><td>            </td><td>   </td><td>     (0.058)</td><td>   </td></tr>\n",
       "<tr><td>Constant            </td><td>       8.699</td><td>***</td><td>       1.008</td><td>   </td><td>     -14.870</td><td>   </td><td>       9.083</td><td>***</td><td>     -45.866</td><td>   </td><td>     -24.890</td><td>   </td></tr>\n",
       "<tr><td>                    </td><td>     (1.832)</td><td>   </td><td>    (18.706)</td><td>   </td><td>    (18.596)</td><td>   </td><td>     (1.138)</td><td>   </td><td>    (50.613)</td><td>   </td><td>    (47.823)</td><td>   </td></tr>\n",
       "<tr><td colspan=13><hr></td></tr>\n",
       "<tr><td>R-square            </td><td>        0.57</td><td>   </td><td>        0.44</td><td>   </td><td>        0.59</td><td>   </td><td>        0.86</td><td>   </td><td>        0.85</td><td>   </td><td>        0.86</td><td>   </td></tr>\n",
       "<tr><td>R-square-within     </td><td>            </td><td>   </td><td>            </td><td>   </td><td>            </td><td>   </td><td>        0.08</td><td>   </td><td>        0.02</td><td>   </td><td>        0.09</td><td>   </td></tr>\n",
       "<tr><td>Schools             </td><td>          60</td><td>   </td><td>          60</td><td>   </td><td>          60</td><td>   </td><td>          60</td><td>   </td><td>          60</td><td>   </td><td>          60</td><td>   </td></tr>\n",
       "<tr><td>N                   </td><td>         941</td><td>   </td><td>         924</td><td>   </td><td>         924</td><td>   </td><td>         941</td><td>   </td><td>         924</td><td>   </td><td>         924</td><td>   </td></tr>\n",
       "<tr><td colspan=13><hr></td></tr>\n",
       "</table>\n",
       "\n"
      ],
      "text/plain": [
       "This front-end or document format cannot display HTML"
      ]
     },
     "metadata": {},
     "output_type": "display_data"
    }
   ],
   "source": []
  },
  {
   "cell_type": "code",
   "execution_count": null,
   "id": "86e50076-4f7e-4bef-b443-365918d20f50",
   "metadata": {},
   "outputs": [],
   "source": []
  }
 ],
 "metadata": {
  "kernelspec": {
   "display_name": "Stata",
   "language": "stata",
   "name": "stata"
  },
  "language_info": {
   "codemirror_mode": "stata",
   "file_extension": ".do",
   "mimetype": "text/x-stata",
   "name": "stata",
   "version": "15.1"
  }
 },
 "nbformat": 4,
 "nbformat_minor": 5
}
