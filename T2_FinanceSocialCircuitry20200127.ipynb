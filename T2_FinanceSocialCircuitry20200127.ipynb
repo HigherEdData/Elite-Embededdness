{
 "cells": [
  {
   "cell_type": "code",
   "execution_count": 67,
   "metadata": {},
   "outputs": [
    {
     "name": "stdout",
     "output_type": "stream",
     "text": [
      "\n",
      "/Users/Charlie/Dropbox/Bankers in the Ivory Tower Book/2 Our New Financial Oliga\n",
      "> rchy/Data/Boards 2000 to 2017\n",
      "\n",
      "\n",
      "\n",
      "\n",
      "\n",
      "\n",
      "\n",
      "\n",
      "\n",
      "\n",
      "\n",
      "\n",
      "(400 real changes made, 400 to missing)\n",
      "\n",
      "\n",
      "(8 real changes made)\n",
      "\n",
      "\n",
      "(149 real changes made)\n",
      "\n",
      "\n",
      "(171 real changes made)\n",
      "\n",
      "\n",
      "(370 real changes made)\n"
     ]
    }
   ],
   "source": [
    "cd \"/Users/Charlie/Dropbox/Bankers in the Ivory Tower Book/2 Our New Financial Oligarchy/Data/Boards 2000 to 2017\"\n",
    "set more off\n",
    "use id firstname lastname boardtop30private boardtop30public pehedge otherfin technology worth inherited collegeschooltype mbaschooltype year using forbes400_alum_board_1989_2003_2017, clear\n",
    "label var boardtop30private \"held seat on top 30 private university board\"\n",
    "label var pehedge \"private equity or hedge fund partner\"\n",
    "label var otherfin \"partner or owner of other financial enterprise\"\n",
    "label var technology \"partner or owner in technology firm, but not financial enterprises\"\n",
    "label var worth \"net worth\"\n",
    "label var inherited \"in Forbes inherited wealth category\"\n",
    "label var year \"year of observation\"\n",
    "label var id \"person-level unique ID\"\n",
    "label var collegeschooltype \"BA school status\"\n",
    "replace boardtop30public=. if year==1989\n",
    "\n",
    "gen toppublicmba=0\n",
    "replace toppublicmba=1 if mbaschooltype==2\n",
    "gen topprivatemba=0\n",
    "replace topprivatemba=1 if mbaschooltype==3\n",
    "gen toppublicba=0\n",
    "replace toppublicba=1 if collegeschooltype==2\n",
    "gen topprivateba=0\n",
    "replace topprivateba=1 if collegeschooltype==3"
   ]
  },
  {
   "cell_type": "code",
   "execution_count": 72,
   "metadata": {},
   "outputs": [
    {
     "name": "stdout",
     "output_type": "stream",
     "text": [
      "\n",
      "mbaschoolty |\n",
      "         pe |      Freq.     Percent        Cum.\n",
      "------------+-----------------------------------\n",
      "          4 |          7      100.00      100.00\n",
      "------------+-----------------------------------\n",
      "      Total |          7      100.00\n"
     ]
    }
   ],
   "source": [
    "tab mbaschooltype if boardtop30public==1"
   ]
  },
  {
   "cell_type": "code",
   "execution_count": 36,
   "metadata": {},
   "outputs": [
    {
     "name": "stdout",
     "output_type": "stream",
     "text": [
      "\n",
      "\n",
      "    Variable |        Obs        Mean    Std. Dev.       Min        Max\n",
      "-------------+---------------------------------------------------------\n",
      "boardtop30~e |        245    .1061224    .3086248          0          1\n",
      "\n",
      "\n",
      "    Variable |        Obs        Mean    Std. Dev.       Min        Max\n",
      "-------------+---------------------------------------------------------\n",
      "boardtop30~e |         65    .2923077    .4583625          0          1\n",
      "\n",
      "\n",
      "    Variable |        Obs        Mean    Std. Dev.       Min        Max\n",
      "-------------+---------------------------------------------------------\n",
      "boardtop30~e |         35          .2    .4058397          0          1\n",
      "\n",
      "\n",
      "    Variable |        Obs        Mean    Std. Dev.       Min        Max\n",
      "-------------+---------------------------------------------------------\n",
      "boardtop30~e |         55    .1272727      .33635          0          1\n"
     ]
    }
   ],
   "source": [
    "sum boardtop30private if pehedge!=1 & otherfin!=1 & technology!=1 & year==2017\n",
    "sum boardtop30private if pehedge==1 & year==2017\n",
    "sum boardtop30private if otherfin==1 & year==2017\n",
    "sum boardtop30private if technology==1 & year==2017"
   ]
  },
  {
   "cell_type": "code",
   "execution_count": 70,
   "metadata": {},
   "outputs": [
    {
     "name": "stdout",
     "output_type": "stream",
     "text": [
      "\n",
      "\n",
      "\n",
      "\n",
      "Logistic regression                             Number of obs     =        800\n",
      "                                                Wald chi2(9)      =      49.00\n",
      "                                                Prob > chi2       =     0.0000\n",
      "Log pseudolikelihood = -293.87638               Pseudo R2         =     0.1078\n",
      "\n",
      "                                    (Std. Err. adjusted for 657 clusters in id)\n",
      "-------------------------------------------------------------------------------\n",
      "              |               Robust\n",
      "boardtop30p~e | Odds Ratio   Std. Err.      z    P>|z|     [95% Conf. Interval]\n",
      "--------------+----------------------------------------------------------------\n",
      "      pehedge |   1.659344   .5527199     1.52   0.128     .8637835    3.187629\n",
      "     otherfin |   1.352793   .5815327     0.70   0.482     .5825327    3.141536\n",
      "   technology |   1.096518   .4752172     0.21   0.832     .4689381    2.563987\n",
      "        worth |    .989455   .0138553    -0.76   0.449     .9626684    1.016987\n",
      "    inherited |   .7186985    .150044    -1.58   0.114     .4773533    1.082066\n",
      "  toppublicba |   1.587133   .7017379     1.04   0.296     .6672083    3.775419\n",
      " topprivateba |   3.347046   .9931752     4.07   0.000      1.87104    5.987428\n",
      " toppublicmba |   1.650887   1.692971     0.49   0.625     .2212164    12.32019\n",
      "topprivatemba |   2.811709   .8739577     3.33   0.001     1.528949    5.170679\n",
      "        _cons |   .0776403   .0202254    -9.81   0.000      .046596    .1293678\n",
      "-------------------------------------------------------------------------------\n",
      "Note: _cons estimates baseline odds.\n",
      "(est2 stored)\n",
      "\n",
      "\n",
      "Logistic regression                             Number of obs     =        800\n",
      "                                                Wald chi2(5)      =      10.89\n",
      "                                                Prob > chi2       =     0.0537\n",
      "Log pseudolikelihood = -38.597362               Pseudo R2         =     0.0384\n",
      "\n",
      "                                    (Std. Err. adjusted for 657 clusters in id)\n",
      "-------------------------------------------------------------------------------\n",
      "              |               Robust\n",
      "boardtop30p~c | Odds Ratio   Std. Err.      z    P>|z|     [95% Conf. Interval]\n",
      "--------------+----------------------------------------------------------------\n",
      "   technology |   1.346313   1.597776     0.25   0.802     .1315099    13.78269\n",
      "        worth |   .8422575   .0793425    -1.82   0.068     .7002609    1.013048\n",
      "    inherited |   1.268206   .8859098     0.34   0.734     .3225376    4.986543\n",
      "  toppublicba |   1.764773    1.73336     0.58   0.563     .2574178     12.0987\n",
      " topprivateba |   .4246992   .5127019    -0.71   0.478     .0398566    4.525454\n",
      "        _cons |   .0143438   .0100956    -6.03   0.000     .0036105    .0569855\n",
      "-------------------------------------------------------------------------------\n",
      "Note: _cons estimates baseline odds.\n",
      "Note: 2 failures and 0 successes completely determined.\n",
      "(est3 stored)\n"
     ]
    }
   ],
   "source": [
    "est clear\n",
    "\n",
    "quietly eststo: logistic boardtop30private pehedge otherfin technology worth inherited ///\n",
    "if year>2000, ro cluster(id) \n",
    "\n",
    " eststo: logistic boardtop30private pehedge otherfin technology worth inherited ///\n",
    "toppublicba topprivateba toppublicmba topprivatemba if year>2000, ro cluster(id)\n",
    "\n",
    " eststo: logistic boardtop30public technology worth inherited ///\n",
    "toppublicba topprivateba if year>2000, ro cluster(id) "
   ]
  },
  {
   "cell_type": "code",
   "execution_count": 71,
   "metadata": {},
   "outputs": [
    {
     "data": {
      "text/html": [
       "\n",
       "<table border=\"0\" width=\"*\">\n",
       "<caption>Table 2: Odds ratios for university board membership among Forbes 400</caption>\n",
       "<tr><td colspan=7><hr></td></tr>\n",
       "<tr><td>            </td><td>         (1)</td><td>   </td><td>         (2)</td><td>   </td><td>         (3)</td><td>   </td></tr>\n",
       "<tr><td>            </td><td>Top 30 Private</td><td>   </td><td>Top 30 Private</td><td>   </td><td>Top 30 Public</td><td>   </td></tr>\n",
       "<tr><td colspan=7><hr></td></tr>\n",
       "<tr><td>private equity / hedge fund</td><td>        3.11</td><td>***</td><td>        1.66</td><td>   </td><td>            </td><td>   </td></tr>\n",
       "<tr><td>            </td><td>      (0.98)</td><td>   </td><td>      (0.55)</td><td>   </td><td>            </td><td>   </td></tr>\n",
       "<tr><td>other finance</td><td>        1.65</td><td>   </td><td>        1.35</td><td>   </td><td>            </td><td>   </td></tr>\n",
       "<tr><td>            </td><td>      (0.69)</td><td>   </td><td>      (0.58)</td><td>   </td><td>            </td><td>   </td></tr>\n",
       "<tr><td>technology  </td><td>        1.24</td><td>   </td><td>        1.10</td><td>   </td><td>        1.35</td><td>   </td></tr>\n",
       "<tr><td>            </td><td>      (0.52)</td><td>   </td><td>      (0.48)</td><td>   </td><td>      (1.60)</td><td>   </td></tr>\n",
       "<tr><td>inherited wealth</td><td>        0.67</td><td>*  </td><td>        0.72</td><td>   </td><td>        1.27</td><td>   </td></tr>\n",
       "<tr><td>            </td><td>      (0.13)</td><td>   </td><td>      (0.15)</td><td>   </td><td>      (0.89)</td><td>   </td></tr>\n",
       "<tr><td>worth in billions (2017 $)</td><td>        0.99</td><td>   </td><td>        0.99</td><td>   </td><td>        0.84</td><td>^  </td></tr>\n",
       "<tr><td>            </td><td>      (0.01)</td><td>   </td><td>      (0.01)</td><td>   </td><td>      (0.08)</td><td>   </td></tr>\n",
       "<tr><td>2.collegeschooltype</td><td>            </td><td>   </td><td>        1.59</td><td>   </td><td>        1.76</td><td>   </td></tr>\n",
       "<tr><td>            </td><td>            </td><td>   </td><td>      (0.70)</td><td>   </td><td>      (1.73)</td><td>   </td></tr>\n",
       "<tr><td>topprivateba</td><td>            </td><td>   </td><td>        3.35</td><td>***</td><td>        0.42</td><td>   </td></tr>\n",
       "<tr><td>            </td><td>            </td><td>   </td><td>      (0.99)</td><td>   </td><td>      (0.51)</td><td>   </td></tr>\n",
       "<tr><td>toppublicmba</td><td>            </td><td>   </td><td>        1.65</td><td>   </td><td>            </td><td>   </td></tr>\n",
       "<tr><td>            </td><td>            </td><td>   </td><td>      (1.69)</td><td>   </td><td>            </td><td>   </td></tr>\n",
       "<tr><td>topprivatemba</td><td>            </td><td>   </td><td>        2.81</td><td>***</td><td>            </td><td>   </td></tr>\n",
       "<tr><td>            </td><td>            </td><td>   </td><td>      (0.87)</td><td>   </td><td>            </td><td>   </td></tr>\n",
       "<tr><td colspan=7><hr></td></tr>\n",
       "<tr><td><i>N</i>    </td><td>         800</td><td>   </td><td>         800</td><td>   </td><td>         800</td><td>   </td></tr>\n",
       "<tr><td colspan=7><hr></td></tr>\n",
       "<tr><td colspan=7>\n",
       "Exponentiated coefficients\n",
       "<br />^ p<.1, * p<.05, ** p<.01, *** p<.001\n",
       "</td></tr>\n",
       "</table>\n",
       "\n"
      ],
      "text/plain": [
       "This front-end or document format cannot display HTML"
      ]
     },
     "metadata": {},
     "output_type": "display_data"
    }
   ],
   "source": [
    "%html\n",
    "\n",
    "esttab ///\n",
    ", eform cells(b(star fmt(2)) se(fmt(2) par)) stardetach  ///\n",
    "\tlegend starlevels(^ .1 * .05 ** .01 *** .001) ///\n",
    "    keep ( worth inherited technology pehedge otherfin ///\n",
    "toppublicba topprivateba toppublicmba topprivatemba) ///\n",
    "\torder ( pehedge otherfin technology inherited worth  ///\n",
    "toppublicba topprivateba toppublicmba topprivatemba) ///\n",
    "coeflabels(finance \"finance\" pehedge \"private equity / hedge fund\" otherfin \"other finance\" ///\n",
    "tech \"technology\" worth \"worth in billions (2017 $)\" inherited \"inherited wealth\" ///\n",
    "toppublicba 2.collegeschooltype \"Top 30 public BA\" topprivateba \"Top 30 private BA\" ///) replace\n",
    "toppublicmba \"Top 30 public MBA\" topprivatemba \"Top 30 private MBA\") ///\n",
    "replace br  nocon html collabels(none) ///\n",
    "mlabels(\"Top 30 Private\" \"Top 30 Private\" \"Top 30 Public\") ///\n",
    "title(Table 2: Odds ratios for university board membership among Forbes 400) eqlabels(none)"
   ]
  },
  {
   "cell_type": "code",
   "execution_count": 11,
   "metadata": {},
   "outputs": [
    {
     "name": "stdout",
     "output_type": "stream",
     "text": [
      "(output written to T3_circuitry_Forbes_board20200128.rtf)\n"
     ]
    }
   ],
   "source": [
    "esttab using T3_circuitry_Forbes_board20200128.rtf  ///\n",
    ", eform cells(b(star fmt(2)) se(fmt(2) par)) stardetach  ///\n",
    "\tlegend starlevels(^ .1 * .05 ** .01 *** .001) ///\n",
    "    keep ( worth inherited technology pehedge otherfin ///\n",
    "2.collegeschooltype 3.collegeschooltype 2.mbaschooltype ///\n",
    "3.mbaschooltype) ///\n",
    "\torder ( pehedge otherfin technology inherited worth  ///\n",
    "2.collegeschooltype 3.collegeschooltype ///\n",
    "2.mbaschooltype 3.mbaschooltype) ///\n",
    "coeflabels(finance \"finance\" pehedge \"private equity / hedge fund\" otherfin \"other finance\" ///\n",
    "tech \"technology\" worth \"worth in billions (2017 $)\" inherited \"inherited wealth\" ///\n",
    "1.collegeschooltype \"Non-top 60 BA\" 2.collegeschooltype \"Top 30 public BA\" 3.collegeschooltype \"Top 30 private BA\" ///) replace\n",
    "2.mbaschooltype \"Top 30 public MBA\" 3.mbaschooltype \"Top 30 private MBA\") ///\n",
    "replace br  nocon html collabels(none) ///\n",
    "mlabels(\"Top 30 Private\" \"Top 30 Private\" \"Top 30 Public\") ///\n",
    "title(Table 2: Odds ratios for university board membership among Forbes 400) eqlabels(none)"
   ]
  },
  {
   "cell_type": "code",
   "execution_count": null,
   "metadata": {},
   "outputs": [],
   "source": []
  }
 ],
 "metadata": {
  "kernelspec": {
   "display_name": "Stata",
   "language": "stata",
   "name": "stata"
  },
  "language_info": {
   "codemirror_mode": "stata",
   "file_extension": ".do",
   "mimetype": "text/x-stata",
   "name": "stata",
   "version": "15.1"
  }
 },
 "nbformat": 4,
 "nbformat_minor": 4
}
