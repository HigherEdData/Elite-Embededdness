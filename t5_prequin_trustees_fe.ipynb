{
 "cells": [
  {
   "cell_type": "markdown",
   "metadata": {},
   "source": [
    "## Table 5: Private Equity Benchmark Net Investment Rate of Returns\n",
    "\n",
    "### From Elite Embeddedness\n",
    "\n",
    "By Charlie Eaton and Albina Gibadullina"
   ]
  },
  {
   "cell_type": "code",
   "execution_count": 1,
   "metadata": {},
   "outputs": [],
   "source": [
    "use data/d_prequin_trustee_ties, clear"
   ]
  },
  {
   "cell_type": "code",
   "execution_count": 2,
   "metadata": {},
   "outputs": [],
   "source": [
    "collapse (first) schoolname private public firmname_new eigenvector betweenness strength (mean) benchnetirr [aweight=fundvaluemnusd], by(firmid year)"
   ]
  },
  {
   "cell_type": "code",
   "execution_count": 3,
   "metadata": {},
   "outputs": [],
   "source": [
    "label var private \"top 30 private trustees\"\n",
    "\n",
    "label var public \"top 30 public trustees\"\n",
    "\n",
    "label var eigenvector \"Trustee network eigenvector\""
   ]
  },
  {
   "cell_type": "code",
   "execution_count": 4,
   "metadata": {},
   "outputs": [],
   "source": [
    "set line 255\n",
    "est clear\n",
    "qui xtset firmid year\n",
    "\n",
    "qui eststo: reghdfe benchnetirr eigenvector i.year, absorb(firmid) cluster(firmid)\n",
    "\n",
    "qui eststo: reghdfe benchnetirr private public i.year, absorb(firmid) cluster(firmid)\n",
    "\n",
    "qui eststo: reghdfe benchnetirr eigenvector private public i.year, absorb(firmid) cluster(firmid)\n",
    "\n",
    "qui eststo: reghdfe benchnetirr eigenvector i.year if year>2009, absorb(firmid) cluster(firmid)\n",
    "\n",
    "qui eststo: reghdfe benchnetirr private public i.year if year>2009, absorb(firmid) cluster(firmid)\n",
    "\n",
    "qui eststo: reghdfe benchnetirr eigenvector private public i.year if year>2009, absorb(firmid) cluster(firmid)"
   ]
  },
  {
   "cell_type": "code",
   "execution_count": 5,
   "metadata": {},
   "outputs": [
    {
     "data": {
      "text/html": [
       "\n",
       "Table 5: Private Equity Benchmark Net Investment Rate of Returns and Trustee Network Ties\n",
       "\n",
       "\n",
       "<table border=\"0\" width=\"*\">\n",
       "<tr><td colspan=13><hr></td></tr>\n",
       "<tr><td>                    </td><td>         (1)</td><td>   </td><td>         (2)</td><td>   </td><td>         (3)</td><td>   </td><td>         (4)</td><td>   </td><td>         (5)</td><td>   </td><td>         (6)</td><td>   </td></tr>\n",
       "<tr><td>                    </td><td>   2003-2017</td><td>   </td><td>   2003-2017</td><td>   </td><td>   2003-2017</td><td>   </td><td>   2010-2017</td><td>   </td><td>   2010-2017</td><td>   </td><td>   2010-2017</td><td>   </td></tr>\n",
       "<tr><td colspan=13><hr></td></tr>\n",
       "<tr><td>Trustee network eigenvector</td><td>       6.835</td><td>***</td><td>            </td><td>   </td><td>       4.077</td><td>^  </td><td>      10.052</td><td>***</td><td>            </td><td>   </td><td>       8.329</td><td>*  </td></tr>\n",
       "<tr><td>                    </td><td>     (1.780)</td><td>   </td><td>            </td><td>   </td><td>     (2.352)</td><td>   </td><td>     (2.930)</td><td>   </td><td>            </td><td>   </td><td>     (3.756)</td><td>   </td></tr>\n",
       "<tr><td>top 30 private trustees</td><td>            </td><td>   </td><td>       1.624</td><td>** </td><td>       1.274</td><td>^  </td><td>            </td><td>   </td><td>       1.767</td><td>^  </td><td>       1.192</td><td>   </td></tr>\n",
       "<tr><td>                    </td><td>            </td><td>   </td><td>     (0.574)</td><td>   </td><td>     (0.661)</td><td>   </td><td>            </td><td>   </td><td>     (1.002)</td><td>   </td><td>     (1.087)</td><td>   </td></tr>\n",
       "<tr><td>top 30 public trustees</td><td>            </td><td>   </td><td>       2.711</td><td>   </td><td>       2.751</td><td>   </td><td>            </td><td>   </td><td>       1.608</td><td>   </td><td>       1.597</td><td>   </td></tr>\n",
       "<tr><td>                    </td><td>            </td><td>   </td><td>     (1.729)</td><td>   </td><td>     (1.728)</td><td>   </td><td>            </td><td>   </td><td>     (1.502)</td><td>   </td><td>     (1.491)</td><td>   </td></tr>\n",
       "<tr><td colspan=13><hr></td></tr>\n",
       "<tr><td>R-square            </td><td>       0.614</td><td>   </td><td>       0.614</td><td>   </td><td>       0.615</td><td>   </td><td>       0.664</td><td>   </td><td>       0.664</td><td>   </td><td>       0.665</td><td>   </td></tr>\n",
       "<tr><td>N                   </td><td>        4705</td><td>   </td><td>        4705</td><td>   </td><td>        4705</td><td>   </td><td>        2585</td><td>   </td><td>        2585</td><td>   </td><td>        2585</td><td>   </td></tr>\n",
       "<tr><td>Firms               </td><td>        1322</td><td>   </td><td>        1322</td><td>   </td><td>        1322</td><td>   </td><td>         917</td><td>   </td><td>         917</td><td>   </td><td>         917</td><td>   </td></tr>\n",
       "<tr><td colspan=13><hr></td></tr>\n",
       "<tr><td colspan=13>\n",
       "^ p<.1, * p<.05, ** p<.01, *** p<.001\n",
       "</td></tr>\n",
       "</table>\n",
       "\n",
       "Note: All models include year effects and firm fixed effects. Appendix Table A2 shows that pooled cross-sectional estimates at the fund level (rather than firm level) yield equivalent results.\n",
       "\n"
      ],
      "text/plain": [
       "This front-end or document format cannot display HTML"
      ]
     },
     "metadata": {},
     "output_type": "display_data"
    }
   ],
   "source": [
    "%html\n",
    "\n",
    "display \"Table 5: Private Equity Benchmark Net Investment Rate of Returns and Trustee Network Ties\"\n",
    "esttab, type cells(b(star fmt(3)) se(fmt(3) par)) stardetach html ///\n",
    "\t legend label varlabels(_cons Constant) stats(r2 N N_clust, fmt(3 0 0) ///\n",
    "\tlabel(R-square N Firms)) keep(eigenvector private public ) starlevels(^ .1 * .05 ** .01 *** .001) ///\n",
    "collabels(none) mlabels(\"2003-2017\" \"2003-2017\" \"2003-2017\" \"2010-2017\" \"2010-2017\" \"2010-2017\") ///\n",
    "eqlabels(none)\n",
    "\n",
    "display \"Note: All models include year effects and firm fixed effects. Appendix Table A2 shows that pooled cross-sectional \" ///\n",
    "\"estimates at the fund level (rather than firm level) yield equivalent results.\""
   ]
  },
  {
   "cell_type": "code",
   "execution_count": null,
   "metadata": {},
   "outputs": [],
   "source": []
  }
 ],
 "metadata": {
  "kernelspec": {
   "display_name": "Stata",
   "language": "stata",
   "name": "stata"
  },
  "language_info": {
   "codemirror_mode": "stata",
   "file_extension": ".do",
   "mimetype": "text/x-stata",
   "name": "stata",
   "version": "15.1"
  }
 },
 "nbformat": 4,
 "nbformat_minor": 4
}
