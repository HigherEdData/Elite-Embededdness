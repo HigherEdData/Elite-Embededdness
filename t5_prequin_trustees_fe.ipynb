{
 "cells": [
  {
   "cell_type": "markdown",
   "metadata": {},
   "source": [
    "## Table 5: Private Equity Benchmark Net Investment Rate of Returns\n",
    "\n",
    "### From Elite Embeddedness\n",
    "\n",
    "By Charlie Eaton and Albina Gibadullina"
   ]
  },
  {
   "cell_type": "code",
   "execution_count": 1,
   "metadata": {},
   "outputs": [],
   "source": [
    "use data/d_prequin_trustee_ties, clear"
   ]
  },
  {
   "cell_type": "code",
   "execution_count": 2,
   "metadata": {},
   "outputs": [],
   "source": [
    "collapse (first) rejectmax rejectrtmn rejectrtindex schoolname private public firmname_new eigenvector betweenness strength (mean) benchnetirr [aweight=fundvaluemnusd], by(firmid year)"
   ]
  },
  {
   "cell_type": "code",
   "execution_count": 3,
   "metadata": {},
   "outputs": [],
   "source": [
    "label var private \"top 30 private trustees\"\n",
    "\n",
    "label var public \"top 30 public trustees\"\n",
    "\n",
    "label var eigenvector \"Trustee network eigenvector\"\n",
    "\n",
    "label var rejectrtindex \"Elite admissions index\""
   ]
  },
  {
   "cell_type": "code",
   "execution_count": 4,
   "metadata": {},
   "outputs": [],
   "source": [
    "set line 255\n",
    "est clear\n",
    "qui xtset firmid year\n",
    "\n",
    "qui eststo: reghdfe benchnetirr rejectrtindex i.year, absorb(firmid) cluster(firmid)\n",
    "\n",
    "qui eststo: reghdfe benchnetirr eigenvector i.year, absorb(firmid) cluster(firmid)\n",
    "\n",
    "qui eststo: reghdfe benchnetirr private public i.year, absorb(firmid) cluster(firmid)\n",
    "\n",
    "qui eststo: reghdfe benchnetirr rejectrtindex eigenvector private public i.year, absorb(firmid) cluster(firmid)\n",
    "\n",
    "qui eststo: reghdfe benchnetirr rejectrtindex i.year if year>2009, absorb(firmid) cluster(firmid)\n",
    "\n",
    "qui eststo: reghdfe benchnetirr eigenvector i.year if year>2009, absorb(firmid) cluster(firmid)\n",
    "\n",
    "qui eststo: reghdfe benchnetirr private public i.year if year>2009, absorb(firmid) cluster(firmid)\n",
    "\n",
    "qui eststo: reghdfe benchnetirr rejectrtindex eigenvector private public i.year if year>2009, absorb(firmid) cluster(firmid)"
   ]
  },
  {
   "cell_type": "code",
   "execution_count": 5,
   "metadata": {},
   "outputs": [
    {
     "data": {
      "text/html": [
       "\n",
       "Table 5: Private Equity Benchmark Net Investment Rate of Returns and Trustee Network Ties\n",
       "\n",
       "\n",
       "<table border=\"0\" width=\"*\">\n",
       "<tr><td colspan=17><hr></td></tr>\n",
       "<tr><td>                    </td><td>         (1)</td><td>   </td><td>         (2)</td><td>   </td><td>         (3)</td><td>   </td><td>         (4)</td><td>   </td><td>         (5)</td><td>   </td><td>         (6)</td><td>   </td><td>         (7)</td><td>   </td><td>         (8)</td><td>   </td></tr>\n",
       "<tr><td>                    </td><td>   2003-2017</td><td>   </td><td>   2003-2017</td><td>   </td><td>   2003-2017</td><td>   </td><td>   2003-2017</td><td>   </td><td>   2010-2017</td><td>   </td><td>   2010-2017</td><td>   </td><td>   2010-2017</td><td>   </td><td>   2010-2017</td><td>   </td></tr>\n",
       "<tr><td colspan=17><hr></td></tr>\n",
       "<tr><td>Elite admissions index</td><td>       1.450</td><td>***</td><td>            </td><td>   </td><td>            </td><td>   </td><td>       1.063</td><td>^  </td><td>       2.208</td><td>***</td><td>            </td><td>   </td><td>            </td><td>   </td><td>       2.041</td><td>** </td></tr>\n",
       "<tr><td>                    </td><td>     (0.392)</td><td>   </td><td>            </td><td>   </td><td>            </td><td>   </td><td>     (0.592)</td><td>   </td><td>     (0.605)</td><td>   </td><td>            </td><td>   </td><td>            </td><td>   </td><td>     (0.770)</td><td>   </td></tr>\n",
       "<tr><td>Trustee network eigenvector</td><td>            </td><td>   </td><td>       6.835</td><td>***</td><td>            </td><td>   </td><td>       3.582</td><td>   </td><td>            </td><td>   </td><td>      10.052</td><td>***</td><td>            </td><td>   </td><td>       4.704</td><td>   </td></tr>\n",
       "<tr><td>                    </td><td>            </td><td>   </td><td>     (1.780)</td><td>   </td><td>            </td><td>   </td><td>     (2.370)</td><td>   </td><td>            </td><td>   </td><td>     (2.930)</td><td>   </td><td>            </td><td>   </td><td>     (3.752)</td><td>   </td></tr>\n",
       "<tr><td>top 30 private trustees</td><td>            </td><td>   </td><td>            </td><td>   </td><td>       1.624</td><td>** </td><td>       0.297</td><td>   </td><td>            </td><td>   </td><td>            </td><td>   </td><td>       1.767</td><td>^  </td><td>      -0.298</td><td>   </td></tr>\n",
       "<tr><td>                    </td><td>            </td><td>   </td><td>            </td><td>   </td><td>     (0.574)</td><td>   </td><td>     (0.888)</td><td>   </td><td>            </td><td>   </td><td>            </td><td>   </td><td>     (1.002)</td><td>   </td><td>     (1.248)</td><td>   </td></tr>\n",
       "<tr><td>top 30 public trustees</td><td>            </td><td>   </td><td>            </td><td>   </td><td>       2.711</td><td>   </td><td>       2.077</td><td>   </td><td>            </td><td>   </td><td>            </td><td>   </td><td>       1.608</td><td>   </td><td>      -0.221</td><td>   </td></tr>\n",
       "<tr><td>                    </td><td>            </td><td>   </td><td>            </td><td>   </td><td>     (1.729)</td><td>   </td><td>     (1.716)</td><td>   </td><td>            </td><td>   </td><td>            </td><td>   </td><td>     (1.502)</td><td>   </td><td>     (1.801)</td><td>   </td></tr>\n",
       "<tr><td colspan=17><hr></td></tr>\n",
       "<tr><td>R-square            </td><td>       0.615</td><td>   </td><td>       0.614</td><td>   </td><td>       0.614</td><td>   </td><td>       0.615</td><td>   </td><td>       0.666</td><td>   </td><td>       0.664</td><td>   </td><td>       0.664</td><td>   </td><td>       0.666</td><td>   </td></tr>\n",
       "<tr><td>N                   </td><td>        4705</td><td>   </td><td>        4705</td><td>   </td><td>        4705</td><td>   </td><td>        4705</td><td>   </td><td>        2585</td><td>   </td><td>        2585</td><td>   </td><td>        2585</td><td>   </td><td>        2585</td><td>   </td></tr>\n",
       "<tr><td>Firms               </td><td>        1322</td><td>   </td><td>        1322</td><td>   </td><td>        1322</td><td>   </td><td>        1322</td><td>   </td><td>         917</td><td>   </td><td>         917</td><td>   </td><td>         917</td><td>   </td><td>         917</td><td>   </td></tr>\n",
       "<tr><td colspan=17><hr></td></tr>\n",
       "<tr><td colspan=17>\n",
       "^ p<.1, * p<.05, ** p<.01, *** p<.001\n",
       "</td></tr>\n",
       "</table>\n",
       "\n",
       "Note: All models include year effects and firm fixed effects. Appendix Table A2 shows that pooled cross-sectional estimates at the fund level (rather than firm level) yield equivalent results.\n",
       "\n"
      ],
      "text/plain": [
       "This front-end or document format cannot display HTML"
      ]
     },
     "metadata": {},
     "output_type": "display_data"
    }
   ],
   "source": [
    "%html\n",
    "\n",
    "display \"Table 5: Private Equity Benchmark Net Investment Rate of Returns and Trustee Network Ties\"\n",
    "esttab, type cells(b(star fmt(3)) se(fmt(3) par)) stardetach html ///\n",
    "\t legend label varlabels(_cons Constant) stats(r2 N N_clust, fmt(3 0 0) ///\n",
    "\tlabel(R-square N Firms)) keep(rejectrtindex eigenvector private public ) starlevels(^ .1 * .05 ** .01 *** .001) ///\n",
    "collabels(none) mlabels(\"2003-2017\" \"2003-2017\" \"2003-2017\" \"2003-2017\" \"2010-2017\" \"2010-2017\" \"2010-2017\" \"2010-2017\") ///\n",
    "eqlabels(none)\n",
    "\n",
    "display \"Note: All models include year effects and firm fixed effects. Appendix Table A2 shows that pooled cross-sectional \" ///\n",
    "\"estimates at the fund level (rather than firm level) yield equivalent results.\""
   ]
  },
  {
   "cell_type": "code",
   "execution_count": 6,
   "metadata": {},
   "outputs": [],
   "source": [
    "use data/d_prequin_trustee_ties, clear"
   ]
  },
  {
   "cell_type": "code",
   "execution_count": 7,
   "metadata": {},
   "outputs": [],
   "source": [
    "label var private \"top 30 private trustees\"\n",
    "\n",
    "label var public \"top 30 public trustees\"\n",
    "\n",
    "label var eigenvector \"Trustee network eigenvector\"\n",
    "\n",
    "label var rejectrtindex \"Elite admissions index\""
   ]
  },
  {
   "cell_type": "code",
   "execution_count": 8,
   "metadata": {},
   "outputs": [],
   "source": [
    "set line 255\n",
    "est clear\n",
    "\n",
    "qui eststo: reg benchnetirr rejectrtindex i.year, absorb(firmid) cluster(firmid)\n",
    "\n",
    "qui eststo: reg benchnetirr eigenvector i.year, absorb(firmid) cluster(firmid)\n",
    "\n",
    "qui eststo: reg benchnetirr private public i.year, absorb(firmid) cluster(firmid)\n",
    "\n",
    "qui eststo: reg benchnetirr rejectrtindex eigenvector private public i.year,  cluster(firmid)\n",
    "\n",
    "qui eststo: reg benchnetirr rejectrtindex i.year if year>2009,  cluster(firmid)\n",
    "\n",
    "qui eststo: reg benchnetirr eigenvector i.year if year>2009,  cluster(firmid)\n",
    "\n",
    "qui eststo: reg benchnetirr private public i.year if year>2009, cluster(firmid)\n",
    "\n",
    "qui eststo: reg benchnetirr rejectrtindex eigenvector private public i.year if year>2009, cluster(firmid)"
   ]
  },
  {
   "cell_type": "code",
   "execution_count": 9,
   "metadata": {},
   "outputs": [
    {
     "data": {
      "text/html": [
       "\n",
       "Appendix Table A2: Private Equity Benchmark Net Investment Rate of Returns and Trustee Network Ties\n",
       "\n",
       "\n",
       "<table border=\"0\" width=\"*\">\n",
       "<tr><td colspan=17><hr></td></tr>\n",
       "<tr><td>                    </td><td>         (1)</td><td>   </td><td>         (2)</td><td>   </td><td>         (3)</td><td>   </td><td>         (4)</td><td>   </td><td>         (5)</td><td>   </td><td>         (6)</td><td>   </td><td>         (7)</td><td>   </td><td>         (8)</td><td>   </td></tr>\n",
       "<tr><td>                    </td><td>   2003-2017</td><td>   </td><td>   2003-2017</td><td>   </td><td>   2003-2017</td><td>   </td><td>   2003-2017</td><td>   </td><td>   2010-2017</td><td>   </td><td>   2010-2017</td><td>   </td><td>   2010-2017</td><td>   </td><td>   2010-2017</td><td>   </td></tr>\n",
       "<tr><td colspan=17><hr></td></tr>\n",
       "<tr><td>Elite admissions index</td><td>       1.300</td><td>** </td><td>            </td><td>   </td><td>            </td><td>   </td><td>       0.564</td><td>   </td><td>       0.730</td><td>** </td><td>            </td><td>   </td><td>            </td><td>   </td><td>       0.589</td><td>   </td></tr>\n",
       "<tr><td>                    </td><td>     (0.413)</td><td>   </td><td>            </td><td>   </td><td>            </td><td>   </td><td>     (0.411)</td><td>   </td><td>     (0.237)</td><td>   </td><td>            </td><td>   </td><td>            </td><td>   </td><td>     (0.426)</td><td>   </td></tr>\n",
       "<tr><td>Trustee network eigenvector</td><td>            </td><td>   </td><td>       6.064</td><td>** </td><td>            </td><td>   </td><td>       1.328</td><td>   </td><td>            </td><td>   </td><td>       6.658</td><td>***</td><td>            </td><td>   </td><td>       2.981</td><td>   </td></tr>\n",
       "<tr><td>                    </td><td>            </td><td>   </td><td>     (2.199)</td><td>   </td><td>            </td><td>   </td><td>     (1.903)</td><td>   </td><td>            </td><td>   </td><td>     (1.747)</td><td>   </td><td>            </td><td>   </td><td>     (1.976)</td><td>   </td></tr>\n",
       "<tr><td>top 30 private trustees</td><td>            </td><td>   </td><td>            </td><td>   </td><td>       1.794</td><td>** </td><td>      -0.088</td><td>   </td><td>            </td><td>   </td><td>            </td><td>   </td><td>       0.920</td><td>*  </td><td>      -0.110</td><td>   </td></tr>\n",
       "<tr><td>                    </td><td>            </td><td>   </td><td>            </td><td>   </td><td>     (0.590)</td><td>   </td><td>     (0.546)</td><td>   </td><td>            </td><td>   </td><td>            </td><td>   </td><td>     (0.409)</td><td>   </td><td>     (0.769)</td><td>   </td></tr>\n",
       "<tr><td>top 30 public trustees</td><td>            </td><td>   </td><td>            </td><td>   </td><td>       2.020</td><td>   </td><td>       1.891</td><td>   </td><td>            </td><td>   </td><td>            </td><td>   </td><td>       0.399</td><td>   </td><td>       0.297</td><td>   </td></tr>\n",
       "<tr><td>                    </td><td>            </td><td>   </td><td>            </td><td>   </td><td>     (1.990)</td><td>   </td><td>     (1.281)</td><td>   </td><td>            </td><td>   </td><td>            </td><td>   </td><td>     (0.940)</td><td>   </td><td>     (0.851)</td><td>   </td></tr>\n",
       "<tr><td colspan=17><hr></td></tr>\n",
       "<tr><td>R-square            </td><td>       0.665</td><td>   </td><td>       0.664</td><td>   </td><td>       0.665</td><td>   </td><td>       0.260</td><td>   </td><td>       0.042</td><td>   </td><td>       0.041</td><td>   </td><td>       0.041</td><td>   </td><td>       0.042</td><td>   </td></tr>\n",
       "<tr><td>N                   </td><td>        6706</td><td>   </td><td>        6706</td><td>   </td><td>        6706</td><td>   </td><td>        6706</td><td>   </td><td>        4089</td><td>   </td><td>        4089</td><td>   </td><td>        4089</td><td>   </td><td>        4089</td><td>   </td></tr>\n",
       "<tr><td>Firms               </td><td>        2257</td><td>   </td><td>        2257</td><td>   </td><td>        2257</td><td>   </td><td>        2257</td><td>   </td><td>        1755</td><td>   </td><td>        1755</td><td>   </td><td>        1755</td><td>   </td><td>        1755</td><td>   </td></tr>\n",
       "<tr><td colspan=17><hr></td></tr>\n",
       "<tr><td colspan=17>\n",
       "^ p<.1, * p<.05, ** p<.01, *** p<.001\n",
       "</td></tr>\n",
       "</table>\n",
       "\n",
       "Note: All models include year effects and firm fixed effects.\n",
       "\n"
      ],
      "text/plain": [
       "This front-end or document format cannot display HTML"
      ]
     },
     "metadata": {},
     "output_type": "display_data"
    }
   ],
   "source": [
    "%html\n",
    "\n",
    "display \"Appendix Table A2: Private Equity Benchmark Net Investment Rate of Returns and Trustee Network Ties\"\n",
    "esttab, type cells(b(star fmt(3)) se(fmt(3) par)) stardetach html ///\n",
    "\t legend label varlabels(_cons Constant) stats(r2 N N_clust, fmt(3 0 0) ///\n",
    "\tlabel(R-square N Firms)) keep(rejectrtindex eigenvector private public ) starlevels(^ .1 * .05 ** .01 *** .001) ///\n",
    "collabels(none) mlabels(\"2003-2017\" \"2003-2017\" \"2003-2017\" \"2003-2017\" \"2010-2017\" \"2010-2017\" \"2010-2017\" \"2010-2017\") ///\n",
    "eqlabels(none)\n",
    "\n",
    "display \"Note: All models include year effects and firm fixed effects.\""
   ]
  },
  {
   "cell_type": "code",
   "execution_count": null,
   "metadata": {},
   "outputs": [],
   "source": []
  }
 ],
 "metadata": {
  "kernelspec": {
   "display_name": "Stata",
   "language": "stata",
   "name": "stata"
  },
  "language_info": {
   "codemirror_mode": "stata",
   "file_extension": ".do",
   "mimetype": "text/x-stata",
   "name": "stata",
   "version": "15.1"
  }
 },
 "nbformat": 4,
 "nbformat_minor": 4
}
