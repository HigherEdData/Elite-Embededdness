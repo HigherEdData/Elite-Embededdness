{
 "cells": [
  {
   "cell_type": "markdown",
   "id": "e1621f20-5a42-45ee-a54c-57814783e2b4",
   "metadata": {},
   "source": [
    "## Appendix Figure A3: Count of schools' financier alumni in Forbes 400 by schools' rejection rates\n",
    "\n",
    "### From Elite Embeddedness\n",
    "\n",
    "By Charlie Eaton and Albina Gibadullina"
   ]
  },
  {
   "cell_type": "code",
   "execution_count": 1,
   "id": "c70dd22e-972c-47d5-942b-68c14c8fb4d5",
   "metadata": {},
   "outputs": [
    {
     "data": {
      "text/html": [
       "<style>div.jp-Notebook .datagrid-container {min-height: 448px; }</style>"
      ],
      "text/plain": [
       "<IPython.core.display.HTML object>"
      ]
     },
     "metadata": {},
     "output_type": "display_data"
    },
    {
     "name": "stdout",
     "output_type": "stream",
     "text": [
      "(795 observations deleted)\n"
     ]
    }
   ],
   "source": [
    "use data/d_school_level_elite_embed.dta, clear\n",
    "keep if year==2003 | year==2017\n",
    "set scheme plotplain"
   ]
  },
  {
   "cell_type": "code",
   "execution_count": 2,
   "id": "b34cb705-7d78-41e9-851b-3a6a5bc89c2d",
   "metadata": {},
   "outputs": [
    {
     "name": "stdout",
     "output_type": "stream",
     "text": [
      "(86 missing values generated)\n",
      "(26 real changes made)\n",
      "(30 real changes made)\n",
      "(30 real changes made)\n"
     ]
    }
   ],
   "source": [
    "gen typeyear2=3 if schooltypenum==2 & year==2003\n",
    "replace typeyear2=1 if schooltypenum==3 & year==2003\n",
    "replace typeyear2=4 if schooltypenum==2 & year==2017\n",
    "replace typeyear2=2 if schooltypenum==3 & year==2017\n",
    "label define typeyear2 3 \"Public 2003\" 1 \"Private 2003\" ///\n",
    "4 \"Public 2017\" 2 \"Private 2017\"\n",
    "label val typeyear2 typeyear2\n",
    "\n",
    "qui gen pctunderfirst= tefraceunder/teftotlt\n",
    "\n",
    "qui gen endow_assets_c_log=log(endowment_assets / cpi_scalar_2017)\n",
    "qui gen logtotal03_revenue=log(total03_revenue / cpi_scalar_2017)\n",
    "qui gen logfte_count=log(teftotlt)\n",
    "\n",
    "qui egen boardcount=rowtotal(pehedge otherfinance nonfinance)\n",
    "qui gen pctalt= pehedge/boardcount * 100"
   ]
  },
  {
   "cell_type": "code",
   "execution_count": 3,
   "id": "bdf56757-bc6b-42c3-ab99-fb5090810d12",
   "metadata": {},
   "outputs": [],
   "source": [
    "*gen rejectrate=(1-acceptrate)*100\n",
    "label var rejectrate \"admissions selectivity (rejection rate)\"\n",
    "label var endow_assets_c_log \"Endowment assets (log 2017 $)\"\n",
    "label var logtotal03_revenue \"University revenue (log 2017 $)\"\n",
    "label var logfte_count \"FTE students (log)\"\n",
    "label var fgrnt_p \"% students low-income\"\n",
    "label var pctunderfirst \"% students racially underrepresented\""
   ]
  },
  {
   "cell_type": "code",
   "execution_count": 4,
   "id": "0958d284-fa4c-4558-b9a2-f663b05835a3",
   "metadata": {},
   "outputs": [
    {
     "name": "stdout",
     "output_type": "stream",
     "text": [
      "graph size was (5.5in, 4in), is now (4, 4in).\n"
     ]
    }
   ],
   "source": [
    "%set graph_width = 4"
   ]
  },
  {
   "cell_type": "code",
   "execution_count": 5,
   "id": "83161661-2006-435a-8bdd-b6c7de2557f4",
   "metadata": {},
   "outputs": [
    {
     "data": {
      "image/png": "[encoded data removed]",
      "text/plain": [
       "<IPython.core.display.Image object>"
      ]
     },
     "metadata": {},
     "output_type": "display_data"
    }
   ],
   "source": [
    "tw (scatter alumnipehedge rejectrate, msym(O) mfc(white)) ///\n",
    "\t(lfit alumnipehedge rejectrate, sort lp(l) lc(red)), /// \n",
    "\t\tby(typeyear2, compact row(2) legend(off) note(\"\")) ///\n",
    "\t\tytitle(\"# Forbes 400 private equity / hedge fund alumni\") ///\n",
    "\t\txtitle(\"% admissions rejection rate\") ///\n",
    "\t\txlab(0(25)100) ylab(0(5)20)  ///\n",
    "\t\txsize(4) aspect(1) name(alt_accep, replace) "
   ]
  },
  {
   "cell_type": "code",
   "execution_count": 6,
   "id": "5d2a373f-8071-4444-bc8c-17fd3f430c2b",
   "metadata": {},
   "outputs": [
    {
     "name": "stdout",
     "output_type": "stream",
     "text": [
      "file figures/fa3_forbes_fin_alumni_rejection.pdf saved as PDF format\n"
     ]
    }
   ],
   "source": [
    "graph export figures/fa3_forbes_fin_alumni_rejection.pdf, replace"
   ]
  },
  {
   "cell_type": "markdown",
   "id": "ddc8f4ad-82af-46fb-8900-5c4a2de9d030",
   "metadata": {},
   "source": [
    "## Below we estimate and report regression coefficients and standard erros for the fitted lines shown above. The code below is also provided in the ta3 Notebook for Appendix Table 3 where we report these results. The estimates show that the fitted line coefficients are statistically significant."
   ]
  },
  {
   "cell_type": "code",
   "execution_count": 7,
   "id": "0ca5fcbc-214b-4e4c-8152-fd0b38eb1002",
   "metadata": {},
   "outputs": [],
   "source": [
    "est clear\n",
    "qui eststo: reg alumnipehedge rejectrate if schooltypenum==3 & year==2003, cluster(unitid) ro\n",
    "\n",
    "qui eststo: reg alumnipehedge rejectrate if schooltypenum==3 & year==2017, cluster(unitid) ro\n",
    "\n",
    "qui eststo: reg alumnipehedge rejectrate if schooltypenum==2 & year==2003, cluster(unitid) ro\n",
    "\n",
    "qui eststo: reg alumnipehedge rejectrate if schooltypenum==2 & year==2017, cluster(unitid) ro"
   ]
  },
  {
   "cell_type": "code",
   "execution_count": 8,
   "id": "e73d27ac-57be-4605-9344-9c58a46afef2",
   "metadata": {},
   "outputs": [
    {
     "name": "stdout",
     "output_type": "stream",
     "text": [
      "\n",
      "----------------------------------------------------------------------------------------\n",
      "                              (1)              (2)              (3)              (4)    \n",
      "                        priv 2003        priv 2017         pub 2003         pub 2017    \n",
      "----------------------------------------------------------------------------------------\n",
      "admissions selecti~o        0.070 *          0.202 *          0.036 ^          0.021 *  \n",
      "                          (0.027)          (0.076)          (0.018)          (0.009)    \n",
      "Constant                   -3.726 *        -14.529 *         -0.950 ^         -0.628 ^  \n",
      "                          (1.712)          (5.962)          (0.534)          (0.350)    \n",
      "----------------------------------------------------------------------------------------\n",
      "R-square                     0.26             0.19             0.35             0.29    \n",
      "Schools                     26.00            30.00            29.00            30.00    \n",
      "N                              26               30               29               30    \n",
      "----------------------------------------------------------------------------------------\n"
     ]
    }
   ],
   "source": [
    "set line 155\n",
    "esttab, type cells(b(star fmt(3)) se(par fmt(3))) stardetach ///\n",
    "label collabels(none) ///\n",
    "starlevels(^ .1 * .05 ** .01 *** .001) eqlabels(none) ///\n",
    "stats(r2 N_clust N, fmt(2 2 0 0) label(R-square Schools N)) ///\n",
    "mlabel(\"priv 2003\" \"priv 2017\" \"pub 2003\" \"pub 2017\" \"all w/ interaction\")"
   ]
  },
  {
   "cell_type": "markdown",
   "id": "ae047f90-eb8b-4e49-9c86-18f2a1bea1a7",
   "metadata": {},
   "source": [
    "## Below we report rejection rates and Forbes 400 PE and Hedge fund alumni counts by school in 2003 and 2017, the raw data for the scatter plots above."
   ]
  },
  {
   "cell_type": "code",
   "execution_count": 9,
   "id": "7c14478f-0c88-471b-8255-19d67d7b9518",
   "metadata": {},
   "outputs": [
    {
     "name": "stdout",
     "output_type": "stream",
     "text": [
      "\n",
      "     +----------------------------------------------------------------------+\n",
      "     |                            schoolname   reject~e   alumni~e   unitid |\n",
      "     |----------------------------------------------------------------------|\n",
      " 56. |                     boston university   74.89026          0   164988 |\n",
      " 57. |                   brandeis university   65.77937          0   165015 |\n",
      " 58. |                      brown university    91.5075          0   217156 |\n",
      " 59. |    california institute of technology   92.26053          0   110404 |\n",
      " 60. |            carnegie mellon university   77.80163          1   211440 |\n",
      "     |----------------------------------------------------------------------|\n",
      " 61. |       case western reserve university   66.88338          0   201645 |\n",
      " 62. |                   columbia university   93.39157          7   190150 |\n",
      " 63. |                    cornell university   87.32541          3   190415 |\n",
      " 64. |                     dartmouth college   89.55328          4   182670 |\n",
      " 65. |                       duke university   90.14118          3   198419 |\n",
      "     |----------------------------------------------------------------------|\n",
      " 66. |                      emory university   77.95932          0   139658 |\n",
      " 67. |                 georgetown university   84.32113          0   131496 |\n",
      " 68. |                    harvard university   94.84382         17   166027 |\n",
      " 69. |              johns hopkins university   87.46133          0   162928 |\n",
      " 70. | massachusetts institute of technology   92.82857          2   166683 |\n",
      "     |----------------------------------------------------------------------|\n",
      " 71. |                   new york university   72.33584          4   193900 |\n",
      " 72. |               northeastern university   72.55806          0   167358 |\n",
      " 73. |               northwestern university   90.76196          2   147767 |\n",
      " 74. |                  princeton university   93.59222          1   186131 |\n",
      " 75. |                       rice university   84.14439          1   227757 |\n",
      "     |----------------------------------------------------------------------|\n",
      " 76. |                   stanford university   95.26921          8   243744 |\n",
      " 77. |                      tufts university   85.08601          0   168148 |\n",
      " 78. |                 university of chicago   91.26526          3   144050 |\n",
      " 79. |              university of notre dame   81.07749          0   152080 |\n",
      " 80. |            university of pennsylvania   90.70348         14   215062 |\n",
      "     |----------------------------------------------------------------------|\n",
      " 81. |               university of rochester   65.78864          1   195030 |\n",
      " 82. |     university of southern california   84.04616          1   123961 |\n",
      " 83. |                 vanderbilt university   89.14564          1   221999 |\n",
      " 84. |     washington university in st louis   84.03637          0   179867 |\n",
      " 85. |                       yale university   93.07461          5   130794 |\n",
      "     +----------------------------------------------------------------------+\n"
     ]
    }
   ],
   "source": [
    "gsort year -schooltypenum schoolname\n",
    "list schoolname rejectrate alumnipehedge unitid if year==2017 & schooltypenum==3"
   ]
  },
  {
   "cell_type": "code",
   "execution_count": 10,
   "id": "e1556b30-4184-4365-83b4-bd266fb4f0c9",
   "metadata": {},
   "outputs": [
    {
     "name": "stdout",
     "output_type": "stream",
     "text": [
      "\n",
      "     +----------------------------------------------------------------------+\n",
      "     |                            schoolname   reject~e   alumni~e   unitid |\n",
      "     |----------------------------------------------------------------------|\n",
      "  1. |    california institute of technology   83.06741          0   110404 |\n",
      "  2. |            carnegie mellon university   61.56079          0   211440 |\n",
      "  3. |       case western reserve university   24.67949          0   201645 |\n",
      "  4. |                   columbia university    86.4191          5   190150 |\n",
      "  5. |                    cornell university   69.01326          1   190415 |\n",
      "     |----------------------------------------------------------------------|\n",
      "  6. |                     dartmouth college   81.82201          0   182670 |\n",
      "  7. |                       duke university    76.8434          0   198419 |\n",
      "  8. |                      emory university    57.6872          0   139658 |\n",
      "  9. |                 georgetown university   77.26978          0   131496 |\n",
      " 10. |                    harvard university   90.01763          8   166027 |\n",
      "     |----------------------------------------------------------------------|\n",
      " 11. |              johns hopkins university   69.40038          0   162928 |\n",
      " 12. | massachusetts institute of technology   83.55294          0   166683 |\n",
      " 13. |                   new york university   67.89732          2   193900 |\n",
      " 14. |               northeastern university   38.63943          0   167358 |\n",
      " 15. |               northwestern university   67.08675          0   147767 |\n",
      "     |----------------------------------------------------------------------|\n",
      " 16. |                  princeton university    89.8194          3   186131 |\n",
      " 17. |                       rice university   75.73618          0   227757 |\n",
      " 18. |                   stanford university   87.42216          3   243744 |\n",
      " 19. |                      tufts university    73.6353          0   168148 |\n",
      " 20. |                 university of chicago   60.38462          0   144050 |\n",
      "     |----------------------------------------------------------------------|\n",
      " 21. |            university of pennsylvania   79.62402          5   215062 |\n",
      " 22. |               university of rochester    52.6843          0   195030 |\n",
      " 23. |     university of southern california   70.10384          1   123961 |\n",
      " 24. |                 vanderbilt university   53.74136          0   221999 |\n",
      " 25. |     washington university in st louis   79.97841          0   179867 |\n",
      "     |----------------------------------------------------------------------|\n",
      " 26. |                       yale university   87.01022          5   130794 |\n",
      "     +----------------------------------------------------------------------+\n"
     ]
    }
   ],
   "source": [
    "gsort year -schooltypenum schoolname\n",
    "list schoolname rejectrate alumnipehedge unitid if year==2003 & schooltypenum==3"
   ]
  },
  {
   "cell_type": "code",
   "execution_count": 11,
   "id": "cf877cc7-79c3-426b-a05c-3d4a19907915",
   "metadata": {},
   "outputs": [
    {
     "name": "stdout",
     "output_type": "stream",
     "text": [
      "\n",
      "     +----------------------------------------------------------------------------+\n",
      "     |                                  schoolname   reject~e   alumni~e   unitid |\n",
      "     |----------------------------------------------------------------------------|\n",
      "  1. |                        arizona state system   16.42169          0   104179 |\n",
      "  2. |                    florida state university   50.80942          0   134097 |\n",
      "  3. |                   georgia university system     45.988          0   139959 |\n",
      "  4. |                   indiana university system    23.9896          0   151351 |\n",
      "  5. |                  maryland university system   55.49791          0   163286 |\n",
      "     |----------------------------------------------------------------------------|\n",
      "  6. |                   michigan state university   28.45088          1   171100 |\n",
      "  7. |                       ohio state university   51.94006          0   204796 |\n",
      "  8. |               pennsylvania state university   49.68636          0   214777 |\n",
      "  9. |            purdue university west lafayette   42.53151          0   243780 |\n",
      " 10. | rutgers, the state university of new jersey   42.19987          0   186380 |\n",
      "     |----------------------------------------------------------------------------|\n",
      " 11. |        state university of new york buffalo   57.80874          1   196097 |\n",
      " 12. |                        texas a&m university   29.46085          0   228723 |\n",
      " 13. |             university of california system   82.89239          3   110635 |\n",
      " 14. |                    university of cincinnati   23.50762          0   201885 |\n",
      " 15. |                      university of colorado   20.15879          0   126614 |\n",
      "     |----------------------------------------------------------------------------|\n",
      " 16. |                      university of delaware    37.1147          0   130943 |\n",
      " 17. |                       university of florida   57.98699          0   134130 |\n",
      " 18. |              university of hawai'i at mānoa   16.84508          0   141574 |\n",
      " 19. |               university of illinois system   38.47298          0   145637 |\n",
      " 20. |                          university of iowa    13.9612          0   153658 |\n",
      "     |----------------------------------------------------------------------------|\n",
      " 21. |         university of massachusetts amherst   42.42085          0   166629 |\n",
      " 22. |               university of michigan system   73.49798          0   170976 |\n",
      " 23. |                     university of minnesota   50.40942          0   174066 |\n",
      " 24. |         university of north carolina system   75.60403          1   199120 |\n",
      " 25. |                 university of south florida   54.63937          0   137351 |\n",
      "     |----------------------------------------------------------------------------|\n",
      " 26. |                  university of texas system    63.5138          0   228778 |\n",
      " 27. |                          university of utah   33.84821          0   230764 |\n",
      " 28. |               university of virginia system   72.65287          2   234076 |\n",
      " 29. |             university of washington system   53.57756          1   236948 |\n",
      " 30. |              university of wisconsin system   46.19339          0   240444 |\n",
      "     +----------------------------------------------------------------------------+\n"
     ]
    }
   ],
   "source": [
    "set line 200\n",
    "gsort -year schooltypenum schoolname\n",
    "list schoolname rejectrate alumnipehedge unitid if year==2017 & schooltypenum==2"
   ]
  },
  {
   "cell_type": "code",
   "execution_count": 12,
   "id": "86022d60-a7e1-4239-bb1a-200e4c8f40ef",
   "metadata": {},
   "outputs": [
    {
     "name": "stdout",
     "output_type": "stream",
     "text": [
      "\n",
      "     +----------------------------------------------------------------------------+\n",
      "     |                                  schoolname   reject~e   alumni~e   unitid |\n",
      "     |----------------------------------------------------------------------------|\n",
      "  1. |                    florida state university   35.53347          0   134097 |\n",
      "  2. |                   georgia university system   24.78625          0   139959 |\n",
      "  3. |                   indiana university system   18.87456          0   151351 |\n",
      "  4. |                  maryland university system   57.33179          0   163286 |\n",
      "  5. |                   michigan state university    29.1635          1   171100 |\n",
      "     |----------------------------------------------------------------------------|\n",
      "  6. |                       ohio state university   27.96938          0   204796 |\n",
      "  7. |               pennsylvania state university   43.38502          0   214777 |\n",
      "  8. |            purdue university west lafayette   21.33002          0   243780 |\n",
      "  9. | rutgers, the state university of new jersey   45.60068          0   186380 |\n",
      " 10. |        state university of new york buffalo   49.35241          0   196097 |\n",
      "     |----------------------------------------------------------------------------|\n",
      " 11. |                        texas a&m university   32.52753          0   228723 |\n",
      " 12. |             university of california system   76.10921          5   110635 |\n",
      " 13. |                    university of cincinnati   12.38509          0   201885 |\n",
      " 14. |                      university of colorado   19.74187          0   126614 |\n",
      " 15. |                      university of delaware   57.91553          0   130943 |\n",
      "     |----------------------------------------------------------------------------|\n",
      " 16. |                       university of florida   47.63853          0   134130 |\n",
      " 17. |              university of hawai'i at mānoa   27.22279          0   141574 |\n",
      " 18. |               university of illinois system   39.84361          0   145637 |\n",
      " 19. |                          university of iowa   17.68014          0   153658 |\n",
      " 20. |         university of massachusetts amherst   18.05454          0   166629 |\n",
      "     |----------------------------------------------------------------------------|\n",
      " 21. |               university of michigan system   46.75249          1   170976 |\n",
      " 22. |                     university of minnesota   23.98719          0   174066 |\n",
      " 23. |         university of north carolina system   64.57033          1   199120 |\n",
      " 24. |                 university of south florida   38.24156          0   137351 |\n",
      " 25. |                  university of texas system   53.08128          2   228778 |\n",
      "     |----------------------------------------------------------------------------|\n",
      " 26. |                          university of utah   13.79665          0   230764 |\n",
      " 27. |               university of virginia system   60.51822          1   234076 |\n",
      " 28. |             university of washington system   29.27154          0   236948 |\n",
      " 29. |              university of wisconsin system   34.17439          0   240444 |\n",
      "     +----------------------------------------------------------------------------+\n"
     ]
    }
   ],
   "source": [
    "set line 200\n",
    "gsort year schooltypenum schoolname\n",
    "list schoolname rejectrate alumnipehedge unitid if year==2003 & schooltypenum==2"
   ]
  }
 ],
 "metadata": {
  "kernelspec": {
   "display_name": "Stata (nbstata)",
   "language": "stata",
   "name": "nbstata"
  },
  "language_info": {
   "file_extension": ".do",
   "mimetype": "text/x-stata",
   "name": "stata",
   "version": "17"
  }
 },
 "nbformat": 4,
 "nbformat_minor": 5
}
