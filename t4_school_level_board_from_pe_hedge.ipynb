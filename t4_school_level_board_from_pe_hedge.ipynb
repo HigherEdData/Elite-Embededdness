{
 "cells": [
  {
   "cell_type": "markdown",
   "id": "e1621f20-5a42-45ee-a54c-57814783e2b4",
   "metadata": {},
   "source": [
    "## Table 4: Percent Board Members From Private Equity and Hedge Funds, Admission Rates\n",
    "\n",
    "### From Elite Embeddedness\n",
    "\n",
    "By Charlie Eaton and Albina Gibadullina"
   ]
  },
  {
   "cell_type": "code",
   "execution_count": 1,
   "id": "c70dd22e-972c-47d5-942b-68c14c8fb4d5",
   "metadata": {},
   "outputs": [
    {
     "data": {
      "text/html": [
       "<style>div.jp-Notebook .datagrid-container {min-height: 448px; }</style>"
      ],
      "text/plain": [
       "<IPython.core.display.HTML object>"
      ]
     },
     "metadata": {},
     "output_type": "display_data"
    }
   ],
   "source": [
    "use data/d_school_level_elite_embed.dta, clear"
   ]
  },
  {
   "cell_type": "code",
   "execution_count": 2,
   "id": "b34cb705-7d78-41e9-851b-3a6a5bc89c2d",
   "metadata": {},
   "outputs": [
    {
     "name": "stdout",
     "output_type": "stream",
     "text": [
      "(23 observations deleted)\n"
     ]
    }
   ],
   "source": [
    "drop if year<2003"
   ]
  },
  {
   "cell_type": "code",
   "execution_count": 3,
   "id": "bdf56757-bc6b-42c3-ab99-fb5090810d12",
   "metadata": {},
   "outputs": [
    {
     "name": "stdout",
     "output_type": "stream",
     "text": [
      "(887 real changes made)\n"
     ]
    }
   ],
   "source": [
    "replace acceptrate=(1-acceptrate)*100\n",
    "label var acceptrate \"admissions selectivity (rejection rate)\""
   ]
  },
  {
   "cell_type": "code",
   "execution_count": 4,
   "id": "83161661-2006-435a-8bdd-b6c7de2557f4",
   "metadata": {},
   "outputs": [],
   "source": [
    "qui gen pctunderfirst= pefraceunder\n",
    "\n",
    "qui gen endow_assets_c_log=log(endowment_assets / cpi_scalar_2017)\n",
    "qui gen logtotal03_revenue=log(total03_revenue / cpi_scalar_2017)\n",
    "qui gen logfte_count=log(fte_count)\n",
    "\n",
    "qui egen boardcount=rowtotal(pehedge otherfinance nonfinance)\n",
    "qui gen pctalt= pehedge/boardcount * 100\n"
   ]
  },
  {
   "cell_type": "code",
   "execution_count": 5,
   "id": "82ef26af-0f67-4ee5-9bf6-e28642c7ec22",
   "metadata": {},
   "outputs": [
    {
     "name": "stdout",
     "output_type": "stream",
     "text": [
      "\n",
      "           |     schooltypenum\n",
      "      year |    public    private |     Total\n",
      "-----------+----------------------+----------\n",
      "      2003 |        29         26 |        55 \n",
      "      2004 |        29         28 |        57 \n",
      "      2005 |        29         28 |        57 \n",
      "      2006 |        30         29 |        59 \n",
      "      2007 |        30         29 |        59 \n",
      "      2008 |        30         30 |        60 \n",
      "      2009 |        30         30 |        60 \n",
      "      2010 |        30         30 |        60 \n",
      "      2011 |        30         30 |        60 \n",
      "      2012 |        30         30 |        60 \n",
      "      2013 |        30         30 |        60 \n",
      "      2014 |        30         30 |        60 \n",
      "      2015 |        30         30 |        60 \n",
      "      2016 |        30         30 |        60 \n",
      "      2017 |        30         30 |        60 \n",
      "-----------+----------------------+----------\n",
      "     Total |       447        440 |       887 \n"
     ]
    }
   ],
   "source": [
    "tab year schooltypenum"
   ]
  },
  {
   "cell_type": "code",
   "execution_count": 6,
   "id": "ab2d617c-0958-4f92-8b28-9a6efff2ae2f",
   "metadata": {},
   "outputs": [],
   "source": [
    "label var endow_assets_c_log \"Endowment assets (log 2017 $)\"\n",
    "label var logtotal03_revenue \"University revenue (log 2017 $)\"\n",
    "label var logfte_count \"FTE students (log)\"\n",
    "label var fgrnt_p \"% students low-income\"\n",
    "label var pctunderfirst \"% students racially underrepresented\""
   ]
  },
  {
   "cell_type": "code",
   "execution_count": 7,
   "id": "f2319792-f3f4-48c2-9a6a-8dfa1a1e284d",
   "metadata": {},
   "outputs": [],
   "source": [
    "qui est clear\n",
    "\n",
    "qui xtset unitid year\n",
    "\n",
    "qui eststo: reghdfe pctalt acceptrate, absorb(unitid year) cluster(unitid)\n",
    "\n",
    "qui eststo: reghdfe pctalt acceptrate 3.schooltypenum#c.acceptrate, absorb(unitid year) cluster(unitid)\n",
    "\n",
    "qui eststo: reghdfe pctalt logfte_count  pctunderfirst fgrnt_p  ///\n",
    "logtotal03_revenue endow_assets_c_log ///\n",
    "acceptrate 3.schooltypenum#c.acceptrate, absorb(unitid year) cluster(unitid)"
   ]
  },
  {
   "cell_type": "code",
   "execution_count": 8,
   "id": "88ece30b-4fd8-4776-a3cf-26eef8a13828",
   "metadata": {},
   "outputs": [
    {
     "name": "stdout",
     "output_type": "stream",
     "text": [
      "Table 4: Percent Board Members From Private Equity and Hedge Funds\n",
      "\n",
      "-----------------------------------------------------------------------\n",
      "                              (1)              (2)              (3)    \n",
      "-----------------------------------------------------------------------\n",
      "admissions selecti~o        0.107 **        -0.011            0.025    \n",
      "                          (0.038)          (0.035)          (0.036)    \n",
      "private # admissio~y                         0.251 ***        0.215 ** \n",
      "                                           (0.066)          (0.066)    \n",
      "FTE students (log)                                            2.939    \n",
      "                                                            (5.172)    \n",
      "% students raciall~e                                          0.143 ^  \n",
      "                                                            (0.082)    \n",
      "% students low-inc~e                                          0.019    \n",
      "                                                            (0.083)    \n",
      "University revenue~)                                          0.628    \n",
      "                                                            (0.656)    \n",
      "Endowment assets (~)                                         -0.278 ^  \n",
      "                                                            (0.152)    \n",
      "-----------------------------------------------------------------------\n",
      "R-square-within              0.02             0.08             0.10    \n",
      "Schools                        60               60               60    \n",
      "N                             887              887              875    \n",
      "-----------------------------------------------------------------------\n"
     ]
    }
   ],
   "source": [
    "display \"Table 4: Percent Board Members From Private Equity and Hedge Funds\"\n",
    "esttab, type cells(b(star fmt(3)) se(par fmt(3))) stardetach ///\n",
    "label collabels(none)  ///\n",
    "keep(acceptrate 3.schooltypenum#c.acceptrate logfte_count pctunderfirst fgrnt_p logtotal03_revenue endow_assets_c_log)  ///\n",
    "order(acceptrate 3.schooltypenum#c.acceptrate logfte_count pctunderfirst fgrnt_p logtotal03_revenue endow_assets_c_log) ///\n",
    "starlevels(^ .1 * .05 ** .01 *** .001) eqlabels(none) mlabels(none) ///\n",
    "stats(r2_within N_clust N, fmt(2 0 0) label(R-square-within Schools N)) "
   ]
  },
  {
   "cell_type": "code",
   "execution_count": 9,
   "id": "86e50076-4f7e-4bef-b443-365918d20f50",
   "metadata": {},
   "outputs": [],
   "source": [
    "qui esttab using tables/t4_school_admissions.rtf, type cells(b(star fmt(3)) se(par fmt(3))) stardetach ///\n",
    "label collabels(none) rtf replace ///\n",
    "keep(acceptrate 3.schooltypenum#c.acceptrate logfte_count pctunderfirst fgrnt_p logtotal03_revenue endow_assets_c_log)  ///\n",
    "order(acceptrate 3.schooltypenum#c.acceptrate logfte_count pctunderfirst fgrnt_p logtotal03_revenue endow_assets_c_log) ///\n",
    "starlevels(^ .1 * .05 ** .01 *** .001) eqlabels(none) mlabels(none) ///\n",
    "stats(r2_within N_clust N, fmt(2 0 0) label(R-square-within Schools N)) "
   ]
  }
 ],
 "metadata": {
  "kernelspec": {
   "display_name": "Stata (nbstata)",
   "language": "stata",
   "name": "nbstata"
  },
  "language_info": {
   "file_extension": ".do",
   "mimetype": "text/x-stata",
   "name": "stata",
   "version": "17"
  }
 },
 "nbformat": 4,
 "nbformat_minor": 5
}
